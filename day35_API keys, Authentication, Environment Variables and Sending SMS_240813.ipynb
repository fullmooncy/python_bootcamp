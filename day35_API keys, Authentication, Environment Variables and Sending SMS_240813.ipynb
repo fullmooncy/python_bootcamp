{
 "cells": [
  {
   "cell_type": "code",
   "execution_count": null,
   "id": "204d95e8-c234-435a-9bc4-b4ddcaad4287",
   "metadata": {},
   "outputs": [],
   "source": [
    "# day35_API keys, Authentication, Environment Variables and Sending SMS_240813"
   ]
  },
  {
   "cell_type": "code",
   "execution_count": null,
   "id": "31347ab9-fe3f-4379-b240-1d21d0540024",
   "metadata": {},
   "outputs": [],
   "source": [
    "# API Authentication\n",
    "# how to authenticate ourselves with an API provider\n",
    "# we can access more secure and more valuable data from the API providers\n",
    "# there's other types of data that are very valuable\n",
    "# you need to pay to use some of APIs\n",
    "# Why do people charge for APIs?\n",
    "# It costs to produce data\n",
    "# Selling Data\n",
    "# way to prevent abusing API calling freely is API key(like personal account number and password)\n",
    "# API provider can track how much using API"
   ]
  },
  {
   "cell_type": "code",
   "execution_count": 5,
   "id": "8e3cbd0e-336d-4fb9-93c5-f7836ffb4277",
   "metadata": {},
   "outputs": [
    {
     "name": "stdout",
     "output_type": "stream",
     "text": [
      "{'coord': {'lon': 129.3729, 'lat': 36.0282}, 'weather': [{'id': 800, 'main': 'Clear', 'description': 'clear sky', 'icon': '01d'}], 'base': 'stations', 'main': {'temp': 303.09, 'feels_like': 305.67, 'temp_min': 303.09, 'temp_max': 303.09, 'pressure': 1008, 'humidity': 59, 'sea_level': 1008, 'grnd_level': 1008}, 'visibility': 10000, 'wind': {'speed': 4.62, 'deg': 53, 'gust': 5.36}, 'clouds': {'all': 2}, 'dt': 1723521620, 'sys': {'country': 'KR', 'sunrise': 1723495159, 'sunset': 1723544138}, 'timezone': 32400, 'id': 1839071, 'name': 'Pohang', 'cod': 200}\n"
     ]
    }
   ],
   "source": [
    "# rain_alert\n",
    "import requests\n",
    "OWM_Endpoint = \"https://api.openweathermap.org/data/2.5/weather\"\n",
    "api_key = \"#####\"\n",
    "\n",
    "parameters = {\n",
    "    \"lat\": 36.030739,\n",
    "    \"lon\": 129.373428,\n",
    "    \"appid\": api_key,\n",
    "}\n",
    "\n",
    "response = requests.get(url=OWM_Endpoint, params=parameters)\n",
    "response.raise_for_status()\n",
    "data = response.json()\n",
    "print(data)"
   ]
  },
  {
   "cell_type": "code",
   "execution_count": 7,
   "id": "aab7d8c3-ac6e-411f-a132-e950cfe68b7e",
   "metadata": {},
   "outputs": [
    {
     "name": "stdout",
     "output_type": "stream",
     "text": [
      "{'cod': '200', 'message': 0, 'cnt': 40, 'list': [{'dt': 1723528800, 'main': {'temp': 302.79, 'feels_like': 305.49, 'temp_min': 302.52, 'temp_max': 302.79, 'pressure': 1009, 'sea_level': 1009, 'grnd_level': 1008, 'humidity': 61, 'temp_kf': 0.27}, 'weather': [{'id': 800, 'main': 'Clear', 'description': 'clear sky', 'icon': '01d'}], 'clouds': {'all': 2}, 'wind': {'speed': 5.08, 'deg': 51, 'gust': 5.98}, 'visibility': 10000, 'pop': 0, 'sys': {'pod': 'd'}, 'dt_txt': '2024-08-13 06:00:00'}, {'dt': 1723539600, 'main': {'temp': 301.32, 'feels_like': 304.01, 'temp_min': 300.52, 'temp_max': 301.32, 'pressure': 1009, 'sea_level': 1009, 'grnd_level': 1008, 'humidity': 69, 'temp_kf': 0.8}, 'weather': [{'id': 800, 'main': 'Clear', 'description': 'clear sky', 'icon': '01d'}], 'clouds': {'all': 1}, 'wind': {'speed': 3.7, 'deg': 55, 'gust': 5.28}, 'visibility': 10000, 'pop': 0, 'sys': {'pod': 'd'}, 'dt_txt': '2024-08-13 09:00:00'}, {'dt': 1723550400, 'main': {'temp': 297.77, 'feels_like': 298.59, 'temp_min': 297.77, 'temp_max': 297.77, 'pressure': 1010, 'sea_level': 1010, 'grnd_level': 1009, 'humidity': 88, 'temp_kf': 0}, 'weather': [{'id': 800, 'main': 'Clear', 'description': 'clear sky', 'icon': '01n'}], 'clouds': {'all': 2}, 'wind': {'speed': 2.03, 'deg': 32, 'gust': 3.44}, 'visibility': 10000, 'pop': 0, 'sys': {'pod': 'n'}, 'dt_txt': '2024-08-13 12:00:00'}, {'dt': 1723561200, 'main': {'temp': 297.25, 'feels_like': 298.04, 'temp_min': 297.25, 'temp_max': 297.25, 'pressure': 1009, 'sea_level': 1009, 'grnd_level': 1009, 'humidity': 89, 'temp_kf': 0}, 'weather': [{'id': 800, 'main': 'Clear', 'description': 'clear sky', 'icon': '01n'}], 'clouds': {'all': 10}, 'wind': {'speed': 1.57, 'deg': 16, 'gust': 2.25}, 'visibility': 10000, 'pop': 0, 'sys': {'pod': 'n'}, 'dt_txt': '2024-08-13 15:00:00'}, {'dt': 1723572000, 'main': {'temp': 297.34, 'feels_like': 298.11, 'temp_min': 297.34, 'temp_max': 297.34, 'pressure': 1009, 'sea_level': 1009, 'grnd_level': 1009, 'humidity': 88, 'temp_kf': 0}, 'weather': [{'id': 801, 'main': 'Clouds', 'description': 'few clouds', 'icon': '02n'}], 'clouds': {'all': 24}, 'wind': {'speed': 1.94, 'deg': 358, 'gust': 2.41}, 'visibility': 10000, 'pop': 0, 'sys': {'pod': 'n'}, 'dt_txt': '2024-08-13 18:00:00'}, {'dt': 1723582800, 'main': {'temp': 297.23, 'feels_like': 298.02, 'temp_min': 297.23, 'temp_max': 297.23, 'pressure': 1009, 'sea_level': 1009, 'grnd_level': 1009, 'humidity': 89, 'temp_kf': 0}, 'weather': [{'id': 803, 'main': 'Clouds', 'description': 'broken clouds', 'icon': '04d'}], 'clouds': {'all': 60}, 'wind': {'speed': 2.66, 'deg': 350, 'gust': 3.46}, 'visibility': 10000, 'pop': 0, 'sys': {'pod': 'd'}, 'dt_txt': '2024-08-13 21:00:00'}, {'dt': 1723593600, 'main': {'temp': 300.19, 'feels_like': 302.88, 'temp_min': 300.19, 'temp_max': 300.19, 'pressure': 1010, 'sea_level': 1010, 'grnd_level': 1009, 'humidity': 79, 'temp_kf': 0}, 'weather': [{'id': 803, 'main': 'Clouds', 'description': 'broken clouds', 'icon': '04d'}], 'clouds': {'all': 63}, 'wind': {'speed': 3.82, 'deg': 26, 'gust': 5.52}, 'visibility': 10000, 'pop': 0, 'sys': {'pod': 'd'}, 'dt_txt': '2024-08-14 00:00:00'}, {'dt': 1723604400, 'main': {'temp': 301.64, 'feels_like': 305.45, 'temp_min': 301.64, 'temp_max': 301.64, 'pressure': 1009, 'sea_level': 1009, 'grnd_level': 1009, 'humidity': 74, 'temp_kf': 0}, 'weather': [{'id': 500, 'main': 'Rain', 'description': 'light rain', 'icon': '10d'}], 'clouds': {'all': 98}, 'wind': {'speed': 4.46, 'deg': 33, 'gust': 5.58}, 'visibility': 10000, 'pop': 0.27, 'rain': {'3h': 0.12}, 'sys': {'pod': 'd'}, 'dt_txt': '2024-08-14 03:00:00'}, {'dt': 1723615200, 'main': {'temp': 302.51, 'feels_like': 306.89, 'temp_min': 302.51, 'temp_max': 302.51, 'pressure': 1008, 'sea_level': 1008, 'grnd_level': 1008, 'humidity': 71, 'temp_kf': 0}, 'weather': [{'id': 500, 'main': 'Rain', 'description': 'light rain', 'icon': '10d'}], 'clouds': {'all': 89}, 'wind': {'speed': 5.01, 'deg': 39, 'gust': 5.53}, 'visibility': 10000, 'pop': 0.33, 'rain': {'3h': 0.12}, 'sys': {'pod': 'd'}, 'dt_txt': '2024-08-14 06:00:00'}, {'dt': 1723626000, 'main': {'temp': 300.73, 'feels_like': 304.1, 'temp_min': 300.73, 'temp_max': 300.73, 'pressure': 1008, 'sea_level': 1008, 'grnd_level': 1007, 'humidity': 79, 'temp_kf': 0}, 'weather': [{'id': 802, 'main': 'Clouds', 'description': 'scattered clouds', 'icon': '03d'}], 'clouds': {'all': 34}, 'wind': {'speed': 4.45, 'deg': 40, 'gust': 6.33}, 'visibility': 10000, 'pop': 0.11, 'sys': {'pod': 'd'}, 'dt_txt': '2024-08-14 09:00:00'}, {'dt': 1723636800, 'main': {'temp': 298.64, 'feels_like': 299.57, 'temp_min': 298.64, 'temp_max': 298.64, 'pressure': 1009, 'sea_level': 1009, 'grnd_level': 1009, 'humidity': 89, 'temp_kf': 0}, 'weather': [{'id': 801, 'main': 'Clouds', 'description': 'few clouds', 'icon': '02n'}], 'clouds': {'all': 20}, 'wind': {'speed': 3.57, 'deg': 25, 'gust': 6.7}, 'visibility': 10000, 'pop': 0.19, 'sys': {'pod': 'n'}, 'dt_txt': '2024-08-14 12:00:00'}, {'dt': 1723647600, 'main': {'temp': 297.85, 'feels_like': 298.75, 'temp_min': 297.85, 'temp_max': 297.85, 'pressure': 1009, 'sea_level': 1009, 'grnd_level': 1009, 'humidity': 91, 'temp_kf': 0}, 'weather': [{'id': 500, 'main': 'Rain', 'description': 'light rain', 'icon': '10n'}], 'clouds': {'all': 17}, 'wind': {'speed': 3.07, 'deg': 4, 'gust': 4.89}, 'visibility': 10000, 'pop': 0.29, 'rain': {'3h': 0.25}, 'sys': {'pod': 'n'}, 'dt_txt': '2024-08-14 15:00:00'}, {'dt': 1723658400, 'main': {'temp': 297.52, 'feels_like': 298.39, 'temp_min': 297.52, 'temp_max': 297.52, 'pressure': 1009, 'sea_level': 1009, 'grnd_level': 1008, 'humidity': 91, 'temp_kf': 0}, 'weather': [{'id': 500, 'main': 'Rain', 'description': 'light rain', 'icon': '10n'}], 'clouds': {'all': 35}, 'wind': {'speed': 3.06, 'deg': 359, 'gust': 4.64}, 'visibility': 10000, 'pop': 0.29, 'rain': {'3h': 0.22}, 'sys': {'pod': 'n'}, 'dt_txt': '2024-08-14 18:00:00'}, {'dt': 1723669200, 'main': {'temp': 297.05, 'feels_like': 297.87, 'temp_min': 297.05, 'temp_max': 297.05, 'pressure': 1009, 'sea_level': 1009, 'grnd_level': 1008, 'humidity': 91, 'temp_kf': 0}, 'weather': [{'id': 802, 'main': 'Clouds', 'description': 'scattered clouds', 'icon': '03d'}], 'clouds': {'all': 49}, 'wind': {'speed': 2.85, 'deg': 358, 'gust': 4.04}, 'visibility': 10000, 'pop': 0.11, 'sys': {'pod': 'd'}, 'dt_txt': '2024-08-14 21:00:00'}, {'dt': 1723680000, 'main': {'temp': 300.71, 'feels_like': 303.44, 'temp_min': 300.71, 'temp_max': 300.71, 'pressure': 1009, 'sea_level': 1009, 'grnd_level': 1009, 'humidity': 74, 'temp_kf': 0}, 'weather': [{'id': 802, 'main': 'Clouds', 'description': 'scattered clouds', 'icon': '03d'}], 'clouds': {'all': 43}, 'wind': {'speed': 4.14, 'deg': 31, 'gust': 5.34}, 'visibility': 10000, 'pop': 0.08, 'sys': {'pod': 'd'}, 'dt_txt': '2024-08-15 00:00:00'}, {'dt': 1723690800, 'main': {'temp': 301.23, 'feels_like': 304.11, 'temp_min': 301.23, 'temp_max': 301.23, 'pressure': 1009, 'sea_level': 1009, 'grnd_level': 1008, 'humidity': 71, 'temp_kf': 0}, 'weather': [{'id': 804, 'main': 'Clouds', 'description': 'overcast clouds', 'icon': '04d'}], 'clouds': {'all': 86}, 'wind': {'speed': 4.35, 'deg': 38, 'gust': 5.01}, 'visibility': 10000, 'pop': 0, 'sys': {'pod': 'd'}, 'dt_txt': '2024-08-15 03:00:00'}, {'dt': 1723701600, 'main': {'temp': 302.36, 'feels_like': 305.77, 'temp_min': 302.36, 'temp_max': 302.36, 'pressure': 1007, 'sea_level': 1007, 'grnd_level': 1007, 'humidity': 67, 'temp_kf': 0}, 'weather': [{'id': 803, 'main': 'Clouds', 'description': 'broken clouds', 'icon': '04d'}], 'clouds': {'all': 78}, 'wind': {'speed': 4.66, 'deg': 41, 'gust': 5.12}, 'visibility': 10000, 'pop': 0, 'sys': {'pod': 'd'}, 'dt_txt': '2024-08-15 06:00:00'}, {'dt': 1723712400, 'main': {'temp': 300.57, 'feels_like': 303.27, 'temp_min': 300.57, 'temp_max': 300.57, 'pressure': 1007, 'sea_level': 1007, 'grnd_level': 1007, 'humidity': 75, 'temp_kf': 0}, 'weather': [{'id': 800, 'main': 'Clear', 'description': 'clear sky', 'icon': '01d'}], 'clouds': {'all': 8}, 'wind': {'speed': 3.91, 'deg': 40, 'gust': 5.53}, 'visibility': 10000, 'pop': 0, 'sys': {'pod': 'd'}, 'dt_txt': '2024-08-15 09:00:00'}, {'dt': 1723723200, 'main': {'temp': 298.12, 'feels_like': 299.02, 'temp_min': 298.12, 'temp_max': 298.12, 'pressure': 1009, 'sea_level': 1009, 'grnd_level': 1008, 'humidity': 90, 'temp_kf': 0}, 'weather': [{'id': 800, 'main': 'Clear', 'description': 'clear sky', 'icon': '01n'}], 'clouds': {'all': 9}, 'wind': {'speed': 2.63, 'deg': 28, 'gust': 4.91}, 'visibility': 10000, 'pop': 0, 'sys': {'pod': 'n'}, 'dt_txt': '2024-08-15 12:00:00'}, {'dt': 1723734000, 'main': {'temp': 297.62, 'feels_like': 298.52, 'temp_min': 297.62, 'temp_max': 297.62, 'pressure': 1008, 'sea_level': 1008, 'grnd_level': 1008, 'humidity': 92, 'temp_kf': 0}, 'weather': [{'id': 802, 'main': 'Clouds', 'description': 'scattered clouds', 'icon': '03n'}], 'clouds': {'all': 28}, 'wind': {'speed': 2.2, 'deg': 355, 'gust': 2.98}, 'visibility': 10000, 'pop': 0, 'sys': {'pod': 'n'}, 'dt_txt': '2024-08-15 15:00:00'}, {'dt': 1723744800, 'main': {'temp': 297.16, 'feels_like': 298.02, 'temp_min': 297.16, 'temp_max': 297.16, 'pressure': 1008, 'sea_level': 1008, 'grnd_level': 1007, 'humidity': 92, 'temp_kf': 0}, 'weather': [{'id': 801, 'main': 'Clouds', 'description': 'few clouds', 'icon': '02n'}], 'clouds': {'all': 18}, 'wind': {'speed': 2.58, 'deg': 341, 'gust': 3.75}, 'visibility': 10000, 'pop': 0.08, 'sys': {'pod': 'n'}, 'dt_txt': '2024-08-15 18:00:00'}, {'dt': 1723755600, 'main': {'temp': 296.98, 'feels_like': 297.77, 'temp_min': 296.98, 'temp_max': 296.98, 'pressure': 1008, 'sea_level': 1008, 'grnd_level': 1008, 'humidity': 90, 'temp_kf': 0}, 'weather': [{'id': 800, 'main': 'Clear', 'description': 'clear sky', 'icon': '01d'}], 'clouds': {'all': 1}, 'wind': {'speed': 2.44, 'deg': 338, 'gust': 3.73}, 'visibility': 10000, 'pop': 0.21, 'sys': {'pod': 'd'}, 'dt_txt': '2024-08-15 21:00:00'}, {'dt': 1723766400, 'main': {'temp': 301.14, 'feels_like': 304.2, 'temp_min': 301.14, 'temp_max': 301.14, 'pressure': 1008, 'sea_level': 1008, 'grnd_level': 1008, 'humidity': 73, 'temp_kf': 0}, 'weather': [{'id': 800, 'main': 'Clear', 'description': 'clear sky', 'icon': '01d'}], 'clouds': {'all': 3}, 'wind': {'speed': 3.61, 'deg': 22, 'gust': 5.22}, 'visibility': 10000, 'pop': 0.29, 'sys': {'pod': 'd'}, 'dt_txt': '2024-08-16 00:00:00'}, {'dt': 1723777200, 'main': {'temp': 302.83, 'feels_like': 306.77, 'temp_min': 302.83, 'temp_max': 302.83, 'pressure': 1008, 'sea_level': 1008, 'grnd_level': 1007, 'humidity': 67, 'temp_kf': 0}, 'weather': [{'id': 802, 'main': 'Clouds', 'description': 'scattered clouds', 'icon': '03d'}], 'clouds': {'all': 28}, 'wind': {'speed': 4.33, 'deg': 42, 'gust': 5.11}, 'visibility': 10000, 'pop': 0.14, 'sys': {'pod': 'd'}, 'dt_txt': '2024-08-16 03:00:00'}, {'dt': 1723788000, 'main': {'temp': 302.69, 'feels_like': 307.09, 'temp_min': 302.69, 'temp_max': 302.69, 'pressure': 1007, 'sea_level': 1007, 'grnd_level': 1007, 'humidity': 70, 'temp_kf': 0}, 'weather': [{'id': 802, 'main': 'Clouds', 'description': 'scattered clouds', 'icon': '03d'}], 'clouds': {'all': 40}, 'wind': {'speed': 5.36, 'deg': 37, 'gust': 6.77}, 'visibility': 10000, 'pop': 0.26, 'sys': {'pod': 'd'}, 'dt_txt': '2024-08-16 06:00:00'}, {'dt': 1723798800, 'main': {'temp': 300.52, 'feels_like': 303.85, 'temp_min': 300.52, 'temp_max': 300.52, 'pressure': 1007, 'sea_level': 1007, 'grnd_level': 1007, 'humidity': 81, 'temp_kf': 0}, 'weather': [{'id': 500, 'main': 'Rain', 'description': 'light rain', 'icon': '10d'}], 'clouds': {'all': 11}, 'wind': {'speed': 4.57, 'deg': 36, 'gust': 7.19}, 'visibility': 10000, 'pop': 0.47, 'rain': {'3h': 0.67}, 'sys': {'pod': 'd'}, 'dt_txt': '2024-08-16 09:00:00'}, {'dt': 1723809600, 'main': {'temp': 298.45, 'feels_like': 299.44, 'temp_min': 298.45, 'temp_max': 298.45, 'pressure': 1008, 'sea_level': 1008, 'grnd_level': 1008, 'humidity': 92, 'temp_kf': 0}, 'weather': [{'id': 500, 'main': 'Rain', 'description': 'light rain', 'icon': '10n'}], 'clouds': {'all': 7}, 'wind': {'speed': 2.89, 'deg': 21, 'gust': 5.58}, 'visibility': 10000, 'pop': 0.35, 'rain': {'3h': 0.15}, 'sys': {'pod': 'n'}, 'dt_txt': '2024-08-16 12:00:00'}, {'dt': 1723820400, 'main': {'temp': 297.94, 'feels_like': 298.9, 'temp_min': 297.94, 'temp_max': 297.94, 'pressure': 1008, 'sea_level': 1008, 'grnd_level': 1008, 'humidity': 93, 'temp_kf': 0}, 'weather': [{'id': 500, 'main': 'Rain', 'description': 'light rain', 'icon': '10n'}], 'clouds': {'all': 19}, 'wind': {'speed': 2.96, 'deg': 14, 'gust': 5.76}, 'visibility': 10000, 'pop': 0.2, 'rain': {'3h': 0.1}, 'sys': {'pod': 'n'}, 'dt_txt': '2024-08-16 15:00:00'}, {'dt': 1723831200, 'main': {'temp': 297.56, 'feels_like': 298.48, 'temp_min': 297.56, 'temp_max': 297.56, 'pressure': 1008, 'sea_level': 1008, 'grnd_level': 1008, 'humidity': 93, 'temp_kf': 0}, 'weather': [{'id': 500, 'main': 'Rain', 'description': 'light rain', 'icon': '10n'}], 'clouds': {'all': 24}, 'wind': {'speed': 2.47, 'deg': 357, 'gust': 4.18}, 'visibility': 10000, 'pop': 0.2, 'rain': {'3h': 0.13}, 'sys': {'pod': 'n'}, 'dt_txt': '2024-08-16 18:00:00'}, {'dt': 1723842000, 'main': {'temp': 297.44, 'feels_like': 298.33, 'temp_min': 297.44, 'temp_max': 297.44, 'pressure': 1009, 'sea_level': 1009, 'grnd_level': 1009, 'humidity': 92, 'temp_kf': 0}, 'weather': [{'id': 801, 'main': 'Clouds', 'description': 'few clouds', 'icon': '02d'}], 'clouds': {'all': 23}, 'wind': {'speed': 2.7, 'deg': 1, 'gust': 4.19}, 'visibility': 10000, 'pop': 0, 'sys': {'pod': 'd'}, 'dt_txt': '2024-08-16 21:00:00'}, {'dt': 1723852800, 'main': {'temp': 300.89, 'feels_like': 303.94, 'temp_min': 300.89, 'temp_max': 300.89, 'pressure': 1009, 'sea_level': 1009, 'grnd_level': 1009, 'humidity': 75, 'temp_kf': 0}, 'weather': [{'id': 802, 'main': 'Clouds', 'description': 'scattered clouds', 'icon': '03d'}], 'clouds': {'all': 25}, 'wind': {'speed': 4.24, 'deg': 23, 'gust': 6.34}, 'visibility': 10000, 'pop': 0, 'sys': {'pod': 'd'}, 'dt_txt': '2024-08-17 00:00:00'}, {'dt': 1723863600, 'main': {'temp': 302.2, 'feels_like': 305.44, 'temp_min': 302.2, 'temp_max': 302.2, 'pressure': 1009, 'sea_level': 1009, 'grnd_level': 1008, 'humidity': 67, 'temp_kf': 0}, 'weather': [{'id': 802, 'main': 'Clouds', 'description': 'scattered clouds', 'icon': '03d'}], 'clouds': {'all': 34}, 'wind': {'speed': 5.06, 'deg': 41, 'gust': 6.62}, 'visibility': 10000, 'pop': 0, 'sys': {'pod': 'd'}, 'dt_txt': '2024-08-17 03:00:00'}, {'dt': 1723874400, 'main': {'temp': 302.38, 'feels_like': 305.81, 'temp_min': 302.38, 'temp_max': 302.38, 'pressure': 1008, 'sea_level': 1008, 'grnd_level': 1008, 'humidity': 67, 'temp_kf': 0}, 'weather': [{'id': 802, 'main': 'Clouds', 'description': 'scattered clouds', 'icon': '03d'}], 'clouds': {'all': 26}, 'wind': {'speed': 5.59, 'deg': 48, 'gust': 7.05}, 'visibility': 10000, 'pop': 0, 'sys': {'pod': 'd'}, 'dt_txt': '2024-08-17 06:00:00'}, {'dt': 1723885200, 'main': {'temp': 300.32, 'feels_like': 302.87, 'temp_min': 300.32, 'temp_max': 300.32, 'pressure': 1009, 'sea_level': 1009, 'grnd_level': 1008, 'humidity': 76, 'temp_kf': 0}, 'weather': [{'id': 801, 'main': 'Clouds', 'description': 'few clouds', 'icon': '02d'}], 'clouds': {'all': 18}, 'wind': {'speed': 4.36, 'deg': 44, 'gust': 7.15}, 'visibility': 10000, 'pop': 0, 'sys': {'pod': 'd'}, 'dt_txt': '2024-08-17 09:00:00'}, {'dt': 1723896000, 'main': {'temp': 297.97, 'feels_like': 298.81, 'temp_min': 297.97, 'temp_max': 297.97, 'pressure': 1010, 'sea_level': 1010, 'grnd_level': 1010, 'humidity': 88, 'temp_kf': 0}, 'weather': [{'id': 801, 'main': 'Clouds', 'description': 'few clouds', 'icon': '02n'}], 'clouds': {'all': 11}, 'wind': {'speed': 2.55, 'deg': 22, 'gust': 4.86}, 'visibility': 10000, 'pop': 0, 'sys': {'pod': 'n'}, 'dt_txt': '2024-08-17 12:00:00'}, {'dt': 1723906800, 'main': {'temp': 297.29, 'feels_like': 298.11, 'temp_min': 297.29, 'temp_max': 297.29, 'pressure': 1010, 'sea_level': 1010, 'grnd_level': 1010, 'humidity': 90, 'temp_kf': 0}, 'weather': [{'id': 800, 'main': 'Clear', 'description': 'clear sky', 'icon': '01n'}], 'clouds': {'all': 8}, 'wind': {'speed': 2.07, 'deg': 355, 'gust': 2.87}, 'visibility': 10000, 'pop': 0, 'sys': {'pod': 'n'}, 'dt_txt': '2024-08-17 15:00:00'}, {'dt': 1723917600, 'main': {'temp': 296.88, 'feels_like': 297.68, 'temp_min': 296.88, 'temp_max': 296.88, 'pressure': 1009, 'sea_level': 1009, 'grnd_level': 1009, 'humidity': 91, 'temp_kf': 0}, 'weather': [{'id': 801, 'main': 'Clouds', 'description': 'few clouds', 'icon': '02n'}], 'clouds': {'all': 22}, 'wind': {'speed': 1.98, 'deg': 339, 'gust': 2.66}, 'visibility': 10000, 'pop': 0, 'sys': {'pod': 'n'}, 'dt_txt': '2024-08-17 18:00:00'}, {'dt': 1723928400, 'main': {'temp': 296.86, 'feels_like': 297.64, 'temp_min': 296.86, 'temp_max': 296.86, 'pressure': 1010, 'sea_level': 1010, 'grnd_level': 1010, 'humidity': 90, 'temp_kf': 0}, 'weather': [{'id': 803, 'main': 'Clouds', 'description': 'broken clouds', 'icon': '04d'}], 'clouds': {'all': 60}, 'wind': {'speed': 1.99, 'deg': 343, 'gust': 2.85}, 'visibility': 10000, 'pop': 0, 'sys': {'pod': 'd'}, 'dt_txt': '2024-08-17 21:00:00'}, {'dt': 1723939200, 'main': {'temp': 300.62, 'feels_like': 303.04, 'temp_min': 300.62, 'temp_max': 300.62, 'pressure': 1011, 'sea_level': 1011, 'grnd_level': 1010, 'humidity': 72, 'temp_kf': 0}, 'weather': [{'id': 803, 'main': 'Clouds', 'description': 'broken clouds', 'icon': '04d'}], 'clouds': {'all': 72}, 'wind': {'speed': 3.18, 'deg': 29, 'gust': 4.44}, 'visibility': 10000, 'pop': 0, 'sys': {'pod': 'd'}, 'dt_txt': '2024-08-18 00:00:00'}, {'dt': 1723950000, 'main': {'temp': 302.58, 'feels_like': 305.28, 'temp_min': 302.58, 'temp_max': 302.58, 'pressure': 1010, 'sea_level': 1010, 'grnd_level': 1010, 'humidity': 62, 'temp_kf': 0}, 'weather': [{'id': 802, 'main': 'Clouds', 'description': 'scattered clouds', 'icon': '03d'}], 'clouds': {'all': 43}, 'wind': {'speed': 4.46, 'deg': 49, 'gust': 5.13}, 'visibility': 10000, 'pop': 0, 'sys': {'pod': 'd'}, 'dt_txt': '2024-08-18 03:00:00'}], 'city': {'id': 1839071, 'name': 'Pohang', 'coord': {'lat': 36.0307, 'lon': 129.3734}, 'country': 'KR', 'population': 500000, 'timezone': 32400, 'sunrise': 1723495159, 'sunset': 1723544138}}\n"
     ]
    }
   ],
   "source": [
    "# rain_alert_forecast\n",
    "import requests\n",
    "OWM_Endpoint = \"https://api.openweathermap.org/data/2.5/forecast\"\n",
    "api_key = \"#####\"\n",
    "\n",
    "parameters = {\n",
    "    \"lat\": 36.030739,\n",
    "    \"lon\": 129.373428,\n",
    "    \"appid\": api_key,\n",
    "}\n",
    "\n",
    "response = requests.get(url=OWM_Endpoint, params=parameters)\n",
    "response.raise_for_status()\n",
    "data = response.json()\n",
    "print(data)"
   ]
  },
  {
   "cell_type": "code",
   "execution_count": 23,
   "id": "dd5e1a3b-cb63-4ed9-86d6-3eacaa172ab7",
   "metadata": {},
   "outputs": [
    {
     "name": "stdout",
     "output_type": "stream",
     "text": [
      "800\n",
      "[800, 800, 800, 800, 801]\n"
     ]
    },
    {
     "data": {
      "text/plain": [
       "int"
      ]
     },
     "execution_count": 23,
     "metadata": {},
     "output_type": "execute_result"
    }
   ],
   "source": [
    "weather_code = data[\"list\"][0:5]\n",
    "print(weather_code[0][\"weather\"][0][\"id\"])\n",
    "weather_code_list = []\n",
    "for i in range(5):\n",
    "    weather_code_list.append(weather_code[i][\"weather\"][0][\"id\"])\n",
    "print(weather_code_list)\n",
    "type(weather_code_list[0])"
   ]
  },
  {
   "cell_type": "code",
   "execution_count": 21,
   "id": "0f177146-8995-453b-b4c3-d0fbbe1e8981",
   "metadata": {},
   "outputs": [
    {
     "name": "stdout",
     "output_type": "stream",
     "text": [
      "0\n"
     ]
    }
   ],
   "source": [
    "rain_times = [code for code in weather_code_list if code<700]\n",
    "if len(rain_times) > 0:\n",
    "    print(\"Bring your umbrella!\")\n",
    "print(len(rain_times))"
   ]
  },
  {
   "cell_type": "code",
   "execution_count": null,
   "id": "e021c7a8-f989-4c31-bea9-8401fa2db5cd",
   "metadata": {},
   "outputs": [],
   "source": [
    "# teacher_solution\n",
    "weather_slice = weather_data[\"hourly\"][:12]\n",
    "\n",
    "will rain = False\n",
    "\n",
    "for hour_data in weather_slice:\n",
    "    condition_code = hour_data[\"weather\"][0][\"id\"]\n",
    "    if int(condition_code)<700:\n",
    "        will_rain = True\n",
    "\n",
    "if will_rain:\n",
    "    print(\"Bring an umbrella.\")"
   ]
  },
  {
   "cell_type": "code",
   "execution_count": 1,
   "id": "bf1cb99c-ff18-4a73-a122-33d6da865331",
   "metadata": {},
   "outputs": [
    {
     "name": "stdout",
     "output_type": "stream",
     "text": [
      "[802, 500, 500, 500, 500]\n",
      "weather_code_expression_list: ['약간 흐림', '비', '비', '비', '비']\n",
      "[801, 801, 800, 800, 800]\n",
      "weather_code_expression_list: ['약간 흐림', '약간 흐림', '맑음', '맑음', '맑음']\n",
      "[800, 800, 800, 800, 800]\n",
      "weather_code_expression_list: ['맑음', '맑음', '맑음', '맑음', '맑음']\n",
      "[803, 802, 803, 800, 800]\n",
      "weather_code_expression_list: ['매우 흐림', '약간 흐림', '매우 흐림', '맑음', '맑음']\n",
      "** 엘림하우스 8월13일 일기예보 **\n",
      "오늘의 11시/14시/17시/20시/23시 날씨\n",
      "남해: 약간 흐림/비/비/비/비\n",
      "진주: 약간 흐림/약간 흐림/맑음/맑음/맑음\n",
      "포항: 맑음/맑음/맑음/맑음/맑음\n",
      "부산: 매우 흐림/약간 흐림/매우 흐림/맑음/맑음\n",
      "남해에 있다면 우산을 챙겨요!\n"
     ]
    }
   ],
   "source": [
    "# family weather forecast\n",
    "import datetime as dt\n",
    "import requests\n",
    "OWM_Endpoint = \"https://api.openweathermap.org/data/2.5/forecast\"\n",
    "api_key = \"#####\"\n",
    "\n",
    "# STEP3. 날씨 표현 함수 만들기\n",
    "# https://openweathermap.org/weather-conditions\n",
    "def weather_code_expression(num):\n",
    "    if (200 <= num < 300):\n",
    "        return \"천둥번개\"\n",
    "    elif (300<= num < 400):\n",
    "        return \"가랑비\"\n",
    "    elif (500 <= num < 531):\n",
    "        return \"비\"\n",
    "    elif (600 <= num < 700):\n",
    "        return \"눈\"\n",
    "    elif (700 <= num < 800):\n",
    "        return \"안개\"\n",
    "    elif num == 800:\n",
    "        return \"맑음\"\n",
    "    elif num == 801 or num == 802:\n",
    "        return \"약간 흐림\"\n",
    "    else:\n",
    "        return \"매우 흐림\"\n",
    "\n",
    "# STEP1. Make location dictionary\n",
    "location = {\n",
    "    \"남해\":{\"latitude\":34.8376721, \"longitude\":127.8924234},\n",
    "    \"진주\":{\"latitude\":35.1799817, \"longitude\":128.1076213},\n",
    "    \"포항\":{\"latitude\":36.030739, \"longitude\":129.373428},\n",
    "    \"양산\":{\"latitude\":35.3350072, \"longitude\":129.0371689},\n",
    "}\n",
    "\n",
    "# STEP2. 좌표와 API키로 날씨 코드 갖고 오기\n",
    "# 8시에 문자를 보낸다고 생각하고 11시,14시,17시,20시,23시 날씨 리스트 만들기\n",
    "for i in range(len(location)):\n",
    "    location_lat = int(location[f\"{list(location.keys())[i]}\"][\"latitude\"])\n",
    "    location_log = int(location[f\"{list(location.keys())[i]}\"][\"longitude\"])\n",
    "    parameters = {\n",
    "        \"lat\": location_lat,\n",
    "        \"lon\": location_log,\n",
    "        \"appid\": api_key\n",
    "    }\n",
    "    \n",
    "    response = requests.get(url=OWM_Endpoint, params=parameters)\n",
    "    response.raise_for_status()\n",
    "    data = response.json()\n",
    "    weather_code = data[\"list\"][0:5]\n",
    "\n",
    "    weather_code_list = []\n",
    "    for c in range(5):\n",
    "        weather_code_list.append(weather_code[c][\"weather\"][0][\"id\"])\n",
    "    location[list(location.keys())[i]][\"code\"] = weather_code_list\n",
    "    print(weather_code_list)\n",
    "    weather_code_expression_list = []\n",
    "    for n in range(len(weather_code_list)):\n",
    "        weather_code_expression_list.append(weather_code_expression(weather_code_list[n]))\n",
    "    print(f\"weather_code_expression_list: {weather_code_expression_list}\")\n",
    "    location[list(location.keys())[i]][\"code_exp\"] = weather_code_expression_list\n",
    "    \n",
    "# print(f\"location:{location}\")\n",
    "   \n",
    "\n",
    "# STEP3. Write the message with weather information\n",
    "now = dt.datetime.now()\n",
    "month = now.month\n",
    "day = now.day\n",
    "\n",
    "print(f\"** 엘림하우스 {month}월{day}일 일기예보 **\")\n",
    "print(\"오늘의 11시/14시/17시/20시/23시 날씨\")\n",
    "for idx in range(len(location)):\n",
    "    print(f\"{list(location.keys())[idx]}: {location[list(location.keys())[idx]]['code_exp'][0]}/{location[list(location.keys())[idx]]['code_exp'][1]}/{location[list(location.keys())[idx]]['code_exp'][2]}/{location[list(location.keys())[idx]]['code_exp'][3]}/{location[list(location.keys())[idx]]['code_exp'][4]}\")\n",
    "\n",
    "# STEP4. Bring umbrella notification message\n",
    "rain_place = []\n",
    "for r in range(len(location)):\n",
    "    rain_state = False\n",
    "    rain_code = [500, 501, 502, 503, 501, 511, 520, 521, 522, 531]\n",
    "    for rc in rain_code:\n",
    "        if list(location[list(location.keys())[r]]['code']).count(rc) >= 1:\n",
    "            rain_state = True\n",
    "    \n",
    "    if rain_state == True:\n",
    "        rain_place.append(list(location.keys())[r])\n",
    "\n",
    "if len(rain_place) >= 1:\n",
    "    print(f\"{', '.join(rain_place)}에 있다면 우산을 챙겨요!\")"
   ]
  },
  {
   "cell_type": "code",
   "execution_count": 111,
   "id": "6c790799-1563-4eec-99f6-5c696e42c9ee",
   "metadata": {},
   "outputs": [
    {
     "name": "stdout",
     "output_type": "stream",
     "text": [
      "['남해']\n",
      "남해, 진주에 있다면 우산을 챙겨요!\n"
     ]
    }
   ],
   "source": [
    "# STEP4. Bring umbrella notification message\n",
    "rain_place = []\n",
    "for r in range(len(location)):\n",
    "    rain_state = False\n",
    "    rain_code = [500, 501, 502, 503, 501, 511, 520, 521, 522, 531]\n",
    "    for rc in rain_code:\n",
    "        if list(location[list(location.keys())[r]]['code']).count(rc) >= 1:\n",
    "            rain_state = True\n",
    "    \n",
    "    if rain_state == True:\n",
    "        rain_place.append(list(location.keys())[r])\n",
    "\n",
    "if len(rain_place) >= 1:\n",
    "    print(f\"{', '.join(rain_place)}에 있다면 우산을 챙겨요!\")"
   ]
  },
  {
   "cell_type": "code",
   "execution_count": 11,
   "id": "68466491-04b9-4a3b-89ad-74fd10eb403e",
   "metadata": {},
   "outputs": [
    {
     "name": "stdout",
     "output_type": "stream",
     "text": [
      "Requirement already satisfied: twilio in c:\\users\\user\\.conda\\envs\\cksdud39\\lib\\site-packages (9.2.3)\n",
      "Requirement already satisfied: requests>=2.0.0 in c:\\users\\user\\.conda\\envs\\cksdud39\\lib\\site-packages (from twilio) (2.31.0)\n",
      "Requirement already satisfied: PyJWT<3.0.0,>=2.0.0 in c:\\users\\user\\.conda\\envs\\cksdud39\\lib\\site-packages (from twilio) (2.9.0)\n",
      "Requirement already satisfied: aiohttp>=3.8.4 in c:\\users\\user\\.conda\\envs\\cksdud39\\lib\\site-packages (from twilio) (3.9.5)\n",
      "Requirement already satisfied: aiohttp-retry>=2.8.3 in c:\\users\\user\\.conda\\envs\\cksdud39\\lib\\site-packages (from twilio) (2.8.3)\n",
      "Requirement already satisfied: aiosignal>=1.1.2 in c:\\users\\user\\.conda\\envs\\cksdud39\\lib\\site-packages (from aiohttp>=3.8.4->twilio) (1.3.1)\n",
      "Requirement already satisfied: attrs>=17.3.0 in c:\\users\\user\\.conda\\envs\\cksdud39\\lib\\site-packages (from aiohttp>=3.8.4->twilio) (23.1.0)\n",
      "Requirement already satisfied: frozenlist>=1.1.1 in c:\\users\\user\\.conda\\envs\\cksdud39\\lib\\site-packages (from aiohttp>=3.8.4->twilio) (1.4.1)\n",
      "Requirement already satisfied: multidict<7.0,>=4.5 in c:\\users\\user\\.conda\\envs\\cksdud39\\lib\\site-packages (from aiohttp>=3.8.4->twilio) (6.0.5)\n",
      "Requirement already satisfied: yarl<2.0,>=1.0 in c:\\users\\user\\.conda\\envs\\cksdud39\\lib\\site-packages (from aiohttp>=3.8.4->twilio) (1.9.4)\n",
      "Requirement already satisfied: async-timeout<5.0,>=4.0 in c:\\users\\user\\.conda\\envs\\cksdud39\\lib\\site-packages (from aiohttp>=3.8.4->twilio) (4.0.3)\n",
      "Requirement already satisfied: charset-normalizer<4,>=2 in c:\\users\\user\\.conda\\envs\\cksdud39\\lib\\site-packages (from requests>=2.0.0->twilio) (2.0.4)\n",
      "Requirement already satisfied: idna<4,>=2.5 in c:\\users\\user\\.conda\\envs\\cksdud39\\lib\\site-packages (from requests>=2.0.0->twilio) (3.4)\n",
      "Requirement already satisfied: urllib3<3,>=1.21.1 in c:\\users\\user\\.conda\\envs\\cksdud39\\lib\\site-packages (from requests>=2.0.0->twilio) (1.26.18)\n",
      "Requirement already satisfied: certifi>=2017.4.17 in c:\\users\\user\\.conda\\envs\\cksdud39\\lib\\site-packages (from requests>=2.0.0->twilio) (2024.2.2)\n",
      "[500, 500, 500, 500, 500]\n",
      "weather_code_expression_list: ['비', '비', '비', '비', '비']\n",
      "[801, 800, 800, 800, 800]\n",
      "weather_code_expression_list: ['약간 흐림', '맑음', '맑음', '맑음', '맑음']\n",
      "[800, 800, 800, 800, 800]\n",
      "weather_code_expression_list: ['맑음', '맑음', '맑음', '맑음', '맑음']\n",
      "[802, 803, 800, 800, 500]\n",
      "weather_code_expression_list: ['약간 흐림', '매우 흐림', '맑음', '맑음', '비']\n",
      "accepted\n"
     ]
    }
   ],
   "source": [
    "# Sending SMS using twilio API\n",
    "# twilio API: allowing us to send text messages or phone call or have virtual number\n",
    "# recovery code for twilio account: HA8KZXYW4PCBWAJU68V24FCJ\n",
    "\n",
    "# family weather forecast _sending SMS\n",
    "import datetime as dt\n",
    "import requests\n",
    "!pip install twilio\n",
    "from twilio.rest import Client\n",
    "OWM_Endpoint = \"https://api.openweathermap.org/data/2.5/forecast\"\n",
    "api_key = \"#####\"\n",
    "account_sid = \"#####\"\n",
    "auth_token = \"#####\"\n",
    "\n",
    "\n",
    "# STEP3. 날씨 표현 함수 만들기\n",
    "# https://openweathermap.org/weather-conditions\n",
    "def weather_code_expression(num):\n",
    "    if (200 <= num < 300):\n",
    "        return \"천둥번개\"\n",
    "    elif (300<= num < 400):\n",
    "        return \"가랑비\"\n",
    "    elif (500 <= num < 531):\n",
    "        return \"비\"\n",
    "    elif (600 <= num < 700):\n",
    "        return \"눈\"\n",
    "    elif (700 <= num < 800):\n",
    "        return \"안개\"\n",
    "    elif num == 800:\n",
    "        return \"맑음\"\n",
    "    elif num == 801 or num == 802:\n",
    "        return \"약간 흐림\"\n",
    "    else:\n",
    "        return \"매우 흐림\"\n",
    "\n",
    "# STEP1. Make location dictionary\n",
    "location = {\n",
    "    \"남해\":{\"latitude\":34.8376721, \"longitude\":127.8924234},\n",
    "    \"진주\":{\"latitude\":35.1799817, \"longitude\":128.1076213},\n",
    "    \"포항\":{\"latitude\":36.030739, \"longitude\":129.373428},\n",
    "    \"양산\":{\"latitude\":35.3350072, \"longitude\":129.0371689},\n",
    "}\n",
    "\n",
    "# STEP2. 좌표와 API키로 날씨 코드 갖고 오기\n",
    "# 8시에 문자를 보낸다고 생각하고 11시,14시,17시,20시,23시 날씨 리스트 만들기\n",
    "for i in range(len(location)):\n",
    "    location_lat = int(location[f\"{list(location.keys())[i]}\"][\"latitude\"])\n",
    "    location_log = int(location[f\"{list(location.keys())[i]}\"][\"longitude\"])\n",
    "    parameters = {\n",
    "        \"lat\": location_lat,\n",
    "        \"lon\": location_log,\n",
    "        \"appid\": api_key\n",
    "    }\n",
    "    \n",
    "    response = requests.get(url=OWM_Endpoint, params=parameters)\n",
    "    response.raise_for_status()\n",
    "    data = response.json()\n",
    "    weather_code = data[\"list\"][0:5]\n",
    "\n",
    "    weather_code_list = []\n",
    "    for c in range(5):\n",
    "        weather_code_list.append(weather_code[c][\"weather\"][0][\"id\"])\n",
    "    location[list(location.keys())[i]][\"code\"] = weather_code_list\n",
    "    print(weather_code_list)\n",
    "    weather_code_expression_list = []\n",
    "    for n in range(len(weather_code_list)):\n",
    "        weather_code_expression_list.append(weather_code_expression(weather_code_list[n]))\n",
    "    print(f\"weather_code_expression_list: {weather_code_expression_list}\")\n",
    "    location[list(location.keys())[i]][\"code_exp\"] = weather_code_expression_list\n",
    "    \n",
    "# print(f\"location:{location}\")\n",
    "   \n",
    "\n",
    "# STEP3. Write the message with weather information\n",
    "def sending_message():\n",
    "    now = dt.datetime.now()\n",
    "    month = now.month\n",
    "    day = now.day\n",
    "    message_text = \"\"\n",
    "    message_text += f\"**엘림하우스 {month}월{day}일 일기예보**\\n\"\n",
    "    message_text += \"오늘 11시/14시/17시/20시/23시\\n\"\n",
    "    for idx in range(len(location)):\n",
    "        message_text += f\"{list(location.keys())[idx]}: {location[list(location.keys())[idx]]['code_exp'][0]}/{location[list(location.keys())[idx]]['code_exp'][1]}/{location[list(location.keys())[idx]]['code_exp'][2]}/{location[list(location.keys())[idx]]['code_exp'][3]}/{location[list(location.keys())[idx]]['code_exp'][4]}\\n\"\n",
    "\n",
    "    \n",
    "    # STEP4. Bring umbrella notification message\n",
    "    rain_place = []\n",
    "    for r in range(len(location)):\n",
    "        rain_state = False\n",
    "        rain_code = [500, 501, 502, 503, 501, 511, 520, 521, 522, 531]\n",
    "        for rc in rain_code:\n",
    "            if list(location[list(location.keys())[r]]['code']).count(rc) >= 1:\n",
    "                rain_state = True\n",
    "        \n",
    "        if rain_state == True:\n",
    "            rain_place.append(list(location.keys())[r])\n",
    "    \n",
    "    if len(rain_place) >= 1:\n",
    "        message_text += f\"{', '.join(rain_place)}에 있다면 우산☂️을 챙겨요!\"\n",
    "        \n",
    "    return message_text\n",
    "\n",
    "# STEP5. Sending Message by using twilio API\n",
    "client = Client(account_sid, auth_token)\n",
    "\n",
    "message = client.messages.create(\n",
    "    messaging_service_sid='#####',\n",
    "  body=sending_message(),\n",
    "  to='#####'\n",
    ")\n",
    "\n",
    "print(message.status)"
   ]
  },
  {
   "cell_type": "code",
   "execution_count": null,
   "id": "f40deaba-29ae-42be-b2c1-444519cb189e",
   "metadata": {},
   "outputs": [],
   "source": [
    "# Automation with PythonAnywhere\n",
    "# https://www.pythonanywhere.com/"
   ]
  },
  {
   "cell_type": "code",
   "execution_count": null,
   "id": "83e5e7e0-2511-4e51-894b-60b36acde48c",
   "metadata": {},
   "outputs": [],
   "source": [
    "# Environment Variables\n",
    "# type 'env' at the terminal\n",
    "# there are two major use purposes\n",
    "# 1.Convenience 2.Security\n",
    "# environment variables allow us to seperate out where we store our keys, secert stuffs\n",
    "# we need to import os module\n",
    "# export {NameOftheAPIkey}={content} _without \"\"\n",
    "# ex) > export OWM_API_KEY=#####\n",
    "# api_key = os.environ.get(\"OWM_API_KEY\")\n",
    "# API list : https://apilist.fun/"
   ]
  }
 ],
 "metadata": {
  "kernelspec": {
   "display_name": "Python 3 (ipykernel)",
   "language": "python",
   "name": "python3"
  },
  "language_info": {
   "codemirror_mode": {
    "name": "ipython",
    "version": 3
   },
   "file_extension": ".py",
   "mimetype": "text/x-python",
   "name": "python",
   "nbconvert_exporter": "python",
   "pygments_lexer": "ipython3",
   "version": "3.9.18"
  }
 },
 "nbformat": 4,
 "nbformat_minor": 5
}
