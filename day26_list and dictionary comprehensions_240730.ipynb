{
 "cells": [
  {
   "cell_type": "code",
   "execution_count": 2,
   "id": "6ff3a56c-afc4-4285-8f68-ac76cd39f196",
   "metadata": {},
   "outputs": [
    {
     "name": "stdout",
     "output_type": "stream",
     "text": [
      "[2, 3, 4]\n",
      "[2, 3, 4]\n"
     ]
    }
   ],
   "source": [
    "# day26_list and dictionary comprehensions_240730\n",
    "# List comprehension\n",
    "# unique to Python language\n",
    "# new_list = [new_itme for item in list]\n",
    "\n",
    "num = [1,2,3]\n",
    "new_num = []\n",
    "for n in num:\n",
    "    add_1 = n+1\n",
    "    new_num.append(add_1)\n",
    "print(new_num)\n",
    "# above code can be expressed in list comprehension form\n",
    "new_num = [n+1 for n in num]\n",
    "print(new_num)"
   ]
  },
  {
   "cell_type": "code",
   "execution_count": 3,
   "id": "07dedffa-08b5-4068-8d57-70cab8b22a7b",
   "metadata": {},
   "outputs": [
    {
     "name": "stdout",
     "output_type": "stream",
     "text": [
      "['M', 'o', 'o', 'n', 'C', 'Y']\n"
     ]
    }
   ],
   "source": [
    "# list comprehension can work with string\n",
    "name = \"MoonCY\"\n",
    "new_name = [letter for letter in name]\n",
    "print(new_name)"
   ]
  },
  {
   "cell_type": "code",
   "execution_count": 5,
   "id": "7081f92e-a9db-4ed7-8ce0-4caa73347b21",
   "metadata": {},
   "outputs": [
    {
     "name": "stdout",
     "output_type": "stream",
     "text": [
      "[2, 4, 6, 8]\n"
     ]
    }
   ],
   "source": [
    "# Python Sequences: list, range, string, tuple\n",
    "# double the values in range\n",
    "double_num = [2*n for n in range(1,5)]\n",
    "print(double_num)"
   ]
  },
  {
   "cell_type": "code",
   "execution_count": 6,
   "id": "d8fceec1-67c6-47bc-97c0-218d2ef241da",
   "metadata": {},
   "outputs": [
    {
     "name": "stdout",
     "output_type": "stream",
     "text": [
      "['Moon']\n"
     ]
    }
   ],
   "source": [
    "# Conditional List Comprehension\n",
    "# new_list = [new_item for item in list if test]\n",
    "names = [\"Moon\", \"JungJH\", \"ParkKN\"]\n",
    "short_names = [n for n in names if len(n)<=4]\n",
    "print(short_names)"
   ]
  },
  {
   "cell_type": "code",
   "execution_count": 7,
   "id": "6ef86c66-9eaa-4fde-a1d2-9cae312ddd8b",
   "metadata": {},
   "outputs": [
    {
     "name": "stdout",
     "output_type": "stream",
     "text": [
      "['JUNGJH', 'PARKKN']\n"
     ]
    }
   ],
   "source": [
    "long_names = [n.upper() for n in names if len(n) >5]\n",
    "print(long_names)"
   ]
  },
  {
   "cell_type": "code",
   "execution_count": null,
   "id": "4e84fcdd-a113-443a-9168-12fd47047c8e",
   "metadata": {},
   "outputs": [],
   "source": [
    "# LESSON 30 DAY 26 - DATA OVERLAP _my solution\n",
    "with open(\"file1.txt\") as f1:\n",
    "  file1= f1.readlines()\n",
    "file1_list = [int(n[:-1]) for n in file1]\n",
    "with open(\"file2.txt\") as f2:\n",
    "  file2 = f2.readlines()\n",
    "file2_list = [int(n[:-1]) for n in file2]\n",
    "\n",
    "result = [n for n in file1_list if n in file2_list]\n",
    "# Write your code above 👆\n",
    "print(result)"
   ]
  },
  {
   "cell_type": "code",
   "execution_count": null,
   "id": "8908ce1a-9c1e-46aa-9423-5ae446c4e5b9",
   "metadata": {},
   "outputs": [],
   "source": [
    "# LESSON 30 DAY 26 - DATA OVERLAP _teacher solution\n",
    "with open(\"file1.txt\") as file1:\n",
    "    list1 = file1.readlines()\n",
    "\n",
    "with open(\"file2.txt\") as file2:\n",
    "    list2 = file2.readlines()\n",
    "\n",
    "result = [int(num) for num in list1 if num in list2]\n",
    "\n",
    "# Your code above 👆\n",
    "print(result)"
   ]
  },
  {
   "cell_type": "code",
   "execution_count": null,
   "id": "f9f6448d-a4a0-4663-b45e-1edb0f93bfb7",
   "metadata": {},
   "outputs": [],
   "source": [
    "# Dictionary comprehension\n",
    "# new_dict = {new_key:new_value for item in list}\n",
    "# new_dict = {new_key:new_value for (key, value) in dict.items()}\n",
    "# new_dict = {new_key:new_value for (key, value) in dict.items() if test}"
   ]
  },
  {
   "cell_type": "code",
   "execution_count": 48,
   "id": "0bbf28fc-de73-45c5-b52f-11b08a3ca07b",
   "metadata": {},
   "outputs": [
    {
     "name": "stdout",
     "output_type": "stream",
     "text": [
      "{'Moon': 50, 'JungJH': 72, 'ParkKN': 53, 'KimDY': 91, 'LeeSH': 100, 'ChoiGH': 74}\n",
      "{'JungJH': 72, 'KimDY': 91, 'LeeSH': 100, 'ChoiGH': 74}\n",
      "50\n"
     ]
    }
   ],
   "source": [
    "import random\n",
    "names = [\"Moon\", \"JungJH\", \"ParkKN\", \"KimDY\", \"LeeSH\", \"ChoiGH\"]\n",
    "student_score = {student:random.randint(1,100) for student in names}\n",
    "print(student_score)\n",
    "passed_students = {n:s for (n, s) in student_score.items() if s >= 60}\n",
    "print(passed_students)\n",
    "print(student_score[\"Moon\"])"
   ]
  },
  {
   "cell_type": "code",
   "execution_count": null,
   "id": "bff5d645-92ff-40e2-8c09-3778434c06a1",
   "metadata": {},
   "outputs": [],
   "source": [
    "# LESSON 31 DAY 26 - DICTIONARY COMPREHENSION 1\n",
    "sentence = input()\n",
    "# 🚨 Don't change code above 👆\n",
    "# Write your code below 👇\n",
    "result = {p:len(p) for p in sentence.split()}\n",
    "print(result)"
   ]
  },
  {
   "cell_type": "code",
   "execution_count": null,
   "id": "e6e4f040-a23c-4408-9040-a6453beb61a9",
   "metadata": {},
   "outputs": [],
   "source": [
    "# LESSON 32 DAY 26 - DICTIONARY COMPREHENSION 2\n",
    "weather_c = eval(input())\n",
    "# 🚨 Don't change code above 👆\n",
    "\n",
    "# Write your code 👇 below:\n",
    "weather_f = {d:(temp_c*9/5)+32 for (d, temp_c) in weather_c.items()}\n",
    "print(weather_f)"
   ]
  },
  {
   "cell_type": "code",
   "execution_count": 23,
   "id": "8072bb72-322e-4640-9ff8-9caba84f5709",
   "metadata": {},
   "outputs": [
    {
     "name": "stdout",
     "output_type": "stream",
     "text": [
      "['Angela', 'James', 'Lily']\n",
      "[56, 76, 98]\n",
      "  student  score\n",
      "0  Angela     56\n",
      "1   James     76\n",
      "2    Lily     98\n"
     ]
    }
   ],
   "source": [
    "# Use loop in pandas dataframe\n",
    "student_dict = {\n",
    "    \"student\": [\"Angela\", \"James\", \"Lily\"],\n",
    "    \"score\" : [56, 76, 98]\n",
    "}\n",
    "\n",
    "# Looping through dictionaries:\n",
    "for (key, value) in student_dict.items():\n",
    "    print(value)\n",
    "\n",
    "import pandas\n",
    "\n",
    "student_data_frame = pandas.DataFrame(student_dict)\n",
    "print(student_data_frame)"
   ]
  },
  {
   "cell_type": "code",
   "execution_count": 27,
   "id": "2e4b0195-948a-4831-b378-bf1b59ac51dd",
   "metadata": {},
   "outputs": [
    {
     "name": "stdout",
     "output_type": "stream",
     "text": [
      "student\n",
      "score\n"
     ]
    }
   ],
   "source": [
    "# Loop through a data frame\n",
    "for (key, value) in student_data_frame.items():\n",
    "    print(key)"
   ]
  },
  {
   "cell_type": "code",
   "execution_count": 32,
   "id": "0496a12f-208d-49b3-a844-4b10c7bbb080",
   "metadata": {},
   "outputs": [
    {
     "name": "stdout",
     "output_type": "stream",
     "text": [
      "student    Angela\n",
      "score          56\n",
      "Name: 0, dtype: object\n",
      "student    James\n",
      "score         76\n",
      "Name: 1, dtype: object\n",
      "student    Lily\n",
      "score        98\n",
      "Name: 2, dtype: object\n"
     ]
    }
   ],
   "source": [
    "# Loop through rows of a data frame\n",
    "for (index, row) in student_data_frame.iterrows():\n",
    "    print(row)"
   ]
  },
  {
   "cell_type": "code",
   "execution_count": 33,
   "id": "28ce1267-c5fc-47f0-9c35-3d85fa00437b",
   "metadata": {},
   "outputs": [
    {
     "name": "stdout",
     "output_type": "stream",
     "text": [
      "Angela\n",
      "James\n",
      "Lily\n"
     ]
    }
   ],
   "source": [
    "# Loop through rows of a data frame\n",
    "for (index, row) in student_data_frame.iterrows():\n",
    "    print(row.student)"
   ]
  },
  {
   "cell_type": "code",
   "execution_count": 34,
   "id": "f75d566c-a71b-48f8-ae4d-7c6f77d388f0",
   "metadata": {},
   "outputs": [
    {
     "name": "stdout",
     "output_type": "stream",
     "text": [
      "56\n"
     ]
    }
   ],
   "source": [
    "# Loop through rows of a data frame _특정 행과 열의 값을 찾는 방법!!!\n",
    "for (index, row) in student_data_frame.iterrows():\n",
    "    if row.student == \"Angela\":\n",
    "        print(row.score)"
   ]
  },
  {
   "cell_type": "code",
   "execution_count": 51,
   "id": "7cf2ffe2-f1fb-428c-8eaa-8e28a9bbf77e",
   "metadata": {},
   "outputs": [
    {
     "name": "stdin",
     "output_type": "stream",
     "text": [
      "Enter a word:  heLLo\n"
     ]
    },
    {
     "name": "stdout",
     "output_type": "stream",
     "text": [
      "['Hotel', 'Echo', 'Lima', 'Lima', 'Oscar']\n"
     ]
    }
   ],
   "source": [
    "# final project: NATO alphabet _my solution\n",
    "#TODO 1. Create a dictionary in this format: {\"A\": \"Alfa\", \"B\": \"Bravo\"}\n",
    "import pandas\n",
    "nato_alphabet = pandas.read_csv(\"nato_phonetic_alphabet.csv\")\n",
    "nato_dict = {row.letter:row.code for (index, row) in nato_alphabet.iterrows()}\n",
    "# print(nato_dict)\n",
    "\n",
    "#TODO 2. Create a list of the phonetic code words from a word that the user inputs.\n",
    "word = input(\"Enter a word: \").upper()\n",
    "code_list = [nato_dict[a_word] for a_word in word]\n",
    "print(code_list)"
   ]
  },
  {
   "cell_type": "code",
   "execution_count": 53,
   "id": "6ab00376-b232-4e05-836a-e38a9a8747ea",
   "metadata": {},
   "outputs": [
    {
     "data": {
      "text/html": [
       "<div>\n",
       "<style scoped>\n",
       "    .dataframe tbody tr th:only-of-type {\n",
       "        vertical-align: middle;\n",
       "    }\n",
       "\n",
       "    .dataframe tbody tr th {\n",
       "        vertical-align: top;\n",
       "    }\n",
       "\n",
       "    .dataframe thead th {\n",
       "        text-align: right;\n",
       "    }\n",
       "</style>\n",
       "<table border=\"1\" class=\"dataframe\">\n",
       "  <thead>\n",
       "    <tr style=\"text-align: right;\">\n",
       "      <th></th>\n",
       "      <th>letter</th>\n",
       "      <th>code</th>\n",
       "    </tr>\n",
       "  </thead>\n",
       "  <tbody>\n",
       "    <tr>\n",
       "      <th>0</th>\n",
       "      <td>A</td>\n",
       "      <td>Alfa</td>\n",
       "    </tr>\n",
       "    <tr>\n",
       "      <th>1</th>\n",
       "      <td>B</td>\n",
       "      <td>Bravo</td>\n",
       "    </tr>\n",
       "    <tr>\n",
       "      <th>2</th>\n",
       "      <td>C</td>\n",
       "      <td>Charlie</td>\n",
       "    </tr>\n",
       "    <tr>\n",
       "      <th>3</th>\n",
       "      <td>D</td>\n",
       "      <td>Delta</td>\n",
       "    </tr>\n",
       "    <tr>\n",
       "      <th>4</th>\n",
       "      <td>E</td>\n",
       "      <td>Echo</td>\n",
       "    </tr>\n",
       "  </tbody>\n",
       "</table>\n",
       "</div>"
      ],
      "text/plain": [
       "  letter     code\n",
       "0      A     Alfa\n",
       "1      B    Bravo\n",
       "2      C  Charlie\n",
       "3      D    Delta\n",
       "4      E     Echo"
      ]
     },
     "execution_count": 53,
     "metadata": {},
     "output_type": "execute_result"
    }
   ],
   "source": [
    "nato_alphabet.head()"
   ]
  },
  {
   "cell_type": "code",
   "execution_count": 52,
   "id": "8ec94277-f563-4415-b527-5f944be302f6",
   "metadata": {},
   "outputs": [
    {
     "name": "stdout",
     "output_type": "stream",
     "text": [
      "{'A': 'Alfa', 'B': 'Bravo', 'C': 'Charlie', 'D': 'Delta', 'E': 'Echo', 'F': 'Foxtrot', 'G': 'Golf', 'H': 'Hotel', 'I': 'India', 'J': 'Juliet', 'K': 'Kilo', 'L': 'Lima', 'M': 'Mike', 'N': 'November', 'O': 'Oscar', 'P': 'Papa', 'Q': 'Quebec', 'R': 'Romeo', 'S': 'Sierra', 'T': 'Tango', 'U': 'Uniform', 'V': 'Victor', 'W': 'Whiskey', 'X': 'X-ray', 'Y': 'Yankee', 'Z': 'Zulu'}\n"
     ]
    },
    {
     "name": "stdin",
     "output_type": "stream",
     "text": [
      "Enter a word:  Hello\n"
     ]
    },
    {
     "name": "stdout",
     "output_type": "stream",
     "text": [
      "['Hotel', 'Echo', 'Lima', 'Lima', 'Oscar']\n"
     ]
    }
   ],
   "source": [
    "# final project: NATO alphabet _teacher solution\n",
    "#TODO 1. Create a dictionary in this format: {\"A\": \"Alfa\", \"B\": \"Bravo\"}\n",
    "import pandas\n",
    "data = pandas.read_csv(\"nato_phonetic_alphabet.csv\")\n",
    "phonetic_dict = {row.letter: row.code for (index, row) in data.iterrows()}\n",
    "print(phonetic_dict)\n",
    "\n",
    "#TODO 2. Create a list of the phonetic code words from a word that the user inputs.\n",
    "word = input(\"Enter a word: \").upper()\n",
    "output_list = [phonetic_dict[letter] for letter in word]\n",
    "print(output_list)"
   ]
  }
 ],
 "metadata": {
  "kernelspec": {
   "display_name": "Python 3 (ipykernel)",
   "language": "python",
   "name": "python3"
  },
  "language_info": {
   "codemirror_mode": {
    "name": "ipython",
    "version": 3
   },
   "file_extension": ".py",
   "mimetype": "text/x-python",
   "name": "python",
   "nbconvert_exporter": "python",
   "pygments_lexer": "ipython3",
   "version": "3.9.18"
  }
 },
 "nbformat": 4,
 "nbformat_minor": 5
}
