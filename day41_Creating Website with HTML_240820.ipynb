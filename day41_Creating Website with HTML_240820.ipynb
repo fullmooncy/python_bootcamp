{
 "cells": [
  {
   "cell_type": "code",
   "execution_count": null,
   "id": "9e9e52df-0571-4e1c-80dd-fa6b7647ddf5",
   "metadata": {},
   "outputs": [],
   "source": [
    "# day41_Creating Website with HTML_240820\n",
    "# html and css: a building model of websites\n",
    "# cv website"
   ]
  },
  {
   "cell_type": "code",
   "execution_count": null,
   "id": "79ef8fa4-5ce7-485f-8feb-6a2ed3a4ff33",
   "metadata": {},
   "outputs": [],
   "source": [
    "# How does the Internet Work?\n",
    "# The internet is a long piece of wire. Wire connects to computers each other.\n",
    "# server: online 24 7 ready to serve you all of the data files when users are requesting\n",
    "# client: a computer who wants to access to the server\n",
    "# client > ISP(Internet Service Provider) > DNS(Domain Name System) Server(like a phone book, exact IP address of the website)\n",
    "# DNS sends the website IP address to the client\n",
    "# client access 'Internet Backbone' with IP address > arrived at the server"
   ]
  },
  {
   "cell_type": "code",
   "execution_count": null,
   "id": "0bca2e75-747b-46ae-ab7d-dab01a72e6ad",
   "metadata": {},
   "outputs": [],
   "source": [
    "# How do websites Work?\n",
    "# What does HTML, CSS and Javascript do exactly?\n",
    "# Browser: software allows you to look up IP address and receive the data ex) Crome, Safari, firefox\n",
    "# data types received from the server: HTML, CSS, JS(JavaScript)\n",
    "# each types has different jobs\n",
    "# HTML is responsible for the structure of your website. builder. image, text, button\n",
    "# CSS is responsible for the style of your website.\n",
    "# JS is responsible for the behavior of your website. do things\n",
    "# inspection"
   ]
  },
  {
   "cell_type": "code",
   "execution_count": null,
   "id": "73d4ccf6-6329-49d0-aff7-9e9403005452",
   "metadata": {},
   "outputs": [],
   "source": [
    "# Introduction to HTML\n",
    "# HTML is the foundation of the website\n",
    "# HTML = HyperText Markup Language\n",
    "# Markup is keyword ex) XML(Extensible Markup Language), GML(Generalized Markup Language)\n",
    "\n",
    "# https://codepen.io/\n",
    "# html practice\n",
    "<h1>The Adventures of Sherlock Holmes</h1>\n",
    "\n",
    "<h4>by</h4> \n",
    "\n",
    "<h2>Arthur Conan Doyle</h2>\n",
    "# MDN, w3schools, DevDocs _document of html\n",
    "# https://devdocs.io/\n",
    "<h1>The Adventures of<br> Sherlock Holmes</h1>\n",
    "<br>\n",
    "<h4>by</h4> \n",
    "<br>\n",
    "<h2>Arthur Conan Doyle</h2>"
   ]
  },
  {
   "cell_type": "code",
   "execution_count": null,
   "id": "74ae8601-a2ea-450a-b5ac-9f74579a0710",
   "metadata": {},
   "outputs": [],
   "source": [
    "# The Anatomy of HTML\n",
    "<h1> is Starting tag\n",
    "</h1> is End tag\n",
    "thing between tags is Content \n",
    "Self-closing tag ex) <br> <hr>\n",
    "# <hr size = \"3\">\n",
    "# HTML element / HTML Attribute\n",
    "\n",
    "# <center>\n",
    "# <hr size=\"3\" noshade>\n",
    "# <h1>The Adventures of<br> Sherlock Holmes</h1>\n",
    "# <br>\n",
    "# <h4>by</h4> \n",
    "# <br>\n",
    "# <h2>Arthur Conan Doyle</h2>\n",
    "# <hr size=\"3\" noshade>\n",
    "# </center>\n",
    "\n",
    "# way to write comment in HTML\n",
    "<!-- asdkljasfls -->"
   ]
  },
  {
   "cell_type": "code",
   "execution_count": null,
   "id": "48eaadb1-8a53-463a-88e1-b71e93dbac43",
   "metadata": {},
   "outputs": [],
   "source": [
    "# index.html\n",
    "<!DOCTYPE html>\n",
    "<html lang=\"en\">\n",
    "\n",
    "<head>\n",
    "    <meta charset=\"UTF-8\">\n",
    "    <meta name=\"viewport\" content=\"width=device-width, initial-scale=1.0\">\n",
    "    <title>🌕Moon Chan Yeong's Personal Site</title>\n",
    "</head>\n",
    "\n",
    "<body>\n",
    "    <img src=\"https://avatars.githubusercontent.com/u/173697762?v=4\" alt=\"moon chan yeong profile picture\">\n",
    "    <h1>Moon Chan Yeong</h1>\n",
    "    <p><em>Day by day in every way, I'm getting better and better</em></p>\n",
    "    <p>I am a graduate student at Pohang University of Science and Technology(POSTECH).\n",
    "        My major is 'Social Data Science'.\n",
    "        I love to learn something and have curious about many things in the world.\n",
    "        I have a motorcycle, <a href=\"Po-Ba.html\">Po-Ba(Pohang Bada)</a>.\n",
    "        Everymorning I handdrip a cup of coffee. I really love coffee.</p>\n",
    "    <hr>\n",
    "    \n",
    "    <h2>Education</h2>\n",
    "    <ul>\n",
    "        <li>Geochang High School</li>\n",
    "        <li>B.S. Educational Technology, Hanyang University, Korea, 2024</li>\n",
    "    </ul>\n",
    "    <hr>\n",
    "    \n",
    "    <h2>Journals</h2>\n",
    "    <p>J1. 하선민, 전용찬, <b>문찬영</b>, & 송지훈. (2024). N 잡러가 경험한 심리적 소진 회복에 관한 근거이론적 접근. 한국콘텐츠학회논문지, 24(6), 408-424. <a href=\"https://doi.org/10.5392/JKCA.2024.24.06.408\">https://doi.org/10.5392/JKCA.2024.24.06.408</a></p>\n",
    "    <p>J2. 이진주, <b>문찬영</b>, 이진주. (2024). Rasch 분석을 활용한 일터에서의 목표지향성 측정도구 타당화 연구. 경영교육연구, 39(3), 199-226. <a href=\"https://doi.org/10.23839/kabe.2024.39.3.199\">https://doi.org/10.23839/kabe.2024.39.3.199</a></p>\n",
    "    <hr>\n",
    "\n",
    "    <h2>Hobbies</h2>\n",
    "    <ol>\n",
    "        <li>Coffee Handdrip</li>\n",
    "        <li>Riding my motorcycle, Po-Ba</li>\n",
    "        <li>Listening music</li>\n",
    "    </ol>\n",
    "    <hr>\n",
    "\n",
    "    <h2>Contact Information</h2>\n",
    "    <p>E-mail: fullmcy@postech.ac.kr</p>\n",
    "\n",
    "</body>\n",
    "\n",
    "</html>"
   ]
  },
  {
   "cell_type": "code",
   "execution_count": null,
   "id": "a824a099-c492-4a9c-97d1-770d8998e034",
   "metadata": {},
   "outputs": [],
   "source": [
    "# Po-Ba.html\n",
    "<!DOCTYPE html>\n",
    "<html lang=\"en\">\n",
    "\n",
    "<head>\n",
    "    <meta charset=\"UTF-8\">\n",
    "    <meta name=\"viewport\" content=\"width=device-width, initial-scale=1.0\">\n",
    "    <title>Po-Ba</title>\n",
    "</head>\n",
    "\n",
    "<body>\n",
    "    <img src=\"Po-Ba.jpg\" alt=\"Po-Ba in front of Pohang sea\">\n",
    "</body>\n",
    "\n",
    "</html>"
   ]
  }
 ],
 "metadata": {
  "kernelspec": {
   "display_name": "Python 3 (ipykernel)",
   "language": "python",
   "name": "python3"
  },
  "language_info": {
   "codemirror_mode": {
    "name": "ipython",
    "version": 3
   },
   "file_extension": ".py",
   "mimetype": "text/x-python",
   "name": "python",
   "nbconvert_exporter": "python",
   "pygments_lexer": "ipython3",
   "version": "3.12.4"
  }
 },
 "nbformat": 4,
 "nbformat_minor": 5
}
