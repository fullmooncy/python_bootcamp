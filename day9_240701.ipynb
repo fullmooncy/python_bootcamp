{
 "cells": [
  {
   "cell_type": "code",
   "execution_count": 11,
   "id": "5f5453fe-09bc-4499-93e5-4f8eeee2785b",
   "metadata": {},
   "outputs": [
    {
     "name": "stdout",
     "output_type": "stream",
     "text": [
      "An error in a program that prevents the program from running as expected.\n"
     ]
    }
   ],
   "source": [
    "# Day9. Dictonaries and Nesting\n",
    "# Dictionaries is uesful to group information together.\n",
    "# Dictionaries form: {key: value}\n",
    "programming_dictionary = {\n",
    "    \"Bug\": \"An error in a program that prevents the program from running as expected.\", \n",
    "    \"Function\": \"A piece of code that you can easily call over and over again.\",\n",
    "}\n",
    "\n",
    "# way to extract one element in a dictionary\n",
    "print(programming_dictionary[\"Bug\"]) # c.f. spelling of keys."
   ]
  },
  {
   "cell_type": "code",
   "execution_count": 12,
   "id": "2b9b95b5-922f-4a3b-9d66-2c841afcdc83",
   "metadata": {},
   "outputs": [],
   "source": [
    "#adding new items to dictionary.\n",
    "programming_dictionary[\"Loop\"]=\"The action of doing something over and over again.\""
   ]
  },
  {
   "cell_type": "code",
   "execution_count": 13,
   "id": "adcfa707-85e6-41fa-b3c3-f07bcd05ccd5",
   "metadata": {},
   "outputs": [
    {
     "name": "stdout",
     "output_type": "stream",
     "text": [
      "{'Bug': 'An error in a program that prevents the program from running as expected.', 'Function': 'A piece of code that you can easily call over and over again.', 'Loop': 'The action of doing something over and over again.'}\n"
     ]
    }
   ],
   "source": [
    "print(programming_dictionary)"
   ]
  },
  {
   "cell_type": "code",
   "execution_count": 7,
   "id": "fbf02573-e2b6-419d-8a7b-79a070fbca33",
   "metadata": {},
   "outputs": [],
   "source": [
    "#making empty dictionary\n",
    "empty_dic = {}"
   ]
  },
  {
   "cell_type": "code",
   "execution_count": 10,
   "id": "bf6dd1d8-9bd2-4fa6-b883-02cc252b8bfe",
   "metadata": {},
   "outputs": [
    {
     "name": "stdout",
     "output_type": "stream",
     "text": [
      "{}\n"
     ]
    }
   ],
   "source": [
    "#Wipe an existing dictionary\n",
    "# programming_dictionary = {}\n",
    "# print(programming_dictionary)"
   ]
  },
  {
   "cell_type": "code",
   "execution_count": 14,
   "id": "220914f3-adde-4300-af44-098ae48f9dc4",
   "metadata": {},
   "outputs": [],
   "source": [
    "#Edit an item in a dictionary\n",
    "programming_dictionary[\"Bug\"] = \"A moth in your computer\""
   ]
  },
  {
   "cell_type": "code",
   "execution_count": 15,
   "id": "da0c1ee4-0fd9-4600-9054-4d945c986534",
   "metadata": {},
   "outputs": [
    {
     "data": {
      "text/plain": [
       "{'Bug': 'A moth in your computer',\n",
       " 'Function': 'A piece of code that you can easily call over and over again.',\n",
       " 'Loop': 'The action of doing something over and over again.'}"
      ]
     },
     "execution_count": 15,
     "metadata": {},
     "output_type": "execute_result"
    }
   ],
   "source": [
    "programming_dictionary"
   ]
  },
  {
   "cell_type": "code",
   "execution_count": 18,
   "id": "43b86624-05d9-450b-ba57-ad06746d0f8b",
   "metadata": {},
   "outputs": [
    {
     "name": "stdout",
     "output_type": "stream",
     "text": [
      "Bug\n",
      "A moth in your computer\n",
      "Function\n",
      "A piece of code that you can easily call over and over again.\n",
      "Loop\n",
      "The action of doing something over and over again.\n"
     ]
    }
   ],
   "source": [
    "# Loop through a dictionary\n",
    "for thing in programming_dictionary:\n",
    "    print(thing)\n",
    "    print(programming_dictionary[thing])"
   ]
  },
  {
   "cell_type": "code",
   "execution_count": 20,
   "id": "930abf33-e602-46fd-bb22-e79dd1332e01",
   "metadata": {},
   "outputs": [
    {
     "name": "stdout",
     "output_type": "stream",
     "text": [
      "{'Harry': 'Exceeds Expectations', 'Ron': 'Acceptable', 'Hermione': 'Outstanding', 'Draco': 'Acceptable', 'Neville': 'Fail'}\n"
     ]
    }
   ],
   "source": [
    "# LESSON 22 DAY 9 - GRADING PROGRAM\n",
    "student_scores = {\n",
    "  \"Harry\": 81,\n",
    "  \"Ron\": 78,\n",
    "  \"Hermione\": 99, \n",
    "  \"Draco\": 74,\n",
    "  \"Neville\": 62,\n",
    "}\n",
    "# 🚨 Don't change the code above 👆\n",
    "# TODO-1: Create an empty dictionary called student_grades.\n",
    "student_grades = {}\n",
    "\n",
    "# TODO-2: Write your code below to add the grades to student_grades.👇\n",
    "for name in student_scores:\n",
    "  if student_scores[name] <= 70:\n",
    "    student_grades[name] = \"Fail\"\n",
    "  elif student_scores[name] >=71 and student_scores[name] <= 80:\n",
    "    student_grades[name] = \"Acceptable\"\n",
    "  elif student_scores[name] >=81 and student_scores[name] <= 90:\n",
    "    student_grades[name] = \"Exceeds Expectations\"\n",
    "  else:\n",
    "    student_grades[name] = \"Outstanding\"\n",
    "    \n",
    "# 🚨 Don't change the code below 👇\n",
    "print(student_grades)"
   ]
  },
  {
   "cell_type": "code",
   "execution_count": 21,
   "id": "6546ea66-abac-44a1-b577-45fca8be7c41",
   "metadata": {},
   "outputs": [
    {
     "name": "stdout",
     "output_type": "stream",
     "text": [
      "{'Harry': 'Exceeds Expectaions', 'Ron': 'Acceptable', 'Hermione': 'Outstanding', 'Draco': 'Acceptable', 'Neville': 'Fail'}\n"
     ]
    }
   ],
   "source": [
    "# LESSON 22 DAY 9 - GRADING PROGRAM _teacher solution\n",
    "student_scores = {\n",
    "  \"Harry\": 81,\n",
    "  \"Ron\": 78,\n",
    "  \"Hermione\": 99, \n",
    "  \"Draco\": 74,\n",
    "  \"Neville\": 62,\n",
    "}\n",
    "# 🚨 Don't change the code above 👆\n",
    "# TODO-1: Create an empty dictionary called student_grades.\n",
    "student_grades = {}\n",
    "\n",
    "# TODO-2: Covert scores into grades.\n",
    "for student in student_scores:\n",
    "    score = student_scores[student]\n",
    "    if score > 90:\n",
    "        student_grades[student] = \"Outstanding\"\n",
    "    elif score > 80:\n",
    "        student_grades[student] = \"Exceeds Expectaions\"\n",
    "    elif score > 70:\n",
    "        student_grades[student] = \"Acceptable\"\n",
    "    else:\n",
    "        student_grades[student] = \"Fail\"\n",
    "\n",
    "print(student_grades)"
   ]
  },
  {
   "cell_type": "code",
   "execution_count": 23,
   "id": "62fada09-d3ad-4594-a684-592d4ce281c0",
   "metadata": {},
   "outputs": [],
   "source": [
    "# Nesting\n",
    "# {\n",
    "#     key: [List],\n",
    "#     key2: {Dict},\n",
    "# }\n",
    "# above is possible\n",
    "\n",
    "capitals = {\n",
    "    \"France\": \"Paris\",\n",
    "    \"Germany\": \"Berlin\",\n",
    "}\n",
    "\n",
    "# Nesting a List in a Dictionary\n",
    "travel_log = {\n",
    "    \"Franec\": [\"Paris\", \"Lille\"],\n",
    "    \"Germany\": {\"city\":\"Berlin\", \"Food\":\"souasage\"}\n",
    "}"
   ]
  },
  {
   "cell_type": "code",
   "execution_count": 26,
   "id": "26629741-c0eb-4178-ad3a-24664524806f",
   "metadata": {},
   "outputs": [],
   "source": [
    "travel_log = {\n",
    "    \"France\": {\"cities_visited\":[\"Paris\", \"Lille\"]},\n",
    "    \"Germany\": {\"city\":\"Berlin\", \"Food\":\"souasage\"}\n",
    "}"
   ]
  },
  {
   "cell_type": "code",
   "execution_count": 29,
   "id": "62c5c1de-8d10-45ed-86e3-db40fbc156ca",
   "metadata": {},
   "outputs": [],
   "source": [
    "# We can put dictionaries in a list\n",
    "# Nesting Dictionary in a lsit\n",
    "travel_list = [\n",
    "    {\n",
    "        \"country\":\"France\", \n",
    "        \"cities_visited\":[\"Paris\", \"Lille\"], \n",
    "        \"total_visits\":12\n",
    "    },\n",
    "    {\n",
    "        \"country\":\"Germany\", \n",
    "        \"cities_visited\":[\"Berlin\", \"Hamburg\"],\n",
    "        \"total_visits\":5\n",
    "    }\n",
    "]"
   ]
  },
  {
   "cell_type": "code",
   "execution_count": 31,
   "id": "da4ab82b-4b11-4d65-9372-827e5617a8dc",
   "metadata": {},
   "outputs": [
    {
     "name": "stdin",
     "output_type": "stream",
     "text": [
      " Brazil\n",
      " 2\n",
      " [\"Sao Paulo\", \"Rid de Janeiro\"]\n"
     ]
    },
    {
     "name": "stdout",
     "output_type": "stream",
     "text": [
      "I've been to Brazil 2 times.\n",
      "My favourite city was Sao Paulo.\n"
     ]
    }
   ],
   "source": [
    "# LESSON 23 DAY 9 - DICTIONARY IN LIST\n",
    "country = input() # Add country name\n",
    "visits = int(input()) # Number of visits\n",
    "list_of_cities = eval(input()) # create list from formatted string\n",
    "\n",
    "travel_log = [\n",
    "  {\n",
    "    \"country\": \"France\",\n",
    "    \"visits\": 12,\n",
    "    \"cities\": [\"Paris\", \"Lille\", \"Dijon\"]\n",
    "  },\n",
    "  {\n",
    "    \"country\": \"Germany\",\n",
    "    \"visits\": 5,\n",
    "    \"cities\": [\"Berlin\", \"Hamburg\", \"Stuttgart\"]\n",
    "  },\n",
    "]\n",
    "# Do NOT change the code above 👆\n",
    "\n",
    "# TODO: Write the function that will allow new countries\n",
    "# to be added to the travel_log. \n",
    "def add_new_country(ctry, visit_times, cities):\n",
    "  new_country = {}\n",
    "  new_country[\"country\"] = ctry\n",
    "  new_country[\"visits\"] = visit_times\n",
    "  new_country[\"cities\"] = cities\n",
    "  travel_log.append(new_country)\n",
    "  \n",
    "# Do not change the code below 👇\n",
    "add_new_country(country, visits, list_of_cities)\n",
    "print(f\"I've been to {travel_log[2]['country']} {travel_log[2]['visits']} times.\")\n",
    "print(f\"My favourite city was {travel_log[2]['cities'][0]}.\")"
   ]
  },
  {
   "cell_type": "code",
   "execution_count": 34,
   "id": "b00f06e7-ce63-4e59-b8c2-be065300868a",
   "metadata": {},
   "outputs": [
    {
     "name": "stdin",
     "output_type": "stream",
     "text": [
      " Italy\n",
      " 7\n",
      " [\"Venice\", \"Rome\", \"Florence\"]\n"
     ]
    },
    {
     "name": "stdout",
     "output_type": "stream",
     "text": [
      "I've been to Italy 7 times.\n",
      "My favourite city was Venice.\n"
     ]
    }
   ],
   "source": [
    "# LESSON 23 DAY 9 - DICTIONARY IN LIST _teacher solution\n",
    "country = input() # Add country name\n",
    "visits = int(input()) # Number of visits\n",
    "list_of_cities = eval(input()) # create list from formatted string\n",
    "travel_log = [\n",
    "  {\n",
    "    \"country\": \"France\",\n",
    "    \"visits\": 12,\n",
    "    \"cities\": [\"Paris\", \"Lille\", \"Dijon\"]\n",
    "  },\n",
    "  {\n",
    "    \"country\": \"Germany\",\n",
    "    \"visits\": 5,\n",
    "    \"cities\": [\"Berlin\", \"Hamburg\", \"Stuttgart\"]\n",
    "  },\n",
    "]\n",
    "# Your code here 👇\n",
    "def add_new_country(name, times_visited, cities_visited):\n",
    "    new_country={}\n",
    "    new_country[\"country\"]=name\n",
    "    new_country[\"visits\"]=times_visited\n",
    "    new_country[\"cities\"]=cities_visited\n",
    "    travel_log.append(new_country)\n",
    "\n",
    "add_new_country(country, visits, list_of_cities)\n",
    "print(f\"I've been to {travel_log[2]['country']} {travel_log[2]['visits']} times.\")\n",
    "print(f\"My favourite city was {travel_log[2]['cities'][0]}.\")"
   ]
  },
  {
   "cell_type": "code",
   "execution_count": null,
   "id": "36421353-ead0-48ee-a1a1-e3822c8935b9",
   "metadata": {},
   "outputs": [],
   "source": [
    "# dictionary 뒤에 []가 있으면 dictionary에 새로운 값을 추가한다는 말임!"
   ]
  },
  {
   "cell_type": "code",
   "execution_count": 57,
   "id": "bcebb783-4d55-4f0f-b322-d472aac568ab",
   "metadata": {},
   "outputs": [
    {
     "name": "stdout",
     "output_type": "stream",
     "text": [
      "Requirement already satisfied: replit in c:\\users\\user\\.conda\\envs\\cksdud39\\lib\\site-packages (4.0.0)\n",
      "Requirement already satisfied: Flask>=2.0.0 in c:\\users\\user\\.conda\\envs\\cksdud39\\lib\\site-packages (from replit) (3.0.3)\n",
      "Requirement already satisfied: Werkzeug<4,>=2 in c:\\users\\user\\.conda\\envs\\cksdud39\\lib\\site-packages (from replit) (3.0.3)\n",
      "Requirement already satisfied: aiohttp>=3.6.2 in c:\\users\\user\\.conda\\envs\\cksdud39\\lib\\site-packages (from replit) (3.9.5)\n",
      "Requirement already satisfied: aiohttp-retry<3.0.0,>=2.8.3 in c:\\users\\user\\.conda\\envs\\cksdud39\\lib\\site-packages (from replit) (2.8.3)\n",
      "Requirement already satisfied: protobuf<5.0.0,>=4.21.8 in c:\\users\\user\\.conda\\envs\\cksdud39\\lib\\site-packages (from replit) (4.25.3)\n",
      "Requirement already satisfied: pyseto<2.0.0,>=1.6.11 in c:\\users\\user\\.conda\\envs\\cksdud39\\lib\\site-packages (from replit) (1.7.8)\n",
      "Requirement already satisfied: requests<3.0.0,>=2.25.1 in c:\\users\\user\\.conda\\envs\\cksdud39\\lib\\site-packages (from replit) (2.31.0)\n",
      "Requirement already satisfied: typing_extensions<5,>=4 in c:\\users\\user\\.conda\\envs\\cksdud39\\lib\\site-packages (from replit) (4.9.0)\n",
      "Requirement already satisfied: urllib3<3,>=1.26 in c:\\users\\user\\.conda\\envs\\cksdud39\\lib\\site-packages (from replit) (1.26.18)\n",
      "Requirement already satisfied: aiosignal>=1.1.2 in c:\\users\\user\\.conda\\envs\\cksdud39\\lib\\site-packages (from aiohttp>=3.6.2->replit) (1.3.1)\n",
      "Requirement already satisfied: attrs>=17.3.0 in c:\\users\\user\\.conda\\envs\\cksdud39\\lib\\site-packages (from aiohttp>=3.6.2->replit) (23.1.0)\n",
      "Requirement already satisfied: frozenlist>=1.1.1 in c:\\users\\user\\.conda\\envs\\cksdud39\\lib\\site-packages (from aiohttp>=3.6.2->replit) (1.4.1)\n",
      "Requirement already satisfied: multidict<7.0,>=4.5 in c:\\users\\user\\.conda\\envs\\cksdud39\\lib\\site-packages (from aiohttp>=3.6.2->replit) (6.0.5)\n",
      "Requirement already satisfied: yarl<2.0,>=1.0 in c:\\users\\user\\.conda\\envs\\cksdud39\\lib\\site-packages (from aiohttp>=3.6.2->replit) (1.9.4)\n",
      "Requirement already satisfied: async-timeout<5.0,>=4.0 in c:\\users\\user\\.conda\\envs\\cksdud39\\lib\\site-packages (from aiohttp>=3.6.2->replit) (4.0.3)\n",
      "Requirement already satisfied: Jinja2>=3.1.2 in c:\\users\\user\\.conda\\envs\\cksdud39\\lib\\site-packages (from Flask>=2.0.0->replit) (3.1.3)\n",
      "Requirement already satisfied: itsdangerous>=2.1.2 in c:\\users\\user\\.conda\\envs\\cksdud39\\lib\\site-packages (from Flask>=2.0.0->replit) (2.2.0)\n",
      "Requirement already satisfied: click>=8.1.3 in c:\\users\\user\\.conda\\envs\\cksdud39\\lib\\site-packages (from Flask>=2.0.0->replit) (8.1.7)\n",
      "Requirement already satisfied: blinker>=1.6.2 in c:\\users\\user\\.conda\\envs\\cksdud39\\lib\\site-packages (from Flask>=2.0.0->replit) (1.8.2)\n",
      "Requirement already satisfied: importlib-metadata>=3.6.0 in c:\\users\\user\\.conda\\envs\\cksdud39\\lib\\site-packages (from Flask>=2.0.0->replit) (7.0.1)\n",
      "Requirement already satisfied: argon2-cffi>=23.1.0 in c:\\users\\user\\.conda\\envs\\cksdud39\\lib\\site-packages (from pyseto<2.0.0,>=1.6.11->replit) (23.1.0)\n",
      "Requirement already satisfied: cryptography<43,>=42.0.1 in c:\\users\\user\\.conda\\envs\\cksdud39\\lib\\site-packages (from pyseto<2.0.0,>=1.6.11->replit) (42.0.8)\n",
      "Requirement already satisfied: iso8601<3.0.0,>=1.0.2 in c:\\users\\user\\.conda\\envs\\cksdud39\\lib\\site-packages (from pyseto<2.0.0,>=1.6.11->replit) (2.1.0)\n",
      "Requirement already satisfied: pycryptodomex>=3.18.0 in c:\\users\\user\\.conda\\envs\\cksdud39\\lib\\site-packages (from pyseto<2.0.0,>=1.6.11->replit) (3.20.0)\n",
      "Requirement already satisfied: charset-normalizer<4,>=2 in c:\\users\\user\\.conda\\envs\\cksdud39\\lib\\site-packages (from requests<3.0.0,>=2.25.1->replit) (2.0.4)\n",
      "Requirement already satisfied: idna<4,>=2.5 in c:\\users\\user\\.conda\\envs\\cksdud39\\lib\\site-packages (from requests<3.0.0,>=2.25.1->replit) (3.4)\n",
      "Requirement already satisfied: certifi>=2017.4.17 in c:\\users\\user\\.conda\\envs\\cksdud39\\lib\\site-packages (from requests<3.0.0,>=2.25.1->replit) (2024.2.2)\n",
      "Requirement already satisfied: MarkupSafe>=2.1.1 in c:\\users\\user\\.conda\\envs\\cksdud39\\lib\\site-packages (from Werkzeug<4,>=2->replit) (2.1.3)\n",
      "Requirement already satisfied: argon2-cffi-bindings in c:\\users\\user\\.conda\\envs\\cksdud39\\lib\\site-packages (from argon2-cffi>=23.1.0->pyseto<2.0.0,>=1.6.11->replit) (21.2.0)\n",
      "Requirement already satisfied: colorama in c:\\users\\user\\.conda\\envs\\cksdud39\\lib\\site-packages (from click>=8.1.3->Flask>=2.0.0->replit) (0.4.6)\n",
      "Requirement already satisfied: cffi>=1.12 in c:\\users\\user\\.conda\\envs\\cksdud39\\lib\\site-packages (from cryptography<43,>=42.0.1->pyseto<2.0.0,>=1.6.11->replit) (1.16.0)\n",
      "Requirement already satisfied: zipp>=0.5 in c:\\users\\user\\.conda\\envs\\cksdud39\\lib\\site-packages (from importlib-metadata>=3.6.0->Flask>=2.0.0->replit) (3.17.0)\n",
      "Requirement already satisfied: pycparser in c:\\users\\user\\.conda\\envs\\cksdud39\\lib\\site-packages (from cffi>=1.12->cryptography<43,>=42.0.1->pyseto<2.0.0,>=1.6.11->replit) (2.21)\n",
      "\n",
      "                         ___________\n",
      "                         \\         /\n",
      "                          )_______(\n",
      "                          |\"\"\"\"\"\"\"|_.-._,.---------.,_.-._\n",
      "                          |       | | |               | | ''-.\n",
      "                          |       |_| |_             _| |_..-'\n",
      "                          |_______| '-' `'---------'` '-'\n",
      "                          )\"\"\"\"\"\"\"(\n",
      "                         /_________\\\n",
      "                       .-------------.\n",
      "                      /_______________\\\n",
      "\n",
      "Welcome to the secret action program.\n"
     ]
    },
    {
     "name": "stdin",
     "output_type": "stream",
     "text": [
      "What is your name?:  Moon\n",
      "What's your bid?: $ 120\n",
      "Are there any other bidders? Type 'yes' or 'no'.\n",
      " yes\n"
     ]
    },
    {
     "name": "stdout",
     "output_type": "stream",
     "text": [
      "\u001b[H\u001b[2J"
     ]
    },
    {
     "name": "stdin",
     "output_type": "stream",
     "text": [
      "What is your name?:  chan\n",
      "What's your bid?: $ 100\n",
      "Are there any other bidders? Type 'yes' or 'no'.\n",
      " yes\n"
     ]
    },
    {
     "name": "stdout",
     "output_type": "stream",
     "text": [
      "\u001b[H\u001b[2J"
     ]
    },
    {
     "name": "stdin",
     "output_type": "stream",
     "text": [
      "What is your name?:  young\n",
      "What's your bid?: $ 80\n",
      "Are there any other bidders? Type 'yes' or 'no'.\n",
      " no\n"
     ]
    },
    {
     "name": "stdout",
     "output_type": "stream",
     "text": [
      "\u001b[H\u001b[2JThe winner is Moon with a bid of $120.\n"
     ]
    }
   ],
   "source": [
    "# day9 _final project\n",
    "!pip install replit\n",
    "from replit import clear\n",
    "#HINT: You can call clear() to clear the output in the console.\n",
    "\n",
    "from art import logo\n",
    "print(logo)\n",
    "\n",
    "print(\"Welcome to the secret action program.\")\n",
    "rep = True\n",
    "dic = {\n",
    "    \"name\": [],\n",
    "    \"price\": []\n",
    "}\n",
    "\n",
    "while rep:\n",
    "    name = input(\"What is your name?: \")\n",
    "    bid = input(\"What's your bid?: $\")\n",
    "    dic[\"name\"].append(name)\n",
    "    dic[\"price\"].append(bid)\n",
    "    choice = input(\"Are there any other bidders? Type 'yes' or 'no'.\\n\")\n",
    "    if choice == \"no\":\n",
    "        rep = False\n",
    "    clear()\n",
    "\n",
    "\n",
    "max_bid = 0\n",
    "name_index = 0\n",
    "i = 0\n",
    "for p in dic[\"price\"]:\n",
    "    if int(p) >= max_bid:\n",
    "        max_bid = int(p)\n",
    "        name_index = i\n",
    "    i +=1\n",
    "\n",
    "print(\"The winner is \"+ dic[\"name\"][name_index] + \" with a bid of $\" + dic[\"price\"][name_index]+\".\")"
   ]
  },
  {
   "cell_type": "code",
   "execution_count": 52,
   "id": "78023185-5cce-4fb6-b91e-aad65ca3df5e",
   "metadata": {},
   "outputs": [
    {
     "name": "stdout",
     "output_type": "stream",
     "text": [
      "\n",
      "                         ___________\n",
      "                         \\         /\n",
      "                          )_______(\n",
      "                          |\"\"\"\"\"\"\"|_.-._,.---------.,_.-._\n",
      "                          |       | | |               | | ''-.\n",
      "                          |       |_| |_             _| |_..-'\n",
      "                          |_______| '-' `'---------'` '-'\n",
      "                          )\"\"\"\"\"\"\"(\n",
      "                         /_________\\\n",
      "                       .-------------.\n",
      "                      /_______________\\\n",
      "\n"
     ]
    },
    {
     "name": "stdin",
     "output_type": "stream",
     "text": [
      "What is your name?:  Moon\n",
      "What is your bid?:  80\n",
      "Are there any other bidders? Type 'yes' or 'no'.\n",
      " ye\n",
      "What is your name?:  Chan\n",
      "What is your bid?:  100\n",
      "Are there any other bidders? Type 'yes' or 'no'.\n",
      " yes\n"
     ]
    },
    {
     "name": "stdout",
     "output_type": "stream",
     "text": [
      "\u001b[H\u001b[2J"
     ]
    },
    {
     "name": "stdin",
     "output_type": "stream",
     "text": [
      "What is your name?:  young\n",
      "What is your bid?:  100\n",
      "Are there any other bidders? Type 'yes' or 'no'.\n",
      " no\n"
     ]
    },
    {
     "name": "stdout",
     "output_type": "stream",
     "text": [
      "The winner is Chan with a bid of $100\n"
     ]
    }
   ],
   "source": [
    "# # day9 _final project _teacher solution\n",
    "from replit import clear\n",
    "\n",
    "from art import logo\n",
    "\n",
    "print(logo)\n",
    "\n",
    "bids = {}\n",
    "bidding_finished = False\n",
    "\n",
    "def find_highest_bidder(bidding_record):\n",
    "    highest_bid = 0\n",
    "    winner = \"\"\n",
    "    for bidder in bidding_record:\n",
    "        bid_amount = bidding_record[bidder]\n",
    "        if bid_amount > highest_bid:\n",
    "            highest_bid = bid_amount\n",
    "            winner = bidder\n",
    "    print(f\"The winner is {winner} with a bid of ${highest_bid}\")\n",
    "\n",
    "while not bidding_finished:\n",
    "    name = input(\"What is your name?: \")\n",
    "    price = int(input(\"What is your bid?: \"))\n",
    "    bids[name] = price\n",
    "    should_continue = input(\"Are there any other bidders? Type 'yes' or 'no'.\\n\")\n",
    "    if should_continue == \"no\":\n",
    "        bidding_finished = True\n",
    "        find_highest_bidder(bids)\n",
    "    elif should_continue == \"yes\":\n",
    "        clear()\n",
    "\n",
    "# reflection: teacher used a function to do the final step. When the name is stored at the 'max_name' value rather than using 'i' and 'name index' variables, i could have reduced the number of variables.    \n",
    "# essentially, the dictionary strcuture between teacher and me is different.\n",
    "# in case of teacher, it is {{name1: price1}, {name2: price2}, ...} structure.\n",
    "# but in my case, it is [{name: name1, name2, name3, ...}, {price: price1, price2, ...}] structure."
   ]
  },
  {
   "cell_type": "code",
   "execution_count": null,
   "id": "6a463c5c-6b0b-4993-9c15-ea3cc05472e3",
   "metadata": {},
   "outputs": [],
   "source": []
  }
 ],
 "metadata": {
  "kernelspec": {
   "display_name": "Python 3 (ipykernel)",
   "language": "python",
   "name": "python3"
  },
  "language_info": {
   "codemirror_mode": {
    "name": "ipython",
    "version": 3
   },
   "file_extension": ".py",
   "mimetype": "text/x-python",
   "name": "python",
   "nbconvert_exporter": "python",
   "pygments_lexer": "ipython3",
   "version": "3.9.18"
  }
 },
 "nbformat": 4,
 "nbformat_minor": 5
}
