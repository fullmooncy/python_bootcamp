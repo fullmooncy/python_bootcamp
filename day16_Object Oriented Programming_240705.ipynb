{
 "cells": [
  {
   "cell_type": "code",
   "execution_count": 1,
   "id": "e312f68c-9ad8-4b0d-9258-6963ee51e28e",
   "metadata": {},
   "outputs": [],
   "source": [
    "# day16 Object Oriented Programming(OOP) _240705\n",
    "\n",
    "# procedural programming: where function or procedure do the particular thing\n",
    "# one of the earliest paradigm of programming\n",
    "# it becomes confusing when lines are long\n",
    "\n",
    "# what if we seperate and manage it with modules?\n",
    "# modules are reuseable\n",
    "# Object Oriented Programming: we split the logic task to small pieces. And each pieces can work by seperate team"
   ]
  },
  {
   "cell_type": "code",
   "execution_count": null,
   "id": "cf8827c2-f523-4744-9458-4d615a227907",
   "metadata": {},
   "outputs": [],
   "source": [
    "# How to use OOP\n",
    "# we need two thing for module: 'what it has' and 'what it does'\n",
    "# 'what it has' means variables with values. 'what it does' means the action and functions\n",
    "# 'what it has': attribute / 'what it does': methods\n",
    "# attribute: variable that is associated with a module object. variable attached to the object.\n",
    "# methods: function that only praticular model can do\n",
    "# object has attributes and methods\n",
    "# 'Waiter' is 'class', and 'the individual object generated from the classes' like Henry and Betty are 'object'"
   ]
  },
  {
   "cell_type": "code",
   "execution_count": null,
   "id": "ad2c6ad9-e081-4d49-8785-d7d745bf656c",
   "metadata": {},
   "outputs": [],
   "source": [
    "# Constructing object\n",
    "# car = CarBlueprint()\n",
    "# object = Class()\n",
    "# class is written normally with each word Capitalized"
   ]
  },
  {
   "cell_type": "code",
   "execution_count": null,
   "id": "c9948fb4-b8f1-4fa8-adab-a742ab923530",
   "metadata": {},
   "outputs": [],
   "source": [
    "# Turtle graphic\n",
    "import another_module\n",
    "print(another_module.another_variable)\n",
    "\n",
    "# making new turtle object\n",
    "import turtle\n",
    "timmy = turtle.Turtle()\n",
    "\n",
    "# above codes and under two lines are same\n",
    "from turtle import Turtle\n",
    "timmy = Turtle()\n",
    "print(timmy)\n",
    "# print new Turtle module from turtle object saved at the location in the computer memory"
   ]
  },
  {
   "cell_type": "code",
   "execution_count": null,
   "id": "d17067c5-7e32-4906-8981-f1a2115270ff",
   "metadata": {},
   "outputs": [],
   "source": [
    "# Object Arrtibutes\n",
    "# car.speed \n",
    "# object.attribute\n",
    "from turtle import Turtle, Screen\n",
    "my_screen = Screen()\n",
    "print(my_screen.canvwidth)"
   ]
  },
  {
   "cell_type": "code",
   "execution_count": 2,
   "id": "30553296-f766-4c9d-9cf3-5275aa82ba7a",
   "metadata": {},
   "outputs": [
    {
     "name": "stdout",
     "output_type": "stream",
     "text": [
      "<turtle.Turtle object at 0x000001A4ACE0E1C0>\n"
     ]
    }
   ],
   "source": [
    "# Object methods\n",
    "# car.stop()\n",
    "# object.method()\n",
    "from turtle import Turtle, Screen\n",
    "timmy = Turtle()\n",
    "print(timmy)\n",
    "# print new Turtle module from turtle object saved at the location in the computer memory\n",
    "timmy.shape(\"turtle\")\n",
    "timmy.color(\"chartreuse1\")\n",
    "timmy.pencolor(\"black\")\n",
    "timmy.fd(100)\n",
    "\n",
    "my_screen = Screen()\n",
    "my_screen.exitonclick() #object.method()"
   ]
  },
  {
   "cell_type": "code",
   "execution_count": 4,
   "id": "a6529996-0a96-4f5a-a7c5-347f10b52572",
   "metadata": {},
   "outputs": [
    {
     "name": "stdout",
     "output_type": "stream",
     "text": [
      "Collecting prettytable\n",
      "  Downloading prettytable-3.10.0-py3-none-any.whl.metadata (30 kB)\n",
      "Requirement already satisfied: wcwidth in c:\\users\\user\\.conda\\envs\\cksdud39\\lib\\site-packages (from prettytable) (0.2.5)\n",
      "Downloading prettytable-3.10.0-py3-none-any.whl (28 kB)\n",
      "Installing collected packages: prettytable\n",
      "Successfully installed prettytable-3.10.0\n",
      "+--------------+----------+\n",
      "| Pokemon Name |   Type   |\n",
      "+--------------+----------+\n",
      "|   Pikachu    | Electric |\n",
      "|   Squirtle   |  Water   |\n",
      "|  Charmander  |   Fire   |\n",
      "+--------------+----------+\n"
     ]
    }
   ],
   "source": [
    "# Python Packages. PyPI Python Package Index\n",
    "# we could search packages\n",
    "# how to download the packages in PyCharm\n",
    "# > Setting > project name > Python Interpreter > Install button\n",
    "!pip install prettytable\n",
    "\n",
    "import prettytable\n",
    "from prettytable import PrettyTable #from package import class\n",
    "table = PrettyTable()\n",
    "table.add_column(\"Pokemon Name\", [\"Pikachu\", \"Squirtle\", \"Charmander\"])\n",
    "table.add_column(\"Type\", [\"Electric\", \"Water\", \"Fire\"])\n",
    "print(table)"
   ]
  },
  {
   "cell_type": "code",
   "execution_count": 1,
   "id": "eb051ff8-14f1-43f5-a101-330bbe8d522d",
   "metadata": {},
   "outputs": [
    {
     "name": "stdin",
     "output_type": "stream",
     "text": [
      "What would you like? latte/espresso/cappuccino/:  report\n"
     ]
    },
    {
     "name": "stdout",
     "output_type": "stream",
     "text": [
      "Water: 300ml\n",
      "Milk: 200ml\n",
      "Coffee: 100g\n",
      "Money: $0\n"
     ]
    },
    {
     "name": "stdin",
     "output_type": "stream",
     "text": [
      "What would you like? latte/espresso/cappuccino/:  latte\n"
     ]
    },
    {
     "name": "stdout",
     "output_type": "stream",
     "text": [
      "Please insert coins.\n"
     ]
    },
    {
     "name": "stdin",
     "output_type": "stream",
     "text": [
      "How many quarters?:  9\n",
      "How many dimes?:  9\n",
      "How many nickles?:  9\n",
      "How many pennies?:  9\n"
     ]
    },
    {
     "name": "stdout",
     "output_type": "stream",
     "text": [
      "Here is $1.19 in change.\n",
      "Here is your latte ☕️. Enjoy!\n"
     ]
    },
    {
     "name": "stdin",
     "output_type": "stream",
     "text": [
      "What would you like? latte/espresso/cappuccino/:  espresso\n"
     ]
    },
    {
     "name": "stdout",
     "output_type": "stream",
     "text": [
      "Please insert coins.\n"
     ]
    },
    {
     "name": "stdin",
     "output_type": "stream",
     "text": [
      "How many quarters?:  8\n",
      "How many dimes?:  8\n",
      "How many nickles?:  8\n",
      "How many pennies?:  8\n"
     ]
    },
    {
     "name": "stdout",
     "output_type": "stream",
     "text": [
      "Here is $1.78 in change.\n",
      "Here is your espresso ☕️. Enjoy!\n"
     ]
    },
    {
     "name": "stdin",
     "output_type": "stream",
     "text": [
      "What would you like? latte/espresso/cappuccino/:  report\n"
     ]
    },
    {
     "name": "stdout",
     "output_type": "stream",
     "text": [
      "Water: 50ml\n",
      "Milk: 50ml\n",
      "Coffee: 58g\n",
      "Money: $4.0\n"
     ]
    },
    {
     "name": "stdin",
     "output_type": "stream",
     "text": [
      "What would you like? latte/espresso/cappuccino/:  latte\n"
     ]
    },
    {
     "name": "stdout",
     "output_type": "stream",
     "text": [
      "Sorry there is not enough water.\n",
      "Sorry there is not enough milk.\n"
     ]
    },
    {
     "name": "stdin",
     "output_type": "stream",
     "text": [
      "What would you like? latte/espresso/cappuccino/:  off\n"
     ]
    },
    {
     "name": "stdout",
     "output_type": "stream",
     "text": [
      "The coffee machine turned off.\n"
     ]
    }
   ],
   "source": [
    "# day16_final project: oop_coffee_machine_240705\n",
    "from menu import Menu, MenuItem\n",
    "from coffee_maker import CoffeeMaker\n",
    "from money_machine import MoneyMachine\n",
    "\n",
    "money_machine = MoneyMachine() # object = Class\n",
    "coffee_maker = CoffeeMaker()\n",
    "menu = Menu()\n",
    "\n",
    "should_continue = True\n",
    "while should_continue:\n",
    "    options = menu.get_items()\n",
    "    choice = input(f\"What would you like? {options}: \")\n",
    "\n",
    "    # Case1. report\n",
    "    if choice == \"report\":\n",
    "        coffee_maker.report()\n",
    "        money_machine.report()\n",
    "\n",
    "    # Case2. off\n",
    "    elif choice == \"off\":\n",
    "        should_continue = False\n",
    "        print(\"The coffee machine turned off.\")\n",
    "\n",
    "    # Case3. menu\n",
    "    else:\n",
    "        drink = menu.find_drink(choice)\n",
    "        # Case3-1. menu & enough resources\n",
    "        if coffee_maker.is_resource_sufficient(drink):\n",
    "            # Case3-1-1. menu & enough resources & enough money\n",
    "            if money_machine.make_payment(drink.cost):\n",
    "                coffee_maker.make_coffee(drink)\n",
    "            # Case3-1-2. menu & enough resources & not enough money\n",
    "        # Case3-2. menu & not enough resources\n",
    "\n",
    "# reflection: fitsr, I confused whether it is okay to set the name of object same with the file name. It didn't any matter.\n",
    "# next, I stucked at the saving the varaible by using object. 'drink = menu.find_drink(choice)' ___ this part."
   ]
  }
 ],
 "metadata": {
  "kernelspec": {
   "display_name": "Python 3 (ipykernel)",
   "language": "python",
   "name": "python3"
  },
  "language_info": {
   "codemirror_mode": {
    "name": "ipython",
    "version": 3
   },
   "file_extension": ".py",
   "mimetype": "text/x-python",
   "name": "python",
   "nbconvert_exporter": "python",
   "pygments_lexer": "ipython3",
   "version": "3.9.18"
  }
 },
 "nbformat": 4,
 "nbformat_minor": 5
}
