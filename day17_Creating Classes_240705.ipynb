{
 "cells": [
  {
   "cell_type": "code",
   "execution_count": 1,
   "id": "0b02fefe-1591-4a3b-b197-8387062295d0",
   "metadata": {},
   "outputs": [
    {
     "name": "stdout",
     "output_type": "stream",
     "text": [
      "mooncy\n"
     ]
    }
   ],
   "source": [
    "# day17_Creating Classes_240705\n",
    "# Class is a Blueprint\n",
    "class User:\n",
    "    pass # We can use 'pass' keyword to make a class or function empty\n",
    "user_1 = User()\n",
    "user_1.id = \"001\"\n",
    "user_1.username = \"mooncy\"\n",
    "\n",
    "print(user_1.username)\n",
    "# particular style of naming\n",
    "# PascalCase: All words' first letter are higher case, capital letter. Usually used for Class name\n",
    "# camelCase: Only first letter is lower case in PascalCase\n",
    "# snake_case: all letters are lower case and combined by under score '_'"
   ]
  },
  {
   "cell_type": "code",
   "execution_count": 3,
   "id": "08e9186c-f813-4d31-9d7f-68260438bb8d",
   "metadata": {},
   "outputs": [
    {
     "name": "stdout",
     "output_type": "stream",
     "text": [
      "new user being created...\n",
      "mooncy\n"
     ]
    }
   ],
   "source": [
    "user_2 = User()\n",
    "user_2.id = \"002\"\n",
    "user_2.name = \"jack\"\n",
    "# Q. how can I specify all of these start informations?\n",
    "# A. Constructor\n",
    "# initialize: to set (variables, counters, switches, etc.) to their starting values at the beginning of a program or subprogram\n",
    "# class Car:\n",
    "#    def __init__(self):\n",
    "#    # initialise attributes\n",
    "# important thing: init function is going to be called every time you create a new object from the class.\n",
    "\n",
    "class User:\n",
    "    def __init__(self):\n",
    "        print(\"new user being created...\")\n",
    "\n",
    "user_1 = User()\n",
    "user_1.name = \"mooncy\"\n",
    "print(user_1.name)"
   ]
  },
  {
   "cell_type": "code",
   "execution_count": 4,
   "id": "100df0e0-bfbd-4e3e-835e-cadc9e2e8853",
   "metadata": {},
   "outputs": [
    {
     "name": "stdout",
     "output_type": "stream",
     "text": [
      "5\n"
     ]
    }
   ],
   "source": [
    "# way to make attribute in init function\n",
    "class Car:\n",
    "    def __init__(self, seats):\n",
    "        self.seats = seats\n",
    "\n",
    "my_car = Car(5)\n",
    "print(my_car.seats)"
   ]
  },
  {
   "cell_type": "code",
   "execution_count": 14,
   "id": "0d23df07-7249-4b32-a58c-a22edf783a9e",
   "metadata": {},
   "outputs": [
    {
     "name": "stdout",
     "output_type": "stream",
     "text": [
      "001\n",
      "Moon CY\n"
     ]
    }
   ],
   "source": [
    "class User:\n",
    "    def __init__(self, user_id, user_name):\n",
    "        self.username = user_name\n",
    "        self.followers = 0 # if the fixed number is given, you don't need to write in the init function parameters\n",
    "        self.id = user_id\n",
    "        \n",
    "user_1 = User(\"001\", \"Moon CY\")\n",
    "print(user_1.id)\n",
    "# print(user_1.user_id) # AttributeError: 'User' object has no attribute 'user_id'\n",
    "print(user_1.username)\n",
    "# when you create a new object, you must provide attributes in the init function."
   ]
  },
  {
   "cell_type": "code",
   "execution_count": 19,
   "id": "bc20c01a-44f6-430d-ab15-c5f1d7ec15e9",
   "metadata": {},
   "outputs": [
    {
     "name": "stdout",
     "output_type": "stream",
     "text": [
      "5\n",
      "2\n"
     ]
    }
   ],
   "source": [
    "# way to change self attribute in the function\n",
    "class Car:\n",
    "    def __init__(self):\n",
    "        self.seat = 5\n",
    "    def enter_race_mode(self):\n",
    "    # if def enter_race_mode()\n",
    "    # TypeError: enter_race_mode() takes 0 positional arguments but 1 was given\n",
    "        self.seat = 2\n",
    "my_car = Car()\n",
    "print(my_car.seat)\n",
    "my_car.enter_race_mode()\n",
    "print(my_car.seat)"
   ]
  },
  {
   "cell_type": "code",
   "execution_count": 24,
   "id": "13c70016-5374-423a-912e-d1d476b7da2b",
   "metadata": {},
   "outputs": [
    {
     "name": "stdout",
     "output_type": "stream",
     "text": [
      "0\n",
      "1\n",
      "1\n",
      "0\n"
     ]
    }
   ],
   "source": [
    "class User:\n",
    "    def __init__(self, user_id, user_name):\n",
    "        self.id = user_id\n",
    "        self.username = user_name\n",
    "        self.followers = 0\n",
    "        self.following = 0\n",
    "\n",
    "    def follow(self, user):\n",
    "        user.followers += 1\n",
    "        self.following +=1\n",
    "\n",
    "user_1 = User(\"001\", \"Moon CY\")\n",
    "user_2 = User(\"002\", \"Jack\")\n",
    "\n",
    "user_1.follow(user_2)\n",
    "print(user_1.followers)\n",
    "print(user_1.following)\n",
    "print(user_2.followers)\n",
    "print(user_2.following)"
   ]
  },
  {
   "cell_type": "code",
   "execution_count": null,
   "id": "cf36f55a-f301-484e-beb1-3c885f135293",
   "metadata": {},
   "outputs": [],
   "source": []
  },
  {
   "cell_type": "code",
   "execution_count": 2,
   "id": "222de21e-5fe7-4dd4-86fb-99824de4b1c6",
   "metadata": {},
   "outputs": [
    {
     "name": "stdin",
     "output_type": "stream",
     "text": [
      "Q.1: The NVidia GTX 1080 gets its name because it can only render at a 1920x1080 screen resolution. (True/False)?:  true\n"
     ]
    },
    {
     "name": "stdout",
     "output_type": "stream",
     "text": [
      "That's wrong.\n",
      "The correct answer was: False.\n",
      "Your current score is: 0/1.\n",
      "\n"
     ]
    },
    {
     "name": "stdin",
     "output_type": "stream",
     "text": [
      "Q.2: The Windows ME operating system was released in the year 2000. (True/False)?:  false\n"
     ]
    },
    {
     "name": "stdout",
     "output_type": "stream",
     "text": [
      "That's wrong.\n",
      "The correct answer was: True.\n",
      "Your current score is: 0/2.\n",
      "\n"
     ]
    },
    {
     "name": "stdin",
     "output_type": "stream",
     "text": [
      "Q.3: Linus Torvalds created Linux and Git. (True/False)?:  true\n"
     ]
    },
    {
     "name": "stdout",
     "output_type": "stream",
     "text": [
      "You got it right!\n",
      "The correct answer was: True.\n",
      "Your current score is: 1/3.\n",
      "\n"
     ]
    },
    {
     "name": "stdin",
     "output_type": "stream",
     "text": [
      "Q.4: Ada Lovelace is often considered the first computer programmer. (True/False)?:  true\n"
     ]
    },
    {
     "name": "stdout",
     "output_type": "stream",
     "text": [
      "You got it right!\n",
      "The correct answer was: True.\n",
      "Your current score is: 2/4.\n",
      "\n"
     ]
    },
    {
     "name": "stdin",
     "output_type": "stream",
     "text": [
      "Q.5: The Python programming language gets its name from the British comedy group &quot;Monty Python.&quot; (True/False)?:  true\n"
     ]
    },
    {
     "name": "stdout",
     "output_type": "stream",
     "text": [
      "You got it right!\n",
      "The correct answer was: True.\n",
      "Your current score is: 3/5.\n",
      "\n"
     ]
    },
    {
     "name": "stdin",
     "output_type": "stream",
     "text": [
      "Q.6: The Windows 7 operating system has six main editions. (True/False)?:  true\n"
     ]
    },
    {
     "name": "stdout",
     "output_type": "stream",
     "text": [
      "You got it right!\n",
      "The correct answer was: True.\n",
      "Your current score is: 4/6.\n",
      "\n"
     ]
    },
    {
     "name": "stdin",
     "output_type": "stream",
     "text": [
      "Q.7: Pointers were not used in the original C programming language; they were added later on in C++. (True/False)?:  true\n"
     ]
    },
    {
     "name": "stdout",
     "output_type": "stream",
     "text": [
      "That's wrong.\n",
      "The correct answer was: False.\n",
      "Your current score is: 4/7.\n",
      "\n"
     ]
    },
    {
     "name": "stdin",
     "output_type": "stream",
     "text": [
      "Q.8: &quot;HTML&quot; stands for Hypertext Markup Language. (True/False)?:  true\n"
     ]
    },
    {
     "name": "stdout",
     "output_type": "stream",
     "text": [
      "You got it right!\n",
      "The correct answer was: True.\n",
      "Your current score is: 5/8.\n",
      "\n"
     ]
    },
    {
     "name": "stdin",
     "output_type": "stream",
     "text": [
      "Q.9: The logo for Snapchat is a Bell. (True/False)?:  true\n"
     ]
    },
    {
     "name": "stdout",
     "output_type": "stream",
     "text": [
      "That's wrong.\n",
      "The correct answer was: False.\n",
      "Your current score is: 5/9.\n",
      "\n"
     ]
    },
    {
     "name": "stdin",
     "output_type": "stream",
     "text": [
      "Q.10: Linux was first created as an alternative to Windows XP. (True/False)?:  true\n"
     ]
    },
    {
     "name": "stdout",
     "output_type": "stream",
     "text": [
      "That's wrong.\n",
      "The correct answer was: False.\n",
      "Your current score is: 5/10.\n",
      "\n",
      "You've completed the quiz.\n",
      "Your final score was: 5/10\n"
     ]
    }
   ],
   "source": [
    "# final project_quiz game\n",
    "from question_model import Question\n",
    "from data import question_data\n",
    "from quiz_brain import QuizBrain\n",
    "\n",
    "# my code\n",
    "question_bank = []\n",
    "for i in range(len(question_data)):\n",
    "    question = Question(question_data[i][\"text\"], question_data[i][\"answer\"])\n",
    "    question_bank.append(question)\n",
    "# print(question_bank[1].answer)\n",
    "\n",
    "# teacher solution\n",
    "question_bank = []\n",
    "for question in question_data:\n",
    "    question_text = question[\"text\"]\n",
    "    question_answer = question[\"answer\"]\n",
    "    new_question = Question(question_text, question_answer)\n",
    "    question_bank.append(new_question)\n",
    "\n",
    "quiz = QuizBrain(question_bank)\n",
    "\n",
    "while quiz.still_has_question():\n",
    "    quiz.next_question()\n",
    "\n",
    "print(\"You've completed the quiz.\")\n",
    "print(f\"Your final score was: {quiz.score}/{quiz.question_number}\")"
   ]
  },
  {
   "cell_type": "code",
   "execution_count": 1,
   "id": "5bf0763e-2231-4542-97db-a9163003db4c",
   "metadata": {},
   "outputs": [],
   "source": [
    "# data.py\n",
    "question_data_original = [\n",
    "    {\"text\": \"A slug's blood is green.\", \"answer\": \"True\"},\n",
    "    {\"text\": \"The loudest animal is the African Elephant.\", \"answer\": \"False\"},\n",
    "    {\"text\": \"Approximately one quarter of human bones are in the feet.\", \"answer\": \"True\"},\n",
    "    {\"text\": \"The total surface area of a human lungs is the size of a football pitch.\", \"answer\": \"True\"},\n",
    "    {\"text\": \"In West Virginia, USA, if you accidentally hit an animal with your car,\"\n",
    "             \" you are free to take it home to eat.\", \"answer\": \"True\"},\n",
    "    {\"text\": \"In London, UK, if you happen to die in the House of Parliament, you are entitled to a state funeral.\",\n",
    "     \"answer\": \"False\"},\n",
    "    {\"text\": \"It is illegal to pee in the Ocean in Portugal.\", \"answer\": \"True\"},\n",
    "    {\"text\": \"You can lead a cow down stairs but not up stairs.\", \"answer\": \"False\"},\n",
    "    {\"text\": \"Google was originally called 'Backrub'.\", \"answer\": \"True\"},\n",
    "    {\"text\": \"Buzz Aldrin's mother's maiden name was 'Moon'.\", \"answer\": \"True\"},\n",
    "    {\"text\": \"No piece of square dry paper can be folded in half more than 7 times.\", \"answer\": \"False\"},\n",
    "    {\"text\": \"A few ounces of chocolate can to kill a small dog.\", \"answer\": \"True\"}\n",
    "]\n",
    "\n",
    "#https://opentdb.com/\n",
    "question_data = [\n",
    "    {\"type\": \"boolean\",\n",
    "     \"difficulty\": \"easy\",\n",
    "     \"category\": \"Science: Computers\",\n",
    "     \"question\": \"The NVidia GTX 1080 gets its name because it can only render at a 1920x1080 screen resolution.\",\n",
    "     \"correct_answer\": \"False\",\n",
    "     \"incorrect_answers\": [\"True\"]},\n",
    "    {\"type\": \"boolean\", \"difficulty\": \"easy\", \"category\": \"Science: Computers\",\n",
    "     \"question\": \"The Windows ME operating system was released in the year 2000.\",\n",
    "     \"correct_answer\": \"True\", \"incorrect_answers\": [\"False\"]},\n",
    "    {\"type\": \"boolean\", \"difficulty\": \"easy\", \"category\": \"Science: Computers\",\n",
    "     \"question\": \"Linus Torvalds created Linux and Git.\", \"correct_answer\": \"True\",\n",
    "     \"incorrect_answers\": [\"False\"]},\n",
    "    {\"type\": \"boolean\", \"difficulty\": \"easy\", \"category\": \"Science: Computers\",\n",
    "     \"question\": \"Ada Lovelace is often considered the first computer programmer.\",\n",
    "     \"correct_answer\": \"True\", \"incorrect_answers\": [\"False\"]},\n",
    "    {\"type\": \"boolean\", \"difficulty\": \"easy\", \"category\": \"Science: Computers\",\n",
    "     \"question\": \"The Python programming language gets its name from the British comedy group &quot;Monty Python.\"\n",
    "                 \"&quot;\",\n",
    "     \"correct_answer\": \"True\", \"incorrect_answers\": [\"False\"]},\n",
    "    {\"type\": \"boolean\", \"difficulty\": \"easy\", \"category\": \"Science: Computers\",\n",
    "     \"question\": \"The Windows 7 operating system has six main editions.\",\n",
    "     \"correct_answer\": \"True\", \"incorrect_answers\": [\"False\"]},\n",
    "    {\"type\": \"boolean\", \"difficulty\": \"easy\", \"category\": \"Science: Computers\",\n",
    "     \"question\": \"Pointers were not used in the original C programming language; they were added later on in C++.\",\n",
    "     \"correct_answer\": \"False\", \"incorrect_answers\": [\"True\"]},\n",
    "    {\"type\": \"boolean\", \"difficulty\": \"easy\", \"category\": \"Science: Computers\",\n",
    "     \"question\": \"&quot;HTML&quot; stands for Hypertext Markup Language.\",\n",
    "     \"correct_answer\": \"True\", \"incorrect_answers\": [\"False\"]},\n",
    "    {\"type\": \"boolean\", \"difficulty\": \"easy\", \"category\": \"Science: Computers\",\n",
    "     \"question\": \"The logo for Snapchat is a Bell.\", \"correct_answer\": \"False\",\n",
    "     \"incorrect_answers\": [\"True\"]},\n",
    "    {\"type\": \"boolean\", \"difficulty\": \"easy\", \"category\": \"Science: Computers\",\n",
    "     \"question\": \"Linux was first created as an alternative to Windows XP.\",\n",
    "     \"correct_answer\": \"False\", \"incorrect_answers\": [\"True\"]}]\n",
    "\n",
    "# how to change key name of dictionary in python\n",
    "# To update an existing key in a dictionary, you'll need to create a new key with the updated name and\n",
    "# the same value as the old key and then delete the old key.\n",
    "# https://stackoverflow.com/questions/4406501/change-the-name-of-a-key-in-dictionary\n",
    "for i in question_data:\n",
    "    i['text'] = i['question']\n",
    "    i['answer'] = i['correct_answer']\n",
    "\n",
    "# print(question_data[0]['text'])\n",
    "# print(question_data[0]['answer'])"
   ]
  },
  {
   "cell_type": "code",
   "execution_count": null,
   "id": "e619b883-50f7-4af2-b9c5-d40a15a0aeb7",
   "metadata": {},
   "outputs": [],
   "source": [
    "class QuizBrain:\n",
    "    def __init__(self, q_list):\n",
    "        self.question_number = 0\n",
    "        self.question_list = q_list\n",
    "        self.score = 0\n",
    "\n",
    "    # my solution\n",
    "    def next_question(self):\n",
    "        current_question = self.question_list[self.question_number]\n",
    "        self.question_number +=1\n",
    "        user_answer = input(f\"Q.{self.question_number}: {current_question.text} (True/False)?: \")\n",
    "        self.check_answer(user_answer, current_question.answer)\n",
    "\n",
    "    # teacher solution\n",
    "    # def next_question(self):\n",
    "    #     current_question = self.question_list[self.question_number]\n",
    "    #     self.question_number +=1\n",
    "    #     input(f\"Q.{self.question_number}: {current_question.text} (True/False): \")\n",
    "\n",
    "    # my solution\n",
    "    def still_has_question(self):\n",
    "        if self.question_number == len(self.question_list):\n",
    "            return False\n",
    "        else:\n",
    "            return True\n",
    "\n",
    "    # teacher solution\n",
    "    # def still_has_question(self):\n",
    "    #     if self.question_number < len(self.question_list):\n",
    "    #         return False\n",
    "    #     else:\n",
    "    #         return True\n",
    "    # above code can be reduced by one line\n",
    "    # def still_has_question(self):\n",
    "    #     return self.question_number < len(self.question_list)\n",
    "\n",
    "    def check_answer(self, user_answer, correct_answer):\n",
    "        if user_answer.lower() == correct_answer.lower():\n",
    "            print(\"You got it right!\")\n",
    "            self.score +=1\n",
    "        else:\n",
    "            print(\"That's wrong.\")\n",
    "        print(f\"The correct answer was: {correct_answer}.\")\n",
    "        print(f\"Your current score is: {self.score}/{self.question_number}.\\n\")"
   ]
  },
  {
   "cell_type": "code",
   "execution_count": null,
   "id": "320938c9-56d6-41ef-94d7-c81db5e682bf",
   "metadata": {},
   "outputs": [],
   "source": [
    "class Question:\n",
    "    def __init__(self, q_text, q_answer):\n",
    "        self.text = q_text\n",
    "        self.answer = q_answer\n",
    "\n",
    "\n",
    "# new_q = Question(\"2+4=6\", \"True\")\n",
    "# print(new_q.answer)"
   ]
  }
 ],
 "metadata": {
  "kernelspec": {
   "display_name": "Python 3 (ipykernel)",
   "language": "python",
   "name": "python3"
  },
  "language_info": {
   "codemirror_mode": {
    "name": "ipython",
    "version": 3
   },
   "file_extension": ".py",
   "mimetype": "text/x-python",
   "name": "python",
   "nbconvert_exporter": "python",
   "pygments_lexer": "ipython3",
   "version": "3.9.18"
  }
 },
 "nbformat": 4,
 "nbformat_minor": 5
}
