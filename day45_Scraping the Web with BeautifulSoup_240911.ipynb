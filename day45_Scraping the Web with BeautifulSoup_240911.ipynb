{
 "cells": [
  {
   "cell_type": "code",
   "execution_count": null,
   "id": "39615595-b7c6-41aa-809d-7280d7611141",
   "metadata": {},
   "outputs": [],
   "source": [
    "# day45_Scraping the Web with BeautifulSoup_240911\n",
    "# aim: how to make a soup\n",
    "# beautifulsoup: a module that helps developers to make sense of website\n",
    "# a libray, beautiful soup that parsing(분석하는) html file\n",
    "# https://www.crummy.com/software/BeautifulSoup/bs4/doc/"
   ]
  },
  {
   "cell_type": "code",
   "execution_count": 104,
   "id": "669cb123-aca8-42e4-a833-55e99132612c",
   "metadata": {},
   "outputs": [],
   "source": [
    "from bs4 import BeautifulSoup\n",
    "# import lxml # for read XML files\n",
    "\n",
    "with open(\"website.html\", encoding='utf8') as file:  # utf8 is one way of encoding\n",
    "    contents = file.read()\n",
    "\n",
    "soup = BeautifulSoup(contents, \"html.parser\") # generate an object from a Class"
   ]
  },
  {
   "cell_type": "code",
   "execution_count": 106,
   "id": "c74f1f9a-22b3-4504-a064-106b9c53c3c5",
   "metadata": {},
   "outputs": [
    {
     "name": "stdout",
     "output_type": "stream",
     "text": [
      "<title>Angela's Personal Site</title>\n",
      "title\n",
      "Angela's Personal Site\n"
     ]
    }
   ],
   "source": [
    "# how to get one tag and its content?\n",
    "print(soup.title)\n",
    "print(soup.title.name)\n",
    "print(soup.title.string)"
   ]
  },
  {
   "cell_type": "code",
   "execution_count": 108,
   "id": "af27ba1c-065d-45ee-b9e4-cea1d803d95e",
   "metadata": {},
   "outputs": [
    {
     "name": "stdout",
     "output_type": "stream",
     "text": [
      "<!DOCTYPE html>\n",
      "<html>\n",
      " <head>\n",
      "  <meta charset=\"utf-8\"/>\n",
      "  <title>\n",
      "   Angela's Personal Site\n",
      "  </title>\n",
      " </head>\n",
      " <body>\n",
      "  <h1 id=\"name\">\n",
      "   Angela Yu\n",
      "  </h1>\n",
      "  <p>\n",
      "   <em>\n",
      "    Founder of\n",
      "    <strong>\n",
      "     <a href=\"https://www.appbrewery.co/\">\n",
      "      The App Brewery\n",
      "     </a>\n",
      "    </strong>\n",
      "    .\n",
      "   </em>\n",
      "  </p>\n",
      "  <p>\n",
      "   I am an iOS and Web Developer. I ❤️ coffee and motorcycles.\n",
      "  </p>\n",
      "  <hr/>\n",
      "  <h3 class=\"heading\">\n",
      "   Books and Teaching\n",
      "  </h3>\n",
      "  <ul>\n",
      "   <li>\n",
      "    The Complete iOS App Development Bootcamp\n",
      "   </li>\n",
      "   <li>\n",
      "    The Complete Web Development Bootcamp\n",
      "   </li>\n",
      "   <li>\n",
      "    100 Days of Code - The Complete Python Bootcamp\n",
      "   </li>\n",
      "  </ul>\n",
      "  <hr/>\n",
      "  <h3 class=\"heading\">\n",
      "   Other Pages\n",
      "  </h3>\n",
      "  <a href=\"https://angelabauer.github.io/cv/hobbies.html\">\n",
      "   My Hobbies\n",
      "  </a>\n",
      "  <a href=\"https://angelabauer.github.io/cv/contact-me.html\">\n",
      "   Contact Me\n",
      "  </a>\n",
      " </body>\n",
      "</html>\n",
      "\n"
     ]
    }
   ],
   "source": [
    "# showing the html code with indent\n",
    "print(soup.prettify())  "
   ]
  },
  {
   "cell_type": "code",
   "execution_count": 110,
   "id": "7333ada2-41db-4cea-837e-0917c5c381f4",
   "metadata": {},
   "outputs": [
    {
     "name": "stdout",
     "output_type": "stream",
     "text": [
      "[<p><em>Founder of <strong><a href=\"https://www.appbrewery.co/\">The App Brewery</a></strong>.</em></p>, <p>I am an iOS and Web Developer. I ❤️ coffee and motorcycles.</p>]\n"
     ]
    }
   ],
   "source": [
    "# how to get multiple(all) tags and their contents?\n",
    "all_anchor_tags = soup.find_all(name=\"p\")  # name = \"a\" or \"p\" or \"title\" etc\n",
    "print(all_anchor_tags)"
   ]
  },
  {
   "cell_type": "code",
   "execution_count": 112,
   "id": "01308d70-d01a-4c89-8f20-ff4d42fefde8",
   "metadata": {},
   "outputs": [
    {
     "name": "stdout",
     "output_type": "stream",
     "text": [
      "Founder of The App Brewery.\n",
      "I am an iOS and Web Developer. I ❤️ coffee and motorcycles.\n"
     ]
    }
   ],
   "source": [
    "# What if I want only the text in the anchor tags? soup.find_all(name=\"p\")\n",
    "for tag in all_anchor_tags:\n",
    "    print(tag.getText())"
   ]
  },
  {
   "cell_type": "code",
   "execution_count": 114,
   "id": "b41e1e02-0810-4928-8208-9a8a859bfbe7",
   "metadata": {},
   "outputs": [
    {
     "name": "stdout",
     "output_type": "stream",
     "text": [
      "https://www.appbrewery.co/\n",
      "https://angelabauer.github.io/cv/hobbies.html\n",
      "https://angelabauer.github.io/cv/contact-me.html\n"
     ]
    }
   ],
   "source": [
    "all_anchor_tags = soup.find_all(name=\"a\")\n",
    "for tag in all_anchor_tags:\n",
    "    print(tag.get(\"href\"))"
   ]
  },
  {
   "cell_type": "code",
   "execution_count": 116,
   "id": "9ee9da8f-0481-4f75-bc01-5ecdd04c5b37",
   "metadata": {},
   "outputs": [
    {
     "name": "stdout",
     "output_type": "stream",
     "text": [
      "<h1 id=\"name\">Angela Yu</h1>\n"
     ]
    }
   ],
   "source": [
    "# What if I want to find particular tag with id in html?\n",
    "headings = soup.find(name=\"h1\", id=\"name\")\n",
    "print(headings)"
   ]
  },
  {
   "cell_type": "code",
   "execution_count": 118,
   "id": "76a25728-fe0e-47ca-b601-aa8bceeb413d",
   "metadata": {},
   "outputs": [
    {
     "name": "stdout",
     "output_type": "stream",
     "text": [
      "<h3 class=\"heading\">Books and Teaching</h3>\n",
      "['heading']\n"
     ]
    }
   ],
   "source": [
    "# What if I want to find particular tag with class in html?\n",
    "section_heading = soup.find(name=\"h3\", class_=\"heading\")  # cf) class_\n",
    "print(section_heading)\n",
    "print(section_heading.get(\"class\"))"
   ]
  },
  {
   "cell_type": "code",
   "execution_count": 120,
   "id": "0ba23bc7-f253-41ea-88da-b034f321098c",
   "metadata": {},
   "outputs": [
    {
     "name": "stdout",
     "output_type": "stream",
     "text": [
      "<a href=\"https://www.appbrewery.co/\">The App Brewery</a>\n"
     ]
    }
   ],
   "source": [
    "# how can I find particular contents the html?\n",
    "# by narrowing the scope. using select_one. it returns first matching item\n",
    "company_url = soup.select_one(selector=\"p a\")\n",
    "print(company_url)"
   ]
  },
  {
   "cell_type": "code",
   "execution_count": 122,
   "id": "f06de074-f222-4d64-91d4-a87d812c86e9",
   "metadata": {},
   "outputs": [
    {
     "name": "stdout",
     "output_type": "stream",
     "text": [
      "<h1 id=\"name\">Angela Yu</h1>\n"
     ]
    }
   ],
   "source": [
    "name = soup.select_one(selector=\"#name\")  # for id, #id\n",
    "print(name)"
   ]
  },
  {
   "cell_type": "code",
   "execution_count": 124,
   "id": "d3027646-b82f-4301-9bd0-f5a610af0698",
   "metadata": {},
   "outputs": [
    {
     "name": "stdout",
     "output_type": "stream",
     "text": [
      "[<h3 class=\"heading\">Books and Teaching</h3>, <h3 class=\"heading\">Other Pages</h3>]\n"
     ]
    }
   ],
   "source": [
    "headings = soup.select(\".heading\")  # for class, .class_name\n",
    "print(headings)"
   ]
  },
  {
   "cell_type": "code",
   "execution_count": 144,
   "id": "160740dc-337b-4b9b-a0bc-930b858e97bd",
   "metadata": {},
   "outputs": [
    {
     "name": "stdout",
     "output_type": "stream",
     "text": [
      "<title>Hacker News</title>\n"
     ]
    }
   ],
   "source": [
    "# let's scrape data from live website\n",
    "from bs4 import BeautifulSoup\n",
    "import requests\n",
    "\n",
    "response = requests.get(\"https://news.ycombinator.com/\")\n",
    "yc_web_page = response.text\n",
    "\n",
    "soup = BeautifulSoup(yc_web_page, \"html.parser\")\n",
    "print(soup.title)"
   ]
  },
  {
   "cell_type": "code",
   "execution_count": 146,
   "id": "a8fd0e88-fdcd-437c-a894-dccb12e40361",
   "metadata": {},
   "outputs": [
    {
     "name": "stdout",
     "output_type": "stream",
     "text": [
      "My business card runs Linux and Ultrix (2022) (dmitry.gr)\n"
     ]
    }
   ],
   "source": [
    "article_text = soup.select_one(selector=\".titleline\").getText()\n",
    "print(article_text)"
   ]
  },
  {
   "cell_type": "code",
   "execution_count": 148,
   "id": "f9e2ec79-c212-4cef-9db8-d4723b44a756",
   "metadata": {},
   "outputs": [
    {
     "name": "stdout",
     "output_type": "stream",
     "text": [
      "My business card runs Linux and Ultrix (2022) (dmitry.gr)\n"
     ]
    }
   ],
   "source": [
    "article_tag = soup.find(name=\"span\", class_=\"titleline\").getText()\n",
    "print(article_tag)"
   ]
  },
  {
   "cell_type": "code",
   "execution_count": 150,
   "id": "20507323-b68e-4bd8-b333-1cdd4ff2af1b",
   "metadata": {},
   "outputs": [
    {
     "name": "stdout",
     "output_type": "stream",
     "text": [
      "http://dmitry.gr/?r=05.Projects&proj=33.%20LinuxCard\n",
      "147 points\n"
     ]
    }
   ],
   "source": [
    "article_link = soup.find(name=\"span\", class_=\"titleline\").select_one(selector=\"a\").get(\"href\")\n",
    "print(article_link)\n",
    "article_upvote = soup.find(name=\"span\", class_=\"score\").getText()\n",
    "print(article_upvote)"
   ]
  },
  {
   "cell_type": "code",
   "execution_count": 152,
   "id": "3cd86578-f19e-45e1-85aa-e1860a1d4f39",
   "metadata": {},
   "outputs": [
    {
     "name": "stdout",
     "output_type": "stream",
     "text": [
      "['My business card runs Linux and Ultrix (2022) (dmitry.gr)', 'Show HN: Konty – A Balsamiq-alternative lo-fi wireframe tool for modern apps (konty.app)', 'A MiniGolf game for Palm OS (ctrl-c.club)', 'The Minneapolis Street Grid: Explained (streets.mn)', 'Be a Thermostat, Not a Thermometer (larahogan.me)', 'My Homelab Setup (arslan.io)', 'Why smart telescopes are the future of astrophotography (2022) (techradar.com)', 'Noisy neighbor detection with eBPF (netflixtechblog.com)', 'We spent $20 to achieve RCE and accidentally became the admins of .mobi (watchtowr.com)', 'Show HN: Simple Alternative to Complex Project Management for Freelancers', 'AppleWatchAmmeter (github.com/jp3141)', 'Transparenttextures.com (transparenttextures.com)', 'ClickHouse Data Modeling for Postgres Users (clickhouse.com)', 'Making progress on side projects with content-driven development (ntietz.com)', 'Show HN: Tune LLaMa3.1 on Google Cloud TPUs (github.com/felafax)', 'The first release candidate of FreeCAD 1.0 is out (freecad.org)', 'Max Headroom and the World of Pseudo-CGI (2013) (cartoonbrew.com)', 'David Chang on the long, hard, stupid way (herbertlui.net)', 'Pathpilot (YC S24) is hiring a founding AI and full-stack engineer (ycombinator.com)', 'The Golden Road: How Ancient India Transformed the World (lrb.co.uk)', 'A Uruguayan company teaches people how to turn regular cars into EVs (restofworld.org)', 'Reader-LM: Small Language Models for Cleaning and Converting HTML to Markdown (jina.ai)', '[Deploying a basic React site pt 1] Setting up a self-hosted Kubernetes cluster (jpegsfiles.medium.com)', 'SQLite on Rails: The how and why of optimal performance (fractaledmind.github.io)', 'Iron Gall Ink (wikipedia.org)', 'Feeld dating app – Your nudes and data were publicly available (fortbridge.co.uk)', \"Don't Let That Content Go to Waste (mooreds.com)\", 'ISO Panel – Trust in AI: How to build global confidence [video] (iso.org)', 'Passive damping – Bathroom scales (thinking-about-science.com)', 'OpenSSH Keystroke Obfuscation Bypass (crzphil.github.io)']\n",
      "['http://dmitry.gr/?r=05.Projects&proj=33.%20LinuxCard', 'https://konty.app/http://localhost:4321/', 'https://ctrl-c.club/~captain/posts/2024-08-29-holy-smokes-I-Just-released-a-minigolf-game-for-palmos-in-2024.html', 'https://streets.mn/2024/09/11/streets-and-avenues-in-minneapolis/', 'https://larahogan.me/blog/be-a-thermostat-not-a-thermometer/', 'https://arslan.io/2024/09/10/my-homelab-setup/', 'https://www.techradar.com/features/why-smart-telescopes-are-the-future-of-astrophotography', 'https://netflixtechblog.com/noisy-neighbor-detection-with-ebpf-64b1f4b3bbdd', 'https://labs.watchtowr.com/we-spent-20-to-achieve-rce-and-accidentally-became-the-admins-of-mobi/', 'item?id=41516720', 'https://github.com/jp3141/AppleWatchAmmeter', 'https://www.transparenttextures.com', 'https://clickhouse.com/blog/postgres-to-clickhouse-data-modeling-tips', 'https://ntietz.com/blog/making-progress-with-content-driven-development/', 'https://github.com/felafax/felafax', 'https://blog.freecad.org/2024/09/10/the-first-release-candidate-of-freecad-1-0-is-out/comment-page-1/#comments', 'https://www.cartoonbrew.com/cgi/max-headroom-and-the-strange-world-of-pseudo-cgi-82745.html', 'https://herbertlui.net/david-chang-on-the-long-hard-stupid-way/', 'https://www.ycombinator.com/companies/pathpilot/jobs/GlywVaz-founding-engineer-ai-full-stack', 'https://www.lrb.co.uk/the-paper/v46/n17/ferdinand-mount/one-way-traffic', 'https://restofworld.org/2024/electric-vehicle-conversions-uruguay/', 'https://jina.ai/news/reader-lm-small-language-models-for-cleaning-and-converting-html-to-markdown/?nocache=1', 'https://jpegsfiles.medium.com/deploying-a-basic-react-site-part-1-setting-up-a-kubernetes-cluster-hosted-on-a-home-server-8db517d2bcda', 'https://fractaledmind.github.io/2024/04/15/sqlite-on-rails-the-how-and-why-of-optimal-performance/', 'https://en.wikipedia.org/wiki/Iron_gall_ink', 'https://fortbridge.co.uk/research/feeld-dating-app-nudes-data-publicly-available/', 'https://www.mooreds.com/wordpress/archives/3667', 'https://www.iso.org/annualmeeting/session/ai/trust', 'https://thinking-about-science.com/2024/09/08/24-8-passive-damping-bathroom-scales/', 'https://crzphil.github.io/posts/ssh-obfuscation-bypass/']\n",
      "[147, 23, 205, 47, 84, 59, 10, 160, 1266, 17, 261, 164, 53, 26, 120, 194, 140, 186, 142, 70, 15, 15, 201, 33, 30, 19, 4, 33, 154]\n"
     ]
    }
   ],
   "source": [
    "# use find_all to get all parts in the page\n",
    "articles = soup.find_all(name=\"span\", class_=\"titleline\")\n",
    "article_texts = []\n",
    "article_links = []\n",
    "\n",
    "for article_tag in articles:\n",
    "    article_text = article_tag.getText()\n",
    "    article_texts.append(article_text)\n",
    "    article_link = article_tag.select_one(selector=\"a\").get(\"href\")\n",
    "    article_links.append(article_link)\n",
    "\n",
    "article_upvotes = [int(score.getText().split()[0]) for score in soup.find_all(name=\"span\", class_=\"score\")]\n",
    "\n",
    "# article_upvotes_num = []\n",
    "# for sc in article_upvotes:\n",
    "#     article_upvotes_num.append(int(sc.split()[0]))\n",
    "\n",
    "print(article_texts)\n",
    "print(article_links)\n",
    "print(article_upvotes)\n",
    "# print(article_upvotes_num)"
   ]
  },
  {
   "cell_type": "code",
   "execution_count": 156,
   "id": "758ce38d-4210-4a54-9351-ea43fa3294c9",
   "metadata": {},
   "outputs": [
    {
     "name": "stdout",
     "output_type": "stream",
     "text": [
      "30\n",
      "30\n",
      "30\n"
     ]
    }
   ],
   "source": [
    "# print by following the largest number order\n",
    "print(len(article_texts))\n",
    "print(len(article_links))\n",
    "article_upvotes.append(100) # score 값이 없는 기사가 있어서 임의로 점수를 하나 추가\n",
    "print(len(article_upvotes))"
   ]
  },
  {
   "cell_type": "code",
   "execution_count": 200,
   "id": "77bb95d1-0232-4026-9c0e-fd6d622151a7",
   "metadata": {},
   "outputs": [
    {
     "name": "stdout",
     "output_type": "stream",
     "text": [
      "30\n"
     ]
    }
   ],
   "source": [
    "import pandas as pd\n",
    "articles_df = pd.DataFrame({'text':article_texts,\n",
    "                           'links':article_links,\n",
    "                           'score':article_upvotes})\n",
    "print(len(articles_df))"
   ]
  },
  {
   "cell_type": "code",
   "execution_count": 204,
   "id": "f8e6d772-637e-4b9a-aa70-797926b26700",
   "metadata": {},
   "outputs": [
    {
     "data": {
      "text/html": [
       "<div>\n",
       "<style scoped>\n",
       "    .dataframe tbody tr th:only-of-type {\n",
       "        vertical-align: middle;\n",
       "    }\n",
       "\n",
       "    .dataframe tbody tr th {\n",
       "        vertical-align: top;\n",
       "    }\n",
       "\n",
       "    .dataframe thead th {\n",
       "        text-align: right;\n",
       "    }\n",
       "</style>\n",
       "<table border=\"1\" class=\"dataframe\">\n",
       "  <thead>\n",
       "    <tr style=\"text-align: right;\">\n",
       "      <th></th>\n",
       "      <th>text</th>\n",
       "      <th>links</th>\n",
       "      <th>score</th>\n",
       "    </tr>\n",
       "  </thead>\n",
       "  <tbody>\n",
       "    <tr>\n",
       "      <th>8</th>\n",
       "      <td>We spent $20 to achieve RCE and accidentally b...</td>\n",
       "      <td>https://labs.watchtowr.com/we-spent-20-to-achi...</td>\n",
       "      <td>1266</td>\n",
       "    </tr>\n",
       "    <tr>\n",
       "      <th>10</th>\n",
       "      <td>AppleWatchAmmeter (github.com/jp3141)</td>\n",
       "      <td>https://github.com/jp3141/AppleWatchAmmeter</td>\n",
       "      <td>261</td>\n",
       "    </tr>\n",
       "    <tr>\n",
       "      <th>2</th>\n",
       "      <td>A MiniGolf game for Palm OS (ctrl-c.club)</td>\n",
       "      <td>https://ctrl-c.club/~captain/posts/2024-08-29-...</td>\n",
       "      <td>205</td>\n",
       "    </tr>\n",
       "    <tr>\n",
       "      <th>22</th>\n",
       "      <td>[Deploying a basic React site pt 1] Setting up...</td>\n",
       "      <td>https://jpegsfiles.medium.com/deploying-a-basi...</td>\n",
       "      <td>201</td>\n",
       "    </tr>\n",
       "    <tr>\n",
       "      <th>15</th>\n",
       "      <td>The first release candidate of FreeCAD 1.0 is ...</td>\n",
       "      <td>https://blog.freecad.org/2024/09/10/the-first-...</td>\n",
       "      <td>194</td>\n",
       "    </tr>\n",
       "    <tr>\n",
       "      <th>17</th>\n",
       "      <td>David Chang on the long, hard, stupid way (her...</td>\n",
       "      <td>https://herbertlui.net/david-chang-on-the-long...</td>\n",
       "      <td>186</td>\n",
       "    </tr>\n",
       "    <tr>\n",
       "      <th>11</th>\n",
       "      <td>Transparenttextures.com (transparenttextures.com)</td>\n",
       "      <td>https://www.transparenttextures.com</td>\n",
       "      <td>164</td>\n",
       "    </tr>\n",
       "    <tr>\n",
       "      <th>7</th>\n",
       "      <td>Noisy neighbor detection with eBPF (netflixtec...</td>\n",
       "      <td>https://netflixtechblog.com/noisy-neighbor-det...</td>\n",
       "      <td>160</td>\n",
       "    </tr>\n",
       "    <tr>\n",
       "      <th>28</th>\n",
       "      <td>Passive damping – Bathroom scales (thinking-ab...</td>\n",
       "      <td>https://thinking-about-science.com/2024/09/08/...</td>\n",
       "      <td>154</td>\n",
       "    </tr>\n",
       "    <tr>\n",
       "      <th>0</th>\n",
       "      <td>My business card runs Linux and Ultrix (2022) ...</td>\n",
       "      <td>http://dmitry.gr/?r=05.Projects&amp;proj=33.%20Lin...</td>\n",
       "      <td>147</td>\n",
       "    </tr>\n",
       "    <tr>\n",
       "      <th>18</th>\n",
       "      <td>Pathpilot (YC S24) is hiring a founding AI and...</td>\n",
       "      <td>https://www.ycombinator.com/companies/pathpilo...</td>\n",
       "      <td>142</td>\n",
       "    </tr>\n",
       "    <tr>\n",
       "      <th>16</th>\n",
       "      <td>Max Headroom and the World of Pseudo-CGI (2013...</td>\n",
       "      <td>https://www.cartoonbrew.com/cgi/max-headroom-a...</td>\n",
       "      <td>140</td>\n",
       "    </tr>\n",
       "    <tr>\n",
       "      <th>14</th>\n",
       "      <td>Show HN: Tune LLaMa3.1 on Google Cloud TPUs (g...</td>\n",
       "      <td>https://github.com/felafax/felafax</td>\n",
       "      <td>120</td>\n",
       "    </tr>\n",
       "    <tr>\n",
       "      <th>29</th>\n",
       "      <td>OpenSSH Keystroke Obfuscation Bypass (crzphil....</td>\n",
       "      <td>https://crzphil.github.io/posts/ssh-obfuscatio...</td>\n",
       "      <td>100</td>\n",
       "    </tr>\n",
       "    <tr>\n",
       "      <th>4</th>\n",
       "      <td>Be a Thermostat, Not a Thermometer (larahogan.me)</td>\n",
       "      <td>https://larahogan.me/blog/be-a-thermostat-not-...</td>\n",
       "      <td>84</td>\n",
       "    </tr>\n",
       "    <tr>\n",
       "      <th>19</th>\n",
       "      <td>The Golden Road: How Ancient India Transformed...</td>\n",
       "      <td>https://www.lrb.co.uk/the-paper/v46/n17/ferdin...</td>\n",
       "      <td>70</td>\n",
       "    </tr>\n",
       "    <tr>\n",
       "      <th>5</th>\n",
       "      <td>My Homelab Setup (arslan.io)</td>\n",
       "      <td>https://arslan.io/2024/09/10/my-homelab-setup/</td>\n",
       "      <td>59</td>\n",
       "    </tr>\n",
       "    <tr>\n",
       "      <th>12</th>\n",
       "      <td>ClickHouse Data Modeling for Postgres Users (c...</td>\n",
       "      <td>https://clickhouse.com/blog/postgres-to-clickh...</td>\n",
       "      <td>53</td>\n",
       "    </tr>\n",
       "    <tr>\n",
       "      <th>3</th>\n",
       "      <td>The Minneapolis Street Grid: Explained (street...</td>\n",
       "      <td>https://streets.mn/2024/09/11/streets-and-aven...</td>\n",
       "      <td>47</td>\n",
       "    </tr>\n",
       "    <tr>\n",
       "      <th>27</th>\n",
       "      <td>ISO Panel – Trust in AI: How to build global c...</td>\n",
       "      <td>https://www.iso.org/annualmeeting/session/ai/t...</td>\n",
       "      <td>33</td>\n",
       "    </tr>\n",
       "    <tr>\n",
       "      <th>23</th>\n",
       "      <td>SQLite on Rails: The how and why of optimal pe...</td>\n",
       "      <td>https://fractaledmind.github.io/2024/04/15/sql...</td>\n",
       "      <td>33</td>\n",
       "    </tr>\n",
       "    <tr>\n",
       "      <th>24</th>\n",
       "      <td>Iron Gall Ink (wikipedia.org)</td>\n",
       "      <td>https://en.wikipedia.org/wiki/Iron_gall_ink</td>\n",
       "      <td>30</td>\n",
       "    </tr>\n",
       "    <tr>\n",
       "      <th>13</th>\n",
       "      <td>Making progress on side projects with content-...</td>\n",
       "      <td>https://ntietz.com/blog/making-progress-with-c...</td>\n",
       "      <td>26</td>\n",
       "    </tr>\n",
       "    <tr>\n",
       "      <th>1</th>\n",
       "      <td>Show HN: Konty – A Balsamiq-alternative lo-fi ...</td>\n",
       "      <td>https://konty.app/http://localhost:4321/</td>\n",
       "      <td>23</td>\n",
       "    </tr>\n",
       "    <tr>\n",
       "      <th>25</th>\n",
       "      <td>Feeld dating app – Your nudes and data were pu...</td>\n",
       "      <td>https://fortbridge.co.uk/research/feeld-dating...</td>\n",
       "      <td>19</td>\n",
       "    </tr>\n",
       "    <tr>\n",
       "      <th>9</th>\n",
       "      <td>Show HN: Simple Alternative to Complex Project...</td>\n",
       "      <td>item?id=41516720</td>\n",
       "      <td>17</td>\n",
       "    </tr>\n",
       "    <tr>\n",
       "      <th>21</th>\n",
       "      <td>Reader-LM: Small Language Models for Cleaning ...</td>\n",
       "      <td>https://jina.ai/news/reader-lm-small-language-...</td>\n",
       "      <td>15</td>\n",
       "    </tr>\n",
       "    <tr>\n",
       "      <th>20</th>\n",
       "      <td>A Uruguayan company teaches people how to turn...</td>\n",
       "      <td>https://restofworld.org/2024/electric-vehicle-...</td>\n",
       "      <td>15</td>\n",
       "    </tr>\n",
       "    <tr>\n",
       "      <th>6</th>\n",
       "      <td>Why smart telescopes are the future of astroph...</td>\n",
       "      <td>https://www.techradar.com/features/why-smart-t...</td>\n",
       "      <td>10</td>\n",
       "    </tr>\n",
       "    <tr>\n",
       "      <th>26</th>\n",
       "      <td>Don't Let That Content Go to Waste (mooreds.com)</td>\n",
       "      <td>https://www.mooreds.com/wordpress/archives/3667</td>\n",
       "      <td>4</td>\n",
       "    </tr>\n",
       "  </tbody>\n",
       "</table>\n",
       "</div>"
      ],
      "text/plain": [
       "                                                 text  \\\n",
       "8   We spent $20 to achieve RCE and accidentally b...   \n",
       "10              AppleWatchAmmeter (github.com/jp3141)   \n",
       "2           A MiniGolf game for Palm OS (ctrl-c.club)   \n",
       "22  [Deploying a basic React site pt 1] Setting up...   \n",
       "15  The first release candidate of FreeCAD 1.0 is ...   \n",
       "17  David Chang on the long, hard, stupid way (her...   \n",
       "11  Transparenttextures.com (transparenttextures.com)   \n",
       "7   Noisy neighbor detection with eBPF (netflixtec...   \n",
       "28  Passive damping – Bathroom scales (thinking-ab...   \n",
       "0   My business card runs Linux and Ultrix (2022) ...   \n",
       "18  Pathpilot (YC S24) is hiring a founding AI and...   \n",
       "16  Max Headroom and the World of Pseudo-CGI (2013...   \n",
       "14  Show HN: Tune LLaMa3.1 on Google Cloud TPUs (g...   \n",
       "29  OpenSSH Keystroke Obfuscation Bypass (crzphil....   \n",
       "4   Be a Thermostat, Not a Thermometer (larahogan.me)   \n",
       "19  The Golden Road: How Ancient India Transformed...   \n",
       "5                        My Homelab Setup (arslan.io)   \n",
       "12  ClickHouse Data Modeling for Postgres Users (c...   \n",
       "3   The Minneapolis Street Grid: Explained (street...   \n",
       "27  ISO Panel – Trust in AI: How to build global c...   \n",
       "23  SQLite on Rails: The how and why of optimal pe...   \n",
       "24                      Iron Gall Ink (wikipedia.org)   \n",
       "13  Making progress on side projects with content-...   \n",
       "1   Show HN: Konty – A Balsamiq-alternative lo-fi ...   \n",
       "25  Feeld dating app – Your nudes and data were pu...   \n",
       "9   Show HN: Simple Alternative to Complex Project...   \n",
       "21  Reader-LM: Small Language Models for Cleaning ...   \n",
       "20  A Uruguayan company teaches people how to turn...   \n",
       "6   Why smart telescopes are the future of astroph...   \n",
       "26   Don't Let That Content Go to Waste (mooreds.com)   \n",
       "\n",
       "                                                links  score  \n",
       "8   https://labs.watchtowr.com/we-spent-20-to-achi...   1266  \n",
       "10        https://github.com/jp3141/AppleWatchAmmeter    261  \n",
       "2   https://ctrl-c.club/~captain/posts/2024-08-29-...    205  \n",
       "22  https://jpegsfiles.medium.com/deploying-a-basi...    201  \n",
       "15  https://blog.freecad.org/2024/09/10/the-first-...    194  \n",
       "17  https://herbertlui.net/david-chang-on-the-long...    186  \n",
       "11                https://www.transparenttextures.com    164  \n",
       "7   https://netflixtechblog.com/noisy-neighbor-det...    160  \n",
       "28  https://thinking-about-science.com/2024/09/08/...    154  \n",
       "0   http://dmitry.gr/?r=05.Projects&proj=33.%20Lin...    147  \n",
       "18  https://www.ycombinator.com/companies/pathpilo...    142  \n",
       "16  https://www.cartoonbrew.com/cgi/max-headroom-a...    140  \n",
       "14                 https://github.com/felafax/felafax    120  \n",
       "29  https://crzphil.github.io/posts/ssh-obfuscatio...    100  \n",
       "4   https://larahogan.me/blog/be-a-thermostat-not-...     84  \n",
       "19  https://www.lrb.co.uk/the-paper/v46/n17/ferdin...     70  \n",
       "5      https://arslan.io/2024/09/10/my-homelab-setup/     59  \n",
       "12  https://clickhouse.com/blog/postgres-to-clickh...     53  \n",
       "3   https://streets.mn/2024/09/11/streets-and-aven...     47  \n",
       "27  https://www.iso.org/annualmeeting/session/ai/t...     33  \n",
       "23  https://fractaledmind.github.io/2024/04/15/sql...     33  \n",
       "24        https://en.wikipedia.org/wiki/Iron_gall_ink     30  \n",
       "13  https://ntietz.com/blog/making-progress-with-c...     26  \n",
       "1            https://konty.app/http://localhost:4321/     23  \n",
       "25  https://fortbridge.co.uk/research/feeld-dating...     19  \n",
       "9                                    item?id=41516720     17  \n",
       "21  https://jina.ai/news/reader-lm-small-language-...     15  \n",
       "20  https://restofworld.org/2024/electric-vehicle-...     15  \n",
       "6   https://www.techradar.com/features/why-smart-t...     10  \n",
       "26    https://www.mooreds.com/wordpress/archives/3667      4  "
      ]
     },
     "execution_count": 204,
     "metadata": {},
     "output_type": "execute_result"
    }
   ],
   "source": [
    "articles_df.sort_values(by='score', ascending=False)"
   ]
  },
  {
   "cell_type": "code",
   "execution_count": 208,
   "id": "7fcec9c3-c0db-4606-8395-50981d398484",
   "metadata": {},
   "outputs": [
    {
     "name": "stdout",
     "output_type": "stream",
     "text": [
      "8\n"
     ]
    }
   ],
   "source": [
    "largest_number = max(article_upvotes)\n",
    "largest_index = article_upvotes.index(largest_number)\n",
    "print(largest_index)"
   ]
  },
  {
   "cell_type": "code",
   "execution_count": 210,
   "id": "3f03736b-4b78-4c10-96b3-48601d20ad1e",
   "metadata": {},
   "outputs": [],
   "source": [
    "# Web scraping Ethics\n",
    "# law on web scraping\n",
    "# you can't commercialise copyrighted content\n",
    "# you can'r scrape data behind authentication: data able to get after log-in the site\n",
    "# Public API first\n",
    "# Respect the Web Owner\n",
    "# www.naver.com/robots.txt _show what you can scrap can't\n",
    "# limit your rate"
   ]
  },
  {
   "cell_type": "code",
   "execution_count": 35,
   "id": "08e7cdce-1bb3-4703-b66e-e811c8504144",
   "metadata": {},
   "outputs": [],
   "source": [
    "# fianl project: 100 Greatest Movies _my solution\n",
    "from bs4 import BeautifulSoup\n",
    "import requests\n",
    "\n",
    "response = requests.get(\"https://web.archive.org/web/20200518073855/https://www.empireonline.com/movies/features/best-movies-2/\")\n",
    "movie_page = response.text\n",
    "\n",
    "soup = BeautifulSoup(movie_page, \"html.parser\")\n",
    "# print(soup.title)\n",
    "\n",
    "titles = [title.getText() for title in soup.find_all(name=\"h3\", class_=\"title\")]\n",
    "# print(titles)\n",
    "    \n",
    "# Exchanging the order of the list from 100~1 to 1~100\n",
    "titles_ascending = []\n",
    "for title in titles:\n",
    "    titles_ascending.insert(0, title)\n",
    "# print(titles_ascending)\n",
    "\n",
    "titles_str = \"\"\n",
    "for title in titles_ascending:\n",
    "    titles_str += title+\"\\n\"\n",
    "# print(title_str)\n",
    "\n",
    "with open(\"movies.txt\", mode=\"w\", encoding=\"utf-8\") as data:\n",
    "    data.write(titles_str)\n",
    "\n",
    "\n",
    "# Reflection: I could have used [::-1] to exchange the exchange the order of the list\n",
    "# well done to look for the error and adding 'encoding=\"utf-8\"' in open "
   ]
  },
  {
   "cell_type": "code",
   "execution_count": 41,
   "id": "2a6fb50a-0af7-449a-8509-0a0a2f95c6ec",
   "metadata": {},
   "outputs": [],
   "source": [
    "# fianl project: 100 Greatest Movies _teacher solution\n",
    "import requests\n",
    "from bs4 import BeautifulSoup\n",
    "\n",
    "URL = \"https://web.archive.org/web/20200518073855/https://www.empireonline.com/movies/features/best-movies-2/\"\n",
    "\n",
    "response = requests.get(URL)\n",
    "website_html = response.text\n",
    "\n",
    "soup = BeautifulSoup(website_html, \"html.parser\")\n",
    "\n",
    "all_movies = soup.find_all(name=\"h3\", class_=\"title\")\n",
    "\n",
    "movie_titles = [movie.getText() for movie in all_movies]\n",
    "movies = movie_titles[::-1]\n",
    "\n",
    "with open(\"movies.txt\", mode=\"w\", encoding=\"utf-8\") as file:\n",
    "    for movie in movies:\n",
    "        file.write(f\"{movie}\\n\")"
   ]
  },
  {
   "cell_type": "code",
   "execution_count": 37,
   "id": "c2195aa0-7eef-4a1d-ba1b-5825f3ba5283",
   "metadata": {},
   "outputs": [
    {
     "name": "stdout",
     "output_type": "stream",
     "text": [
      "[5, 4, 3, 2, 1]\n"
     ]
    }
   ],
   "source": [
    "a = [1,2,3,4,5]\n",
    "b = a[::-1]\n",
    "print(b)"
   ]
  }
 ],
 "metadata": {
  "kernelspec": {
   "display_name": "Python 3 (ipykernel)",
   "language": "python",
   "name": "python3"
  },
  "language_info": {
   "codemirror_mode": {
    "name": "ipython",
    "version": 3
   },
   "file_extension": ".py",
   "mimetype": "text/x-python",
   "name": "python",
   "nbconvert_exporter": "python",
   "pygments_lexer": "ipython3",
   "version": "3.12.4"
  }
 },
 "nbformat": 4,
 "nbformat_minor": 5
}
