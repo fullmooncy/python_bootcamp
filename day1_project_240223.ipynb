{
 "cells": [
  {
   "cell_type": "code",
   "execution_count": 3,
   "id": "996cffa2-9622-40c4-ac60-74cced1ed856",
   "metadata": {},
   "outputs": [
    {
     "name": "stdout",
     "output_type": "stream",
     "text": [
      "Welcome to the Band Name Generator.\n"
     ]
    }
   ],
   "source": [
    "#1. Create a greeting for your program.\n",
    "print(\"Welcome to the Band Name Generator.\")"
   ]
  },
  {
   "cell_type": "code",
   "execution_count": 5,
   "id": "d4325ba3-cab4-45bb-ab32-3341e3dafbbb",
   "metadata": {},
   "outputs": [
    {
     "name": "stdin",
     "output_type": "stream",
     "text": [
      "What's name of the city you grew up in?\n",
      " Jinju\n"
     ]
    }
   ],
   "source": [
    "#2. Ask the user for the city that they grew up in.\n",
    "city_name = input(\"What\\'s name of the city you grew up in?\\n\")"
   ]
  },
  {
   "cell_type": "code",
   "execution_count": 6,
   "id": "df036575-83aa-4da3-ac3f-a3b20d4bd205",
   "metadata": {},
   "outputs": [
    {
     "name": "stdin",
     "output_type": "stream",
     "text": [
      "What's your pet's name?\n",
      " Bear\n"
     ]
    }
   ],
   "source": [
    "#3. Ask the user for the name of a pet.\n",
    "pet_name = input(\"What\\'s your pet\\'s name?\\n\")"
   ]
  },
  {
   "cell_type": "code",
   "execution_count": 7,
   "id": "e995589e-dc81-44a4-a24f-a562b81b7394",
   "metadata": {},
   "outputs": [],
   "source": [
    "#4. Combine the name of their city and pet and show them their band name.\n",
    "bend_name = city_name + \" \" + pet_name"
   ]
  },
  {
   "cell_type": "code",
   "execution_count": 8,
   "id": "ed4efec9-e642-427a-8d72-45762778fe09",
   "metadata": {},
   "outputs": [
    {
     "name": "stdout",
     "output_type": "stream",
     "text": [
      "Your band name could be Jinju Bear\n"
     ]
    }
   ],
   "source": [
    "#5. Make sure the input cursor shows on a new line:\n",
    "print(\"Your band name could be \"+bend_name)"
   ]
  },
  {
   "cell_type": "code",
   "execution_count": null,
   "id": "c77d2200-a540-40fb-97d8-415c1fa6babf",
   "metadata": {},
   "outputs": [],
   "source": []
  }
 ],
 "metadata": {
  "kernelspec": {
   "display_name": "Python 3 (ipykernel)",
   "language": "python",
   "name": "python3"
  },
  "language_info": {
   "codemirror_mode": {
    "name": "ipython",
    "version": 3
   },
   "file_extension": ".py",
   "mimetype": "text/x-python",
   "name": "python",
   "nbconvert_exporter": "python",
   "pygments_lexer": "ipython3",
   "version": "3.9.18"
  }
 },
 "nbformat": 4,
 "nbformat_minor": 5
}
