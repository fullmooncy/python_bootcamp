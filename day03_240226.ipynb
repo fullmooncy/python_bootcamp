{
 "cells": [
  {
   "cell_type": "code",
   "execution_count": 6,
   "id": "6f22eda2-4674-41a7-850f-780c1ca85bfb",
   "metadata": {},
   "outputs": [
    {
     "name": "stdout",
     "output_type": "stream",
     "text": [
      "Welcome to the rollercoaster!\n"
     ]
    },
    {
     "name": "stdin",
     "output_type": "stream",
     "text": [
      "Your height in cm:  120\n"
     ]
    },
    {
     "name": "stdout",
     "output_type": "stream",
     "text": [
      "You can ride the rollarcoaster!\n"
     ]
    }
   ],
   "source": [
    "print(\"Welcome to the rollercoaster!\")\n",
    "height = int(input(\"Your height in cm: \"))\n",
    "if height == 120:\n",
    "    print(\"You can ride the rollarcoaster!\")\n",
    "else:\n",
    "    print(\"Sorry, you have to grow taller before you can ride.\")"
   ]
  },
  {
   "cell_type": "code",
   "execution_count": 10,
   "id": "25c02e11-1a9e-48b4-a61e-ce4f5dee1989",
   "metadata": {},
   "outputs": [
    {
     "name": "stdout",
     "output_type": "stream",
     "text": [
      "Welcome to the rollercoaster!\n"
     ]
    },
    {
     "name": "stdin",
     "output_type": "stream",
     "text": [
      "Your height in cm:  160\n"
     ]
    },
    {
     "name": "stdout",
     "output_type": "stream",
     "text": [
      "You can ride the rollarcoaster!\n"
     ]
    },
    {
     "name": "stdin",
     "output_type": "stream",
     "text": [
      "Your age:  21\n"
     ]
    },
    {
     "name": "stdout",
     "output_type": "stream",
     "text": [
      "fee: $12\n"
     ]
    }
   ],
   "source": [
    "print(\"Welcome to the rollercoaster!\")\n",
    "height = int(input(\"Your height in cm: \"))\n",
    "if height >= 120:\n",
    "    print(\"You can ride the rollarcoaster!\")\n",
    "    age = int(input(\"Your age: \"))\n",
    "    if age < 12:\n",
    "        print(\"fee: $5\")\n",
    "    elif age <= 18:\n",
    "        print(\"fee: $7\")\n",
    "    else:\n",
    "        print(\"fee: $12\")\n",
    "else:\n",
    "    print(\"Sorry, you have to grow taller before you can ride.\")"
   ]
  },
  {
   "cell_type": "code",
   "execution_count": 11,
   "id": "dce86ca4-d68d-4a80-a8be-61fad5d09386",
   "metadata": {},
   "outputs": [
    {
     "ename": "TypeError",
     "evalue": "unsupported operand type(s) for ^: 'float' and 'int'",
     "output_type": "error",
     "traceback": [
      "\u001b[1;31m---------------------------------------------------------------------------\u001b[0m",
      "\u001b[1;31mTypeError\u001b[0m                                 Traceback (most recent call last)",
      "Cell \u001b[1;32mIn[11], line 1\u001b[0m\n\u001b[1;32m----> 1\u001b[0m \u001b[38;5;241;43m1.2\u001b[39;49m\u001b[38;5;241;43m^\u001b[39;49m\u001b[38;5;241;43m2\u001b[39;49m\n",
      "\u001b[1;31mTypeError\u001b[0m: unsupported operand type(s) for ^: 'float' and 'int'"
     ]
    }
   ],
   "source": [
    "1.2^2"
   ]
  },
  {
   "cell_type": "code",
   "execution_count": 12,
   "id": "609eb9ea-b628-4a37-9600-54373059c6c3",
   "metadata": {},
   "outputs": [
    {
     "data": {
      "text/plain": [
       "1.44"
      ]
     },
     "execution_count": 12,
     "metadata": {},
     "output_type": "execute_result"
    }
   ],
   "source": [
    "1.2**2"
   ]
  },
  {
   "cell_type": "code",
   "execution_count": 13,
   "id": "5c529add-a38b-433d-b4e2-27141756db83",
   "metadata": {},
   "outputs": [
    {
     "ename": "SyntaxError",
     "evalue": "invalid syntax (2768956700.py, line 1)",
     "output_type": "error",
     "traceback": [
      "\u001b[1;36m  Cell \u001b[1;32mIn[13], line 1\u001b[1;36m\u001b[0m\n\u001b[1;33m    class(\"hi\")\u001b[0m\n\u001b[1;37m         ^\u001b[0m\n\u001b[1;31mSyntaxError\u001b[0m\u001b[1;31m:\u001b[0m invalid syntax\n"
     ]
    }
   ],
   "source": [
    "class(\"hi\")"
   ]
  },
  {
   "cell_type": "code",
   "execution_count": 14,
   "id": "7b228b70-1e62-42b1-9c77-b893c53cf863",
   "metadata": {},
   "outputs": [
    {
     "data": {
      "text/plain": [
       "str"
      ]
     },
     "execution_count": 14,
     "metadata": {},
     "output_type": "execute_result"
    }
   ],
   "source": [
    "type(\"hi\")"
   ]
  },
  {
   "cell_type": "code",
   "execution_count": 15,
   "id": "64f85924-52e9-4110-9273-354072cf59ff",
   "metadata": {},
   "outputs": [
    {
     "data": {
      "text/plain": [
       "int"
      ]
     },
     "execution_count": 15,
     "metadata": {},
     "output_type": "execute_result"
    }
   ],
   "source": [
    "year = int(3)\n",
    "type(year)"
   ]
  },
  {
   "cell_type": "code",
   "execution_count": 16,
   "id": "390ec524-e4f8-40d4-80f1-b7c43f8b9932",
   "metadata": {},
   "outputs": [
    {
     "data": {
      "text/plain": [
       "float"
      ]
     },
     "execution_count": 16,
     "metadata": {},
     "output_type": "execute_result"
    }
   ],
   "source": [
    "year = int(3)\n",
    "type(year/3)"
   ]
  },
  {
   "cell_type": "code",
   "execution_count": 17,
   "id": "73f97c53-7288-45db-9267-177685352e38",
   "metadata": {},
   "outputs": [
    {
     "data": {
      "text/plain": [
       "float"
      ]
     },
     "execution_count": 17,
     "metadata": {},
     "output_type": "execute_result"
    }
   ],
   "source": [
    "year = int(3)\n",
    "type(year/int(3))"
   ]
  },
  {
   "cell_type": "code",
   "execution_count": 19,
   "id": "097df9db-f73d-4add-8021-b9a38da9760c",
   "metadata": {},
   "outputs": [
    {
     "name": "stdin",
     "output_type": "stream",
     "text": [
      " 1900\n"
     ]
    },
    {
     "name": "stdout",
     "output_type": "stream",
     "text": [
      "Leap year\n"
     ]
    }
   ],
   "source": [
    "# Which year do you want to check?\n",
    "year = int(input())\n",
    "# 🚨 Don't change the code above 👆\n",
    "\n",
    "state = ''\n",
    "# Write your code below this line 👇\n",
    "if year % 4 == 0:\n",
    "  state = \"Leap year\"\n",
    "elif year % 100 == 0:\n",
    "  state = \"Not leap year\"\n",
    "elif year % 400 == 0:\n",
    "  state = \"Leap year\"\n",
    "else:\n",
    "  state = \"Not leap year\"\n",
    "\n",
    "print(state)"
   ]
  },
  {
   "cell_type": "code",
   "execution_count": 20,
   "id": "2c26ce54-5019-4def-9824-e41691e51ef7",
   "metadata": {},
   "outputs": [
    {
     "data": {
      "text/plain": [
       "True"
      ]
     },
     "execution_count": 20,
     "metadata": {},
     "output_type": "execute_result"
    }
   ],
   "source": [
    "1900 % 4 == 0"
   ]
  },
  {
   "cell_type": "code",
   "execution_count": 21,
   "id": "d345da23-8142-4562-9c49-528ef18e96af",
   "metadata": {},
   "outputs": [
    {
     "data": {
      "text/plain": [
       "True"
      ]
     },
     "execution_count": 21,
     "metadata": {},
     "output_type": "execute_result"
    }
   ],
   "source": [
    "1900 % 100 == 0"
   ]
  },
  {
   "cell_type": "code",
   "execution_count": 22,
   "id": "32a1f0c4-35f4-472e-813f-7a3d375cf89c",
   "metadata": {},
   "outputs": [
    {
     "data": {
      "text/plain": [
       "False"
      ]
     },
     "execution_count": 22,
     "metadata": {},
     "output_type": "execute_result"
    }
   ],
   "source": [
    "1900 % 400 == 0"
   ]
  },
  {
   "cell_type": "code",
   "execution_count": 23,
   "id": "7f96c905-8a4e-48db-a48c-d21dd8d95290",
   "metadata": {},
   "outputs": [
    {
     "name": "stdin",
     "output_type": "stream",
     "text": [
      " 1900\n"
     ]
    },
    {
     "name": "stdout",
     "output_type": "stream",
     "text": [
      "Leap year\n"
     ]
    }
   ],
   "source": [
    "# Which year do you want to check?\n",
    "year = int(input())\n",
    "# 🚨 Don't change the code above 👆\n",
    "\n",
    "state = ''\n",
    "# Write your code below this line 👇\n",
    "if year % 4 == 0:\n",
    "  state = \"Leap year\"\n",
    "elif year % 100 == 0:\n",
    "  state = \"Not leap year\"\n",
    "else:\n",
    "    state = \"Not leap year\"\n",
    "\n",
    "print(state)"
   ]
  },
  {
   "cell_type": "code",
   "execution_count": 24,
   "id": "a7f14110-d475-4c85-b3a8-6a634f1cb7df",
   "metadata": {},
   "outputs": [
    {
     "name": "stdout",
     "output_type": "stream",
     "text": [
      "Leap year\n"
     ]
    }
   ],
   "source": [
    "if 1900 % 4 == 0:\n",
    "    state = \"Leap year\"\n",
    "else:\n",
    "    state = \"Not leap year\"\n",
    "print(state)"
   ]
  },
  {
   "cell_type": "code",
   "execution_count": 25,
   "id": "52da7cc4-aef0-4752-8956-2b344841aa14",
   "metadata": {},
   "outputs": [
    {
     "name": "stdout",
     "output_type": "stream",
     "text": [
      "Not Leap year\n"
     ]
    }
   ],
   "source": [
    "if 1900 % 100 == 0:\n",
    "    state = \"Not Leap year\"\n",
    "else:\n",
    "    state = \"Not leap year\"\n",
    "print(state)"
   ]
  },
  {
   "cell_type": "code",
   "execution_count": 26,
   "id": "429f8e97-8be8-421f-af55-055db7f1b055",
   "metadata": {},
   "outputs": [
    {
     "name": "stdout",
     "output_type": "stream",
     "text": [
      "Leap year\n"
     ]
    }
   ],
   "source": [
    "if 1900 % 4 == 0:\n",
    "    state = \"Leap year\"\n",
    "elif 1900 % 100 == 0:\n",
    "    state = \"Not leap year\"\n",
    "else:\n",
    "    state = \"Not leap year\"\n",
    "print(state)"
   ]
  },
  {
   "cell_type": "code",
   "execution_count": 42,
   "id": "5d480a1b-279c-4fba-8ff3-d3626f1fb60c",
   "metadata": {},
   "outputs": [
    {
     "name": "stdin",
     "output_type": "stream",
     "text": [
      " 1900\n"
     ]
    },
    {
     "name": "stdout",
     "output_type": "stream",
     "text": [
      "Not leap year\n"
     ]
    }
   ],
   "source": [
    "#역으로 접근, elif 사용 코드\n",
    "year = int(input())\n",
    "if year % 400 == 0:\n",
    "    state = \"Leap year\"\n",
    "elif year % 100 == 0:\n",
    "    state = \"Not leap year\"\n",
    "elif year % 4 == 0:\n",
    "    state = \"Leap year\"\n",
    "else:\n",
    "    state = \"Not leap year\"\n",
    "\n",
    "print(state)"
   ]
  },
  {
   "cell_type": "code",
   "execution_count": 40,
   "id": "2d4521a2-6f9d-4d51-b299-bc695b3a8a54",
   "metadata": {},
   "outputs": [
    {
     "name": "stdin",
     "output_type": "stream",
     "text": [
      " 1900\n"
     ]
    },
    {
     "name": "stdout",
     "output_type": "stream",
     "text": [
      "0\n",
      "not leap\n"
     ]
    }
   ],
   "source": [
    "# 가중치 두는 방법\n",
    "year = int(input())\n",
    "state = 0 #0이하이면 not leap, 1이상이면 leap\n",
    "if year % 4 == 0:\n",
    "    state +=1\n",
    "else:\n",
    "    state +=0\n",
    "    \n",
    "if year % 20 == 0:\n",
    "    state -=1\n",
    "else:\n",
    "    state +=0\n",
    "\n",
    "if year % 400 == 0:\n",
    "    state +=1\n",
    "else:\n",
    "    state +=0\n",
    "\n",
    "print(state)\n",
    "if state >= 1:\n",
    "    print(\"Leap\")\n",
    "else:\n",
    "    print(\"not leap\")"
   ]
  },
  {
   "cell_type": "code",
   "execution_count": 44,
   "id": "f3567f4d-eb31-494a-a8f6-abc59e914878",
   "metadata": {},
   "outputs": [
    {
     "name": "stdin",
     "output_type": "stream",
     "text": [
      " 1900\n"
     ]
    },
    {
     "name": "stdout",
     "output_type": "stream",
     "text": [
      "Not leap year\n"
     ]
    }
   ],
   "source": [
    "#답안 코드\n",
    "year = int(input())\n",
    "if year % 4 == 0:\n",
    "    if year % 100 == 0:\n",
    "        if year % 400 == 0:\n",
    "            print(\"Leap year\")\n",
    "        else:\n",
    "            print(\"Not leap year\")\n",
    "    else:\n",
    "        print(\"Leap year\")\n",
    "else:\n",
    "    print(\"Not leap year\")"
   ]
  },
  {
   "cell_type": "code",
   "execution_count": 46,
   "id": "df77c8a6-9be9-4a3f-a718-9f67494db4b9",
   "metadata": {},
   "outputs": [
    {
     "name": "stdout",
     "output_type": "stream",
     "text": [
      "Welcome to the rollercoaster!\n"
     ]
    },
    {
     "name": "stdin",
     "output_type": "stream",
     "text": [
      "Your height in cm:  160\n"
     ]
    },
    {
     "name": "stdout",
     "output_type": "stream",
     "text": [
      "You can ride the rollarcoaster!\n"
     ]
    },
    {
     "name": "stdin",
     "output_type": "stream",
     "text": [
      "Your age:  21\n"
     ]
    },
    {
     "name": "stdout",
     "output_type": "stream",
     "text": [
      "Adult tickets are $12.\n"
     ]
    },
    {
     "name": "stdin",
     "output_type": "stream",
     "text": [
      "Do you want a photo taken? Y or N :  Y\n"
     ]
    },
    {
     "name": "stdout",
     "output_type": "stream",
     "text": [
      "Your final bill: 15\n"
     ]
    }
   ],
   "source": [
    "print(\"Welcome to the rollercoaster!\")\n",
    "height = int(input(\"Your height in cm: \"))\n",
    "bill = 0\n",
    "\n",
    "if height >= 120:\n",
    "    print(\"You can ride the rollarcoaster!\")\n",
    "    age = int(input(\"Your age: \"))\n",
    "    if age < 12:\n",
    "        print(\"Children tickets are $5.\")\n",
    "        bill +=5\n",
    "    elif age <= 18:\n",
    "        print(\"Youth tickets are $7.\")\n",
    "        bill +=7\n",
    "    else:\n",
    "        print(\"Adult tickets are $12.\")\n",
    "        bill +=12\n",
    "    \n",
    "    wants_photo=input(\"Do you want a photo taken? Y or N : \")\n",
    "    if wants_photo == \"Y\":\n",
    "        bill +=3\n",
    "\n",
    "    print(f\"Your final bill: {bill}\")\n",
    "        \n",
    "        \n",
    "else:\n",
    "    print(\"Sorry, you have to grow taller before you can ride.\")"
   ]
  },
  {
   "cell_type": "code",
   "execution_count": 47,
   "id": "964d8771-36c1-4f9a-8429-0040c29d5309",
   "metadata": {},
   "outputs": [
    {
     "name": "stdout",
     "output_type": "stream",
     "text": [
      "Thank you for choosing Python Pizza Deliveries!\n"
     ]
    },
    {
     "name": "stdin",
     "output_type": "stream",
     "text": [
      " L\n",
      " Y\n",
      " N\n"
     ]
    },
    {
     "name": "stdout",
     "output_type": "stream",
     "text": [
      "Your final bill is: $28.\n"
     ]
    }
   ],
   "source": [
    "print(\"Thank you for choosing Python Pizza Deliveries!\")\n",
    "size = input() # What size pizza do you want? S, M, or L\n",
    "add_pepperoni = input() # Do you want pepperoni? Y or N\n",
    "extra_cheese = input() # Do you want extra cheese? Y or N\n",
    "# 🚨 Don't change the code above 👆\n",
    "# Write your code below this line 👇\n",
    "\n",
    "bill = 0\n",
    "if size == \"S\": bill += 15\n",
    "if size == \"M\": bill += 20\n",
    "if size == \"L\": bill += 25\n",
    "\n",
    "if add_pepperoni == \"Y\":\n",
    "    if size == \"S\": bill += 2\n",
    "    else: bill +=3\n",
    "\n",
    "if extra_cheese == \"Y\": bill +=1\n",
    "\n",
    "print(f\"Your final bill is: ${bill}.\")\n",
    "    "
   ]
  },
  {
   "cell_type": "code",
   "execution_count": null,
   "id": "6a1ea657-868d-4c60-b05f-8022dec67d13",
   "metadata": {},
   "outputs": [],
   "source": [
    "#답안 코드 \n",
    "print(\"Thank you for choosing Python Pizza Deliveries!\")\n",
    "size = input() # What size pizza do you want? S, M, or L\n",
    "add_pepperoni = input() # Do you want pepperoni? Y or N\n",
    "extra_cheese = input() # Do you want extra cheese? Y or N\n",
    "# 🚨 Don't change the code above 👆\n",
    "# Write your code below this line 👇\n",
    "\n",
    "bill = 0\n",
    "if size == \"S\":\n",
    "    bill += 15\n",
    "elif size == \"M\":\n",
    "    bill += 20\n",
    "else:\n",
    "    bill += 25\n",
    "\n",
    "if add_pepperoni == \"Y\":\n",
    "    if size == \"S\":\n",
    "        bill += 2\n",
    "    else: bill +=3\n",
    "\n",
    "if extra_cheese == \"Y\": bill +=1\n",
    "\n",
    "print(f\"Your final bill is: ${bill}.\")"
   ]
  },
  {
   "cell_type": "code",
   "execution_count": 48,
   "id": "a7621729-dc8c-4856-94e8-e8a6de645046",
   "metadata": {},
   "outputs": [],
   "source": [
    "a = 12"
   ]
  },
  {
   "cell_type": "code",
   "execution_count": 49,
   "id": "094aa751-8511-4f48-ba48-9e7d563dcc37",
   "metadata": {},
   "outputs": [
    {
     "data": {
      "text/plain": [
       "False"
      ]
     },
     "execution_count": 49,
     "metadata": {},
     "output_type": "execute_result"
    }
   ],
   "source": [
    "a>15"
   ]
  },
  {
   "cell_type": "code",
   "execution_count": 50,
   "id": "ade290d3-5b49-4138-8d71-099ee783b48d",
   "metadata": {},
   "outputs": [
    {
     "data": {
      "text/plain": [
       "True"
      ]
     },
     "execution_count": 50,
     "metadata": {},
     "output_type": "execute_result"
    }
   ],
   "source": [
    "a<15"
   ]
  },
  {
   "cell_type": "code",
   "execution_count": 51,
   "id": "3026915f-9e7a-42b6-8e7f-a4ef75dd6044",
   "metadata": {},
   "outputs": [
    {
     "data": {
      "text/plain": [
       "True"
      ]
     },
     "execution_count": 51,
     "metadata": {},
     "output_type": "execute_result"
    }
   ],
   "source": [
    "a>10 and a<13\n"
   ]
  },
  {
   "cell_type": "code",
   "execution_count": 52,
   "id": "49748b0a-772e-4fd1-93ca-fd4ec4610f66",
   "metadata": {},
   "outputs": [
    {
     "data": {
      "text/plain": [
       "False"
      ]
     },
     "execution_count": 52,
     "metadata": {},
     "output_type": "execute_result"
    }
   ],
   "source": [
    "a>15 and a<13"
   ]
  },
  {
   "cell_type": "code",
   "execution_count": 53,
   "id": "9ab42b4f-5b74-49dc-a5c8-1bf007e236bc",
   "metadata": {},
   "outputs": [
    {
     "name": "stdout",
     "output_type": "stream",
     "text": [
      "Welcome to the rollercoaster!\n"
     ]
    },
    {
     "name": "stdin",
     "output_type": "stream",
     "text": [
      "Your height in cm:  140\n"
     ]
    },
    {
     "name": "stdout",
     "output_type": "stream",
     "text": [
      "You can ride the rollarcoaster!\n"
     ]
    },
    {
     "name": "stdin",
     "output_type": "stream",
     "text": [
      "Your age:  50\n"
     ]
    },
    {
     "name": "stdout",
     "output_type": "stream",
     "text": [
      "Middle age adult are $0.\n"
     ]
    },
    {
     "name": "stdin",
     "output_type": "stream",
     "text": [
      "Do you want a photo taken? Y or N :  N\n"
     ]
    },
    {
     "name": "stdout",
     "output_type": "stream",
     "text": [
      "Your final bill: 0\n"
     ]
    }
   ],
   "source": [
    "print(\"Welcome to the rollercoaster!\")\n",
    "height = int(input(\"Your height in cm: \"))\n",
    "bill = 0\n",
    "\n",
    "if height >= 120:\n",
    "    print(\"You can ride the rollarcoaster!\")\n",
    "    age = int(input(\"Your age: \"))\n",
    "    if age < 12:\n",
    "        print(\"Children tickets are $5.\")\n",
    "        bill +=5\n",
    "    elif age <= 18:\n",
    "        print(\"Youth tickets are $7.\")\n",
    "        bill +=7\n",
    "    elif age >=45 and a<=55:\n",
    "        print(\"Middle age adult are $0.\")\n",
    "        bill +=0\n",
    "    else:\n",
    "        print(\"Adult tickets are $12.\")\n",
    "        bill +=12\n",
    "    \n",
    "    wants_photo=input(\"Do you want a photo taken? Y or N : \")\n",
    "    if wants_photo == \"Y\":\n",
    "        bill +=3\n",
    "\n",
    "    print(f\"Your final bill: {bill}\")\n",
    "        \n",
    "        \n",
    "else:\n",
    "    print(\"Sorry, you have to grow taller before you can ride.\")"
   ]
  },
  {
   "cell_type": "code",
   "execution_count": 2,
   "id": "024c3e6c-84a3-43fa-a0cc-ca968ceeae06",
   "metadata": {},
   "outputs": [
    {
     "name": "stdout",
     "output_type": "stream",
     "text": [
      "The Love Calculator is calculating your score...\n"
     ]
    },
    {
     "name": "stdin",
     "output_type": "stream",
     "text": [
      " moon\n",
      " cha\n"
     ]
    },
    {
     "name": "stdout",
     "output_type": "stream",
     "text": [
      "Your score is 2, you go together like coke and mentos.\n"
     ]
    }
   ],
   "source": [
    "print(\"The Love Calculator is calculating your score...\")\n",
    "name1 = input() # What is your name?\n",
    "name2 = input() # What is their name?\n",
    "# 🚨 Don't change the code above 👆\n",
    "# Write your code below this line 👇\n",
    "\n",
    "name1_lower = name1.lower()\n",
    "name2_lower = name2.lower()\n",
    "\n",
    "letter = [\"t\",\"r\",\"u\",\"e\",\"l\",\"o\",\"v\",\"e\"]\n",
    "letter_times = [0 for i in range(8)]\n",
    "lt = 0\n",
    "for k in letter:\n",
    "    num_k = name1_lower.count(k) + name2_lower.count(k)\n",
    "    letter_times[lt] = num_k\n",
    "    lt +=1\n",
    "# print(letter_times)\n",
    "\n",
    "front_score = 0\n",
    "for i in range(4):\n",
    "    front_score += int(letter_times[i])\n",
    "# print(front_score)\n",
    "\n",
    "back_score = 0\n",
    "for i in range(4,8):\n",
    "    back_score += int(letter_times[i])\n",
    "# print(back_score)\n",
    "\n",
    "total_score = 10*front_score + back_score\n",
    "# print(total_score)\n",
    "\n",
    "#final message\n",
    "if (total_score < 10 or total_score > 90):\n",
    "    print(f\"Your score is {total_score}, you go together like coke and mentos.\")\n",
    "elif (total_score >= 40 and total_score <= 50):\n",
    "    print(f\"Your score is {total_score}, you are alright together.\")\n",
    "else:\n",
    "    print(f\"Your score is {total_score}.\")"
   ]
  },
  {
   "cell_type": "code",
   "execution_count": 79,
   "id": "9b299134-3711-45e1-b0f7-aa25c51d3ad3",
   "metadata": {},
   "outputs": [
    {
     "name": "stdin",
     "output_type": "stream",
     "text": [
      " 35\n"
     ]
    },
    {
     "name": "stdout",
     "output_type": "stream",
     "text": [
      "Your score is 35.\n"
     ]
    }
   ],
   "source": [
    "total_score = int(input())\n",
    "if (total_score < 10 or total_score > 90):\n",
    "    print(f\"Your score is {total_score}, you go together like coke and mentos.\")\n",
    "elif (total_score >= 40 and total_score <= 50):\n",
    "    print(f\"Your score is {total_score}, you are alright together.\")\n",
    "else:\n",
    "    print(f\"Your score is {total_score}.\")"
   ]
  },
  {
   "cell_type": "code",
   "execution_count": 3,
   "id": "de388371-a9d9-441a-af29-dee62574cad1",
   "metadata": {},
   "outputs": [
    {
     "name": "stdout",
     "output_type": "stream",
     "text": [
      "The Love Calculator is calculating your score...\n"
     ]
    },
    {
     "name": "stdin",
     "output_type": "stream",
     "text": [
      " Moon Chan yeong\n",
      " Kim dae yeong\n"
     ]
    },
    {
     "name": "stdout",
     "output_type": "stream",
     "text": [
      "Your score is 37\n"
     ]
    }
   ],
   "source": [
    "print(\"The Love Calculator is calculating your score...\")\n",
    "name1 = input() # What is your name?\n",
    "name2 = input() # What is their name?\n",
    "# 🚨 Don't change the code above 👆\n",
    "# Write your code below this line 👇\n",
    "combined_names = name1 + name2\n",
    "lower_names = combined_names.lower()\n",
    "t = lower_names.count(\"t\")\n",
    "r = lower_names.count(\"r\")\n",
    "u = lower_names.count(\"u\")\n",
    "e = lower_names.count(\"e\")\n",
    "first_digit = t + r + u + e\n",
    "\n",
    "l = lower_names.count(\"l\")\n",
    "o = lower_names.count(\"o\")\n",
    "v = lower_names.count(\"v\")\n",
    "e = lower_names.count(\"e\")\n",
    "second_digit = l + o + v + e\n",
    "\n",
    "score = int(str(first_digit)+str(second_digit))\n",
    "if (score < 10) or (score > 90):\n",
    "    print(f\"Your score is {score}, you go together like coke and mentos\")\n",
    "elif (score >= 40) and (score <= 50):\n",
    "    print(f\"Your score is {score}, you are alright together\")\n",
    "else:\n",
    "    print(f\"Your score is {score}\")"
   ]
  },
  {
   "cell_type": "code",
   "execution_count": 7,
   "id": "e03aa577-f514-41bc-b631-f9298b36e6b4",
   "metadata": {},
   "outputs": [
    {
     "name": "stdout",
     "output_type": "stream",
     "text": [
      "\n",
      "*******************************************************************************\n",
      "          |                   |                  |                     |\n",
      " _________|________________.=\"\"_;=.______________|_____________________|_______\n",
      "|                   |  ,-\"_,=\"\"     `\"=.|                  |\n",
      "|___________________|__\"=._o`\"-._        `\"=.______________|___________________\n",
      "          |                `\"=._o`\"=._      _`\"=._                     |\n",
      " _________|_____________________:=._o \"=._.\"_.-=\"'\"=.__________________|_______\n",
      "|                   |    __.--\" , ; `\"=._o.\" ,-\"\"\"-._ \".   |\n",
      "|___________________|_._\"  ,. .` ` `` ,  `\"-._\"-._   \". '__|___________________\n",
      "          |           |o`\"=._` , \"` `; .\". ,  \"-._\"-._; ;              |\n",
      " _________|___________| ;`-.o`\"=._; .\" ` '`.\"\\` . \"-._ /_______________|_______\n",
      "|                   | |o;    `\"-.o`\"=._``  '` \" ,__.--o;   |\n",
      "|___________________|_| ;     (#) `-.o `\"=.`_.--\"_o.-; ;___|___________________\n",
      "____/______/______/___|o;._    \"      `\".o|o_.--\"    ;o;____/______/______/____\n",
      "/______/______/______/_\"=._o--._        ; | ;        ; ;/______/______/______/_\n",
      "____/______/______/______/__\"=._o--._   ;o|o;     _._;o;____/______/______/____\n",
      "/______/______/______/______/____\"=._o._; | ;_.--\"o.--\"_/______/______/______/_\n",
      "____/______/______/______/______/_____\"=.o|o_.--\"\"___/______/______/______/____\n",
      "/______/______/______/______/______/______/______/______/______/______/_____ /\n",
      "*******************************************************************************\n",
      "\n",
      "Welcome to Treasure Island.\n",
      "Your mission is to find the treasure.\n"
     ]
    },
    {
     "name": "stdin",
     "output_type": "stream",
     "text": [
      "Do you want to go left or right?  left\n"
     ]
    },
    {
     "name": "stdout",
     "output_type": "stream",
     "text": [
      "You moved left...\n"
     ]
    },
    {
     "name": "stdin",
     "output_type": "stream",
     "text": [
      "Now, do you want to swim or wait?  wait\n"
     ]
    },
    {
     "name": "stdout",
     "output_type": "stream",
     "text": [
      "Wait a just a moment...\n",
      "You are in front of the three doors\n"
     ]
    },
    {
     "name": "stdin",
     "output_type": "stream",
     "text": [
      "Which door do you want to go in?(Red/Blue/Yellow)  Blue\n"
     ]
    },
    {
     "name": "stdout",
     "output_type": "stream",
     "text": [
      "You are eaten by beasts.\n",
      "Game over\n"
     ]
    }
   ],
   "source": [
    "print('''\n",
    "*******************************************************************************\n",
    "          |                   |                  |                     |\n",
    " _________|________________.=\"\"_;=.______________|_____________________|_______\n",
    "|                   |  ,-\"_,=\"\"     `\"=.|                  |\n",
    "|___________________|__\"=._o`\"-._        `\"=.______________|___________________\n",
    "          |                `\"=._o`\"=._      _`\"=._                     |\n",
    " _________|_____________________:=._o \"=._.\"_.-=\"'\"=.__________________|_______\n",
    "|                   |    __.--\" , ; `\"=._o.\" ,-\"\"\"-._ \".   |\n",
    "|___________________|_._\"  ,. .` ` `` ,  `\"-._\"-._   \". '__|___________________\n",
    "          |           |o`\"=._` , \"` `; .\". ,  \"-._\"-._; ;              |\n",
    " _________|___________| ;`-.o`\"=._; .\" ` '`.\"\\` . \"-._ /_______________|_______\n",
    "|                   | |o;    `\"-.o`\"=._``  '` \" ,__.--o;   |\n",
    "|___________________|_| ;     (#) `-.o `\"=.`_.--\"_o.-; ;___|___________________\n",
    "____/______/______/___|o;._    \"      `\".o|o_.--\"    ;o;____/______/______/____\n",
    "/______/______/______/_\"=._o--._        ; | ;        ; ;/______/______/______/_\n",
    "____/______/______/______/__\"=._o--._   ;o|o;     _._;o;____/______/______/____\n",
    "/______/______/______/______/____\"=._o._; | ;_.--\"o.--\"_/______/______/______/_\n",
    "____/______/______/______/______/_____\"=.o|o_.--\"\"___/______/______/______/____\n",
    "/______/______/______/______/______/______/______/______/______/______/_____ /\n",
    "*******************************************************************************\n",
    "''')\n",
    "print(\"Welcome to Treasure Island.\")\n",
    "print(\"Your mission is to find the treasure.\") \n",
    "\n",
    "step1 = input(\"Do you want to go left or right? \")\n",
    "if step1 == \"left\":\n",
    "    print(\"You moved left...\")\n",
    "    step2 = input(\"Now, do you want to swim or wait? \")\n",
    "    if step2 == \"wait\":\n",
    "        print(\"Wait a just a moment...\")\n",
    "        print(\"You are in front of the three doors\")\n",
    "        step3 = input(\"Which door do you want to go in?(Red/Blue/Yellow) \")\n",
    "        if step3 == \"Yellow\":\n",
    "            print(\"You win!!!\")\n",
    "        elif step3 == \"Red\":\n",
    "            print(\"You burned by fire.\")\n",
    "            print(\"Game over\")\n",
    "        elif step3 == \"Blue\":\n",
    "            print(\"You are eaten by beasts.\")\n",
    "            print(\"Game over\")\n",
    "        else:\n",
    "            print(\"Game over\")\n",
    "    else:\n",
    "        print(\"You attatcked by trout.\")\n",
    "        print(\"Game over\")\n",
    "\n",
    "else:\n",
    "    print(\"You Fall into a hole.\")\n",
    "    print(\"Game over\")"
   ]
  },
  {
   "cell_type": "code",
   "execution_count": 9,
   "id": "0d86d47d-9101-45b1-baad-95f587b73490",
   "metadata": {},
   "outputs": [
    {
     "name": "stdout",
     "output_type": "stream",
     "text": [
      "Welcome to Treasure Island.\n",
      "Your mission is to find the treasure.\n"
     ]
    },
    {
     "name": "stdin",
     "output_type": "stream",
     "text": [
      "You're at a cross road. Where do you wnat to go? Type \"left\" or \"right\" \n",
      " left\n",
      "You've come to a lake. There is an island in the middle of the lake. Type \"wait\" to wait for a boat. Type \"swim\" to swim across. \n",
      " wait\n",
      "You arrive at the island unharmed. There is a house with 3 doors. One red, one yellow, and one blue. Which colour do you choose?\n",
      " yellow\n"
     ]
    },
    {
     "name": "stdout",
     "output_type": "stream",
     "text": [
      "You found the treasure! You Win!\n"
     ]
    }
   ],
   "source": [
    "# 제시 답안\n",
    "print(\"Welcome to Treasure Island.\")\n",
    "print(\"Your mission is to find the treasure.\") \n",
    "\n",
    "choice1 = input('You\\'re at a cross road. Where do you wnat to go? Type \"left\" or \"right\" \\n').lower()\n",
    "if choice1 == \"left\":\n",
    "    choice2 = input('You\\'ve come to a lake. There is an island in the middle of the lake. Type \"wait\" to wait for a boat. Type \"swim\" to swim across. \\n').lower()\n",
    "    if choice2 == \"wait\":\n",
    "        choice3 = input(\"You arrive at the island unharmed. There is a house with 3 doors. One red, one yellow, and one blue. Which colour do you choose?\\n\").lower()\n",
    "        if choice3 == \"red\":\n",
    "            print(\"It's a room full of fire. Game Over.\")\n",
    "        elif choice3 == \"yellow\":\n",
    "            print(\"You found the treasure! You Win!\")\n",
    "        elif choice3 == \"blue\":\n",
    "            print(\"You enter a room of beasts. Game Over.\")\n",
    "        else:\n",
    "            print(\"You chose a door that doesn't exist. Game Over.\")\n",
    "    else:\n",
    "        print(\"You get attacked by an angry trout. Game Over.\")\n",
    "else:\n",
    "    print(\"You fell into a hole. Game Over.\")"
   ]
  },
  {
   "cell_type": "code",
   "execution_count": null,
   "id": "8e40229f-3759-43db-8f93-319390e2fee3",
   "metadata": {},
   "outputs": [],
   "source": []
  }
 ],
 "metadata": {
  "kernelspec": {
   "display_name": "Python 3 (ipykernel)",
   "language": "python",
   "name": "python3"
  },
  "language_info": {
   "codemirror_mode": {
    "name": "ipython",
    "version": 3
   },
   "file_extension": ".py",
   "mimetype": "text/x-python",
   "name": "python",
   "nbconvert_exporter": "python",
   "pygments_lexer": "ipython3",
   "version": "3.9.18"
  }
 },
 "nbformat": 4,
 "nbformat_minor": 5
}
