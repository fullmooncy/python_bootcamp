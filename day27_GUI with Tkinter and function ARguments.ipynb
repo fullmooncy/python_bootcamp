{
 "cells": [
  {
   "cell_type": "code",
   "execution_count": null,
   "id": "a75570ce-6044-425d-b69a-4400dc9ea520",
   "metadata": {},
   "outputs": [],
   "source": [
    "# day27_Graphical User Interfaces with Tkinter and Function Arguments\n",
    "# inbuilt Tkinter model\n",
    "# Advanced function\n",
    "# Unit converter programs"
   ]
  },
  {
   "cell_type": "code",
   "execution_count": 3,
   "id": "50e41cc3-1bd8-4c77-869e-aa3001a94622",
   "metadata": {},
   "outputs": [],
   "source": [
    "# Tkinter module\n",
    "# Mac Lisa, Windows 95\n",
    "# What is difference between tkinter and turtle?\n",
    "# Advanced Python Arguments(인자)\n",
    "# Keyword Arguments\n",
    "# Arguments with Default Values: don't need to write all of the values of the arguments\n",
    "# all we need to do is to input required argument"
   ]
  },
  {
   "cell_type": "code",
   "execution_count": 5,
   "id": "7664b7ec-bdce-475a-a738-d2f968c5ca6e",
   "metadata": {},
   "outputs": [
    {
     "name": "stdout",
     "output_type": "stream",
     "text": [
      "5\n",
      "3\n"
     ]
    }
   ],
   "source": [
    "# making a function having many positional arguments\n",
    "# unlimited arguments\n",
    "def add(*args): # * is really important\n",
    "    for n in args:\n",
    "        print(n)\n",
    "add(5, 3)"
   ]
  },
  {
   "cell_type": "code",
   "execution_count": 12,
   "id": "b3fbe881-91b7-48bd-9f79-2a5b57f322b9",
   "metadata": {},
   "outputs": [
    {
     "name": "stdout",
     "output_type": "stream",
     "text": [
      "3\n",
      "6\n",
      "\n",
      "5\n",
      "25\n",
      "\n"
     ]
    }
   ],
   "source": [
    "# the add function to take an unlimited number of arguments\n",
    "def add(*args):\n",
    "    print(args[2])\n",
    "    sum = 0\n",
    "    for n in args:\n",
    "        sum +=n\n",
    "    print(f\"{sum}\\n\")\n",
    "\n",
    "add(1,2,3)\n",
    "add(3,4,5,6,7)\n",
    "# so, *args is called 'unlimited positional arguments'. because the position of the arguments passed to the function is important\n"
   ]
  },
  {
   "cell_type": "code",
   "execution_count": 19,
   "id": "8c3ab35f-68d6-4681-8fb1-153e20160044",
   "metadata": {},
   "outputs": [
    {
     "name": "stdout",
     "output_type": "stream",
     "text": [
      "{'add': 3, 'multiply': 5}\n",
      "25\n"
     ]
    }
   ],
   "source": [
    "# **kwargs: Many Keyworded Arguments\n",
    "def calculate(n, **kwargs):\n",
    "    print(kwargs)\n",
    "    # print(type(kwargs))\n",
    "    # print(kwargs[\"add\"])\n",
    "    # for key, value in kwargs.items()\n",
    "    n += kwargs[\"add\"]\n",
    "    n *= kwargs[\"multiply\"]\n",
    "    print(n)\n",
    "\n",
    "calculate(2, add=3, multiply=5)"
   ]
  },
  {
   "cell_type": "code",
   "execution_count": 22,
   "id": "eccc2260-5187-434f-a390-a5c2289e7d3a",
   "metadata": {},
   "outputs": [
    {
     "name": "stdout",
     "output_type": "stream",
     "text": [
      "GTR\n"
     ]
    }
   ],
   "source": [
    "class Car:\n",
    "    def __init__(self, **kwargs):\n",
    "        self.make = kwargs[\"make\"]\n",
    "        self.model = kwargs.get(\"model\") # get function also can get the value of the key. the difference between usign square and the get function is that, get function return 'None' if there is no key value in get function\n",
    "        \n",
    "\n",
    "my_car = Car(make=\"Nissan\", model=\"GTR\")\n",
    "print(my_car.model)"
   ]
  },
  {
   "cell_type": "code",
   "execution_count": 23,
   "id": "533aa781-ec6d-41b1-b21d-b8ee38c25f3d",
   "metadata": {},
   "outputs": [
    {
     "name": "stdout",
     "output_type": "stream",
     "text": [
      "None\n"
     ]
    }
   ],
   "source": [
    "class Car:\n",
    "    def __init__(self, **kwargs):\n",
    "        self.make = kwargs[\"make\"]\n",
    "        self.model = kwargs.get(\"model\") # get function also can get the value of the key. the difference between usign square and the get function is that, get function return 'None' if there is no key value in get function\n",
    "        self.color = kwargs.get(\"color\")\n",
    "        self.seats = kwargs.get(\"seats\")\n",
    "\n",
    "my_car = Car(make=\"Nissan\")\n",
    "print(my_car.model)"
   ]
  },
  {
   "cell_type": "code",
   "execution_count": 26,
   "id": "02d5de1a-e95d-4fde-8043-bc3545e98317",
   "metadata": {},
   "outputs": [
    {
     "name": "stdout",
     "output_type": "stream",
     "text": [
      "(1, 2, 3)\n",
      "<class 'tuple'>\n"
     ]
    }
   ],
   "source": [
    "def test(*args):\n",
    "    print(args) #소괄호와 함께 출력됨\n",
    "    print(type(args))\n",
    "\n",
    "test(1,2,3)\n",
    "# args는 튜플임!"
   ]
  },
  {
   "cell_type": "code",
   "execution_count": 28,
   "id": "fe4f77a1-1873-4595-a601-1676f5c09d7d",
   "metadata": {},
   "outputs": [
    {
     "name": "stdout",
     "output_type": "stream",
     "text": [
      "4 (7, 3, 0) {'x': 10, 'y': 64}\n"
     ]
    }
   ],
   "source": [
    "def all_board(a, *args, **kw):\n",
    "    print(a, args, kw)\n",
    "\n",
    "all_board(4, 7, 3, 0, x=10, y=64)"
   ]
  },
  {
   "cell_type": "code",
   "execution_count": null,
   "id": "2c0bd9bd-6259-46e8-ac4a-df67cfbffa8a",
   "metadata": {},
   "outputs": [],
   "source": [
    "import tkinter\n",
    "from tkinter import *\n",
    "\n",
    "window = tkinter.Tk()\n",
    "# you need to write all of things between window = tkinter.Tk() and window.mainloop()\n",
    "window.title(\"My First GUI Program\")\n",
    "window.minsize(width=500, height=300)\n",
    "\n",
    "# Label\n",
    "\n",
    "\n",
    "my_label = tkinter.Label(text=\"I am a Label\", font=(\"Arial\", 12, \"bold\"))\n",
    "my_label.pack() # **kw\n",
    "# my_label.pack(side=\"bottom\") # this method put label in the screen and automatically put label center of the screen\n",
    "# my_label.pack(expand=True)\n",
    "# https://docs.python.org/3/library/tkinter.html#the-packer\n",
    "my_label[\"text\"] = \"New text\"\n",
    "my_label.config(text = \"New text\")\n",
    "\n",
    "# Button\n",
    "def button_clicked():\n",
    "    # print(\"I got clicked\")\n",
    "    word = input.get()\n",
    "    my_label.config(text=word)\n",
    "\n",
    "button = Button(text=\"Click Me\", command=button_clicked) # cf, at the command argument, there should be name of the function, not the function with ()\n",
    "button.pack()\n",
    "\n",
    "\n",
    "# Entry\n",
    "input = Entry(width=10)\n",
    "input.pack()\n",
    "\n",
    "\n",
    "# a lot of tools in Tkinter: Label, Button, Entry, Text, Spinbox, Scale, Checkbutton, Radiobutton, Listbox\n",
    "# END is just an index to allow to enter to figure out which particular item you are referring to\n",
    "\n",
    "window.mainloop()"
   ]
  },
  {
   "cell_type": "code",
   "execution_count": 30,
   "id": "b109a4a2-07e0-41fa-9481-273bfc1ffdba",
   "metadata": {},
   "outputs": [
    {
     "name": "stdout",
     "output_type": "stream",
     "text": [
      "Some text to begin with\n",
      "Example of multi-line text entry.\n",
      "\n"
     ]
    }
   ],
   "source": [
    "from tkinter import *\n",
    "\n",
    "# Creating a new window and configurations\n",
    "window = Tk()\n",
    "window.title(\"Widget Examples\")\n",
    "window.minsize(width=500, height=500)\n",
    "\n",
    "# Labels\n",
    "label = Label(text=\"This is old text\")\n",
    "label.config(text=\"This is new text\")\n",
    "label.pack()\n",
    "\n",
    "# Button\n",
    "def action():\n",
    "    print(\"Do something\")\n",
    "\n",
    "# call action() when pressed\n",
    "button = Button(text=\"Click Me\", command=action)\n",
    "button.pack()\n",
    "\n",
    "# Entries\n",
    "entry = Entry(width=30)\n",
    "# Add some text to begin with\n",
    "entry.insert(END, string=\"Some text to begin with\")\n",
    "# Gets text in entry\n",
    "print(entry.get())\n",
    "entry.pack()\n",
    "\n",
    "# Text\n",
    "text = Text(height=5, width=30)\n",
    "# Puts cursor in textbox.\n",
    "text.focus()\n",
    "# Adds some text to begin with\n",
    "text.insert(END, \"Example of multi-line text entry.\")\n",
    "# Get's current value in textbox at line 1, character 0\n",
    "print(text.get(\"1.0\", END))\n",
    "text.pack()\n",
    "\n",
    "# Spinbox\n",
    "def spinbox_used():\n",
    "    #gets the current value in spinbox\n",
    "    print(spinbox.get())\n",
    "spinbox = Spinbox(from_=0, to=10, width=5, command=spinbox_used)\n",
    "spinbox.pack()\n",
    "\n",
    "# Scale\n",
    "# Called with current scale value.\n",
    "def scale_used(value):\n",
    "    print(value)\n",
    "scale = Scale(from_=0, to=100, command=scale_used)\n",
    "scale.pack()\n",
    "\n",
    "# Checkbutton\n",
    "def checkbutton_used():\n",
    "    # Print 1 if On button checked, otherwise 0.\n",
    "    print(checked_state.get())\n",
    "# variable to hold on to checked state, 0 is off, 1 is on.\n",
    "checked_state = IntVar()\n",
    "checkbutton = Checkbutton(text=\"Is On?\", variable=checked_state, command=checkbutton_used)\n",
    "checked_state.get()\n",
    "checkbutton.pack()\n",
    "\n",
    "# Radiobutton\n",
    "def radio_used():\n",
    "    print(radio_state.get())\n",
    "# Variable to hold on to which radio button value is checked\n",
    "radio_state = IntVar()\n",
    "radiobutton1 = Radiobutton(text=\"Option1\", value=1, variable=radio_state, command=radio_used)\n",
    "radiobutton2 = Radiobutton(text=\"Option2\", value=2, variable=radio_state, command=radio_used)\n",
    "radiobutton1.pack()\n",
    "radiobutton2.pack()\n",
    "\n",
    "# Listbox\n",
    "def listbox_used(event):\n",
    "    # Gets current selection from listbox\n",
    "    print(listbox.get(listbox.curselection()))\n",
    "\n",
    "listbox = Listbox(height=4)\n",
    "fruits = [\"Apple\", \"Pear\", \"Orange\", \"Banana\"]\n",
    "for item in fruits:\n",
    "    listbox.insert(fruits.index(item), item)\n",
    "listbox.bind(\"<<ListboxSElect>>\", listbox_used)\n",
    "listbox.pack()\n",
    "\n",
    "window.mainloop()"
   ]
  },
  {
   "cell_type": "code",
   "execution_count": null,
   "id": "74edb955-9278-48fd-befd-99da911c54d2",
   "metadata": {},
   "outputs": [],
   "source": [
    "# There are Tkinter Layout Managers: Pack, Place, Grid\n",
    "# Pack _difficalt to specify the position\n",
    "# Place _precies positioning wiht x and y value\n",
    "# Grid _relative position among things ex)my_label.grid(column=0, row=0) button.grid(column=1, row=1)\n",
    "# pack and grid are incompatable."
   ]
  },
  {
   "cell_type": "code",
   "execution_count": 31,
   "id": "e96a92ed-07fd-440a-898e-fce128f49ca1",
   "metadata": {},
   "outputs": [
    {
     "data": {
      "image/jpeg": "[encoded data removed]",
      "image/png": "[encoded data removed]",
      "text/plain": [
       "<PIL.JpegImagePlugin.JpegImageFile image mode=RGB size=441x234>"
      ]
     },
     "metadata": {},
     "output_type": "display_data"
    }
   ],
   "source": [
    "# mile_km_converter\n",
    "# Playing scence of the program\n",
    "from PIL import Image\n",
    "from IPython.display import display\n",
    "img = Image.open('mile_km_converter.jpg')\n",
    "display(img)"
   ]
  },
  {
   "cell_type": "code",
   "execution_count": null,
   "id": "2d3cfd37-171e-4d18-a26e-fbc5b0c6d98b",
   "metadata": {},
   "outputs": [],
   "source": [
    "# mile_km_converter _my solution\n",
    "import tkinter\n",
    "from tkinter import *\n",
    "\n",
    "window = tkinter.Tk()\n",
    "window.title(\"Mile to Km Converter\")\n",
    "window.minsize(width=300, height=200)\n",
    "window.config(padx=50, pady=50)\n",
    "\n",
    "width_space = 12\n",
    "\n",
    "# Lable1: Miles\n",
    "label_1 = tkinter.Label(text=\"Miles\", font=(\"Arial\", 12), width=width_space)\n",
    "label_1.grid(column=2, row=0)\n",
    "\n",
    "# Label2: is equal to\n",
    "label_2 = tkinter.Label(text=\"is equal to\", font=(\"Arial\", 12), width=width_space)\n",
    "label_2.grid(column=0, row=1)\n",
    "\n",
    "# Label3: 0\n",
    "label_3 = tkinter.Label(text=\"0\", font=(\"Arial\", 12), width=width_space)\n",
    "label_3.grid(column=1, row=1)\n",
    "\n",
    "\n",
    "# Label4: Km\n",
    "label_4 = tkinter.Label(text=\"Km\", font=(\"Arial\", 12), width=width_space)\n",
    "label_4.grid(column=2, row=1)\n",
    "\n",
    "# Label5: personal mark\n",
    "label_5 = tkinter.Label(text=\"by MoonCY\", font=(\"Arial\", 12), width=width_space)\n",
    "label_5.grid(column=2, row=4)\n",
    "\n",
    "# Enter\n",
    "user_input = Entry(width=width_space, font=(\"Arial\", 12))\n",
    "user_input.grid(column=1, row=0)\n",
    "\n",
    "\n",
    "# Button: Calculate\n",
    "def converted():\n",
    "    mile_num = user_input.get()\n",
    "    km_num = 1.609*float(mile_num)\n",
    "    label_3.config(text=round(km_num, 2))\n",
    "\n",
    "\n",
    "button = Button(text=\"Calculate\", command=converted)\n",
    "button.grid(column=1, row=3)\n",
    "\n",
    "\n",
    "window.mainloop()"
   ]
  }
 ],
 "metadata": {
  "kernelspec": {
   "display_name": "Python 3 (ipykernel)",
   "language": "python",
   "name": "python3"
  },
  "language_info": {
   "codemirror_mode": {
    "name": "ipython",
    "version": 3
   },
   "file_extension": ".py",
   "mimetype": "text/x-python",
   "name": "python",
   "nbconvert_exporter": "python",
   "pygments_lexer": "ipython3",
   "version": "3.9.18"
  }
 },
 "nbformat": 4,
 "nbformat_minor": 5
}
