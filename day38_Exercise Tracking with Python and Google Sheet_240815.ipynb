{
 "cells": [
  {
   "cell_type": "code",
   "execution_count": 44,
   "id": "a7ccb5c7-bbe5-435f-b472-53199d4ba706",
   "metadata": {},
   "outputs": [
    {
     "name": "stdin",
     "output_type": "stream",
     "text": [
      "Description:  I swam 30 minutes\n"
     ]
    },
    {
     "name": "stdout",
     "output_type": "stream",
     "text": [
      "{'exercises': [{'tag_id': 63, 'user_input': 'swam', 'duration_min': 30, 'met': 6, 'nf_calories': 270, 'photo': {'highres': 'https://d2xdmhkmkbyw75.cloudfront.net/exercise//63_highres.jpg', 'thumb': 'https://d2xdmhkmkbyw75.cloudfront.net/exercise//63_thumb.jpg', 'is_user_uploaded': False}, 'compendium_code': 18310, 'name': 'swimming', 'description': None, 'benefits': None}]}\n"
     ]
    }
   ],
   "source": [
    "# day38_Exercise Tracking with Python and Google Sheet_240815\n",
    "import requests\n",
    "\n",
    "WEIGHT_KG = \"#####\"\n",
    "HEIGHT_CM = \"#####\"\n",
    "AGE = \"#####\"\n",
    "\n",
    "APP_ID = \"#####\"\n",
    "API_KEY = \"#####\"\n",
    "\n",
    "nutrition_endpoint = \"https://trackapi.nutritionix.com/v2/natural/exercise\"\n",
    "\n",
    "user_query = input(\"Description: \")\n",
    "\n",
    "headers = {\n",
    "    \"x-app-id\": APP_ID,\n",
    "    \"x-app-key\": API_KEY    \n",
    "}\n",
    "\n",
    "\n",
    "nutrition_params = {\n",
    "    \"query\": user_query,\n",
    "    \"weight_kg\": WEIGHT_KG,\n",
    "    \"height_cm\": HEIGHT_CM,\n",
    "    \"age\": AGE\n",
    "}\n",
    "\n",
    "\n",
    "response = requests.post(url=nutrition_endpoint, json=nutrition_params, headers=headers)\n",
    "result = response.json()\n",
    "print(result)"
   ]
  },
  {
   "cell_type": "code",
   "execution_count": 52,
   "id": "e89aaf79-6fda-4ea2-a4bf-b720c6201e7c",
   "metadata": {},
   "outputs": [
    {
     "name": "stdout",
     "output_type": "stream",
     "text": [
      "{\n",
      "  \"workout\": {\n",
      "    \"date\": \"16/08/2024\",\n",
      "    \"time\": \"14:49:52\",\n",
      "    \"exercise\": \"swimming\",\n",
      "    \"duration\": 30,\n",
      "    \"calories\": 270,\n",
      "    \"id\": 7\n",
      "  }\n",
      "}\n"
     ]
    }
   ],
   "source": [
    "# save the data in Google sheet\n",
    "import requests\n",
    "from datetime import datetime\n",
    "\n",
    "today_date = datetime.now().strftime(\"%d/%m/%Y\")\n",
    "now_time = datetime.now().strftime(\"%X\")\n",
    "\n",
    "\n",
    "Sheety_endpoint = \"https://api.sheety.co/#####/myWorkouts240815/workouts\"\n",
    "Sheety_API_KEY = \"#####\"\n",
    "\n",
    "Sheety_headers = {\n",
    "    \"Authorization\": Sheety_API_KEY\n",
    "}\n",
    "\n",
    "for exercise in result[\"exercises\"]:\n",
    "    sheet_input = {\n",
    "        \"workout\":{\n",
    "            \"date\": today_date,\n",
    "            \"time\": now_time,\n",
    "            \"exercise\": exercise[\"name\"],\n",
    "            \"duration\": exercise[\"duration_min\"],\n",
    "            \"calories\": exercise[\"nf_calories\"]\n",
    "        }\n",
    "    }\n",
    "\n",
    "    sheet_response = requests.post(Sheety_endpoint, json=sheet_input, headers=Sheety_headers)\n",
    "\n",
    "    print(sheet_response.text)"
   ]
  }
 ],
 "metadata": {
  "kernelspec": {
   "display_name": "Python 3 (ipykernel)",
   "language": "python",
   "name": "python3"
  },
  "language_info": {
   "codemirror_mode": {
    "name": "ipython",
    "version": 3
   },
   "file_extension": ".py",
   "mimetype": "text/x-python",
   "name": "python",
   "nbconvert_exporter": "python",
   "pygments_lexer": "ipython3",
   "version": "3.12.4"
  }
 },
 "nbformat": 4,
 "nbformat_minor": 5
}
