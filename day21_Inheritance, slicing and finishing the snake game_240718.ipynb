{
 "cells": [
  {
   "cell_type": "code",
   "execution_count": 5,
   "id": "2ec602f2-d65f-4147-aab1-3b2000f2e075",
   "metadata": {},
   "outputs": [
    {
     "name": "stdout",
     "output_type": "stream",
     "text": [
      "moving in water.\n"
     ]
    }
   ],
   "source": [
    "# class inheritance: process of inheriting behavior and appearance from existing class\n",
    "# inherit appearance(attributes), behavior(methods)\n",
    "# class Fish(Animal):\n",
    "#     def __init__(self):\n",
    "#         super().__init__() # super refers to the super class\n",
    "\n",
    "class Animal:\n",
    "    def __init__(self):\n",
    "        self.num_eyes = 2\n",
    "\n",
    "    def breath(self):\n",
    "        print(\"Inhale, exhale.\")\n",
    "\n",
    "class Fish:\n",
    "    def swim(self):\n",
    "        print(\"moving in water.\")\n",
    "\n",
    "nemo = Fish()\n",
    "nemo.swim()"
   ]
  },
  {
   "cell_type": "code",
   "execution_count": 13,
   "id": "b66ba2f2-602c-49db-8fcd-1cb0efa4b92e",
   "metadata": {},
   "outputs": [
    {
     "name": "stdout",
     "output_type": "stream",
     "text": [
      "moving in water.\n",
      "Inhale, exhale.\n",
      "doing this unberwater.\n",
      "2\n"
     ]
    }
   ],
   "source": [
    "# inherit Animal class to fish class\n",
    "class Animal:\n",
    "    def __init__(self):\n",
    "        self.num_eyes = 2\n",
    "\n",
    "    def breathe(self):\n",
    "        print(\"Inhale, exhale.\")\n",
    "\n",
    "class Fish(Animal):\n",
    "    def __init__(self):\n",
    "        super().__init__() #it means inheriting all of attributes and methods in super class\n",
    "\n",
    "    def breathe(self):\n",
    "        super().breathe()\n",
    "        print(\"doing this unberwater.\")\n",
    "    \n",
    "    def swim(self):\n",
    "        print(\"moving in water.\")\n",
    "\n",
    "nemo = Fish()\n",
    "nemo.swim()\n",
    "nemo.breathe()\n",
    "print(nemo.num_eyes)"
   ]
  },
  {
   "cell_type": "code",
   "execution_count": 17,
   "id": "3d39e253-f69d-4649-a9b4-d1de287d0d03",
   "metadata": {},
   "outputs": [
    {
     "name": "stdout",
     "output_type": "stream",
     "text": [
      "A dog is loyal\n",
      "Sparky is gentle\n"
     ]
    }
   ],
   "source": [
    "class Dog:\n",
    "    def __init__(self):\n",
    "        self.temperament = \"loyal\"\n",
    "\n",
    "class Labrador(Dog):\n",
    "    def __init__(self):\n",
    "        super().__init__()\n",
    "        self.temperament = \"gentle\"\n",
    "        \n",
    "doggo = Dog()\n",
    "print(f\"A dog is {doggo.temperament}\")\n",
    "\n",
    "sparky = Labrador()\n",
    "print(f\"Sparky is {sparky.temperament}\")"
   ]
  },
  {
   "cell_type": "code",
   "execution_count": 18,
   "id": "9030d1d9-0242-4e33-a26e-570abc92dcdc",
   "metadata": {},
   "outputs": [
    {
     "name": "stdout",
     "output_type": "stream",
     "text": [
      "A dog is loyal\n",
      "Sparky is loyal\n"
     ]
    }
   ],
   "source": [
    "class Dog:\n",
    "    def __init__(self):\n",
    "        self.temperament = \"loyal\"\n",
    "\n",
    "class Labrador(Dog):\n",
    "    def __init__(self):\n",
    "        self.temperament = \"gentle\"\n",
    "        super().__init__() #선언하는 순서가 중요하다!!!\n",
    "                \n",
    "doggo = Dog()\n",
    "print(f\"A dog is {doggo.temperament}\")\n",
    "\n",
    "sparky = Labrador()\n",
    "print(f\"Sparky is {sparky.temperament}\")"
   ]
  },
  {
   "cell_type": "code",
   "execution_count": 24,
   "id": "9a4b0f95-8656-444e-97dd-ba5367bc4770",
   "metadata": {},
   "outputs": [
    {
     "name": "stdout",
     "output_type": "stream",
     "text": [
      "['c', 'd', 'e']\n",
      "['a', 'b', 'c', 'd', 'e']\n",
      "['c', 'e']\n",
      "['a', 'c', 'e', 'g']\n"
     ]
    }
   ],
   "source": [
    "# sclcing\n",
    "# list[2:5]\n",
    "piano_keys = [\"a\",\"b\",\"c\",\"d\",\"e\",\"f\",\"g\"]\n",
    "print(piano_keys[2:5])\n",
    "print(piano_keys[:5])\n",
    "print(piano_keys[2:5:2])\n",
    "print(piano_keys[::2]) #step\n",
    "# we can use same methods for tuples"
   ]
  },
  {
   "cell_type": "code",
   "execution_count": null,
   "id": "604d48e0-173d-43d4-8a1f-12d8d000524f",
   "metadata": {},
   "outputs": [],
   "source": [
    "# final_main.py\n",
    "import time\n",
    "from turtle import Screen, Turtle\n",
    "from snake import Snake\n",
    "from food import Food\n",
    "from scoreboard import Scoreboard\n",
    "\n",
    "# screen setup\n",
    "screen = Screen()\n",
    "screen.setup(width=600, height=600)\n",
    "screen.bgcolor(\"black\")\n",
    "screen.title(\"My snake Game\")\n",
    "screen.tracer(0)\n",
    "\n",
    "# Part1. Create a snake body\n",
    "\n",
    "# Part2. Move the snake\n",
    "snake = Snake()\n",
    "\n",
    "food = Food()\n",
    "\n",
    "scoreboard = Scoreboard()\n",
    "\n",
    "# Park3. Control the snake\n",
    "screen.listen()\n",
    "screen.onkey(snake.up, \"Up\")\n",
    "screen.onkey(snake.down, \"Down\")\n",
    "screen.onkey(snake.left, \"Left\")\n",
    "screen.onkey(snake.right, \"Right\")\n",
    "\n",
    "game_is_on = True\n",
    "while game_is_on:\n",
    "    screen.update()\n",
    "    time.sleep(0.1)\n",
    "    snake.move()\n",
    "    # Part4. Detech collision with food\n",
    "    if snake.head.distance(food) < 15:  # get error when snake.head().distance(food)!!!\n",
    "        food.refresh()\n",
    "        snake.extend()\n",
    "        # Part5. Create a scoreboard\n",
    "        scoreboard.increase_score()\n",
    "\n",
    "    # Part6. Detech collision with wall\n",
    "    if snake.head.xcor() > 290 or snake.head.xcor() <-290 or snake.head.ycor() > 290 or snake.head.ycor() < -290:\n",
    "        game_is_on = False\n",
    "        scoreboard.game_over()\n",
    "\n",
    "    # Part7. Detech collision with tail\n",
    "    for segment in snake.segments[1:]:\n",
    "        if snake.head.distance(segment) < 10 :\n",
    "            game_is_on = False\n",
    "            scoreboard.game_over()\n",
    "\n",
    "\n",
    "screen.exitonclick()"
   ]
  },
  {
   "cell_type": "code",
   "execution_count": null,
   "id": "dad7f670-d671-4df6-a0f4-13294021411d",
   "metadata": {},
   "outputs": [],
   "source": [
    "# snake.py\n",
    "from turtle import Turtle\n",
    "STARTING_POSITION = [(0, 0), (-20, 0), (-40, 0)]  # used tuples\n",
    "MOVE_DISTANCE = 20\n",
    "# snake can't move reverse direction(180 degree)\n",
    "UP = 90\n",
    "DOWN = 270\n",
    "LEFT = 180\n",
    "RIGHT = 0\n",
    "\n",
    "\n",
    "class Snake:\n",
    "    def __init__(self):\n",
    "        self.segments = []\n",
    "        self.create_snake()\n",
    "        self.head = self.segments[0]\n",
    "\n",
    "    def create_snake(self):\n",
    "        for position in STARTING_POSITION:\n",
    "            self.add_segment(position)\n",
    "\n",
    "    def add_segment(self, position):\n",
    "        new_segment = Turtle(\"square\")\n",
    "        new_segment.color(\"white\")\n",
    "        new_segment.penup()\n",
    "        new_segment.goto(position)\n",
    "        self.segments.append(new_segment)\n",
    "\n",
    "\n",
    "    def extend(self): # add a new segment to the snake\n",
    "        self.add_segment(self.segments[-1].position())\n",
    "\n",
    "\n",
    "    def move(self):\n",
    "        for seg_num in range(len(self.segments)-1, 0, -1):\n",
    "            new_x = self.segments[seg_num - 1].xcor()\n",
    "            new_y = self.segments[seg_num - 1].ycor()\n",
    "            self.segments[seg_num].goto(new_x, new_y)\n",
    "        self.head.forward(MOVE_DISTANCE)\n",
    "\n",
    "    def up(self):\n",
    "        if self.head.heading() != DOWN:\n",
    "            self.head.setheading(UP)\n",
    "        # self.move() _ it doesn't need\n",
    "\n",
    "    def down(self):\n",
    "        if self.head.heading() != UP:\n",
    "            self.head.setheading(DOWN)\n",
    "\n",
    "    def right(self):\n",
    "        if self.head.heading() != LEFT:\n",
    "            self.head.setheading(RIGHT)\n",
    "\n",
    "    def left(self):\n",
    "        if self.head.heading() != RIGHT:\n",
    "            self.head.setheading(LEFT)"
   ]
  },
  {
   "cell_type": "code",
   "execution_count": null,
   "id": "559c4cfc-fa14-42f5-b193-9eef18b04f12",
   "metadata": {},
   "outputs": [],
   "source": [
    "# food.py\n",
    "from turtle import Turtle\n",
    "import random\n",
    "\n",
    "class Food(Turtle):\n",
    "    # food generated at random location when eaten\n",
    "    def __init__(self):\n",
    "        super().__init__()\n",
    "        self.shape(\"circle\")\n",
    "        self.penup()\n",
    "        self.shapesize(stretch_len=0.5, stretch_wid=0.5)\n",
    "        self.color(\"blue\")\n",
    "        self.speed(\"fastest\")\n",
    "        random_x = random.randint(a=-280,b=280)\n",
    "        random_y = random.randint(a=-280,b=280)\n",
    "        self.goto(random_x, random_y)\n",
    "\n",
    "    def refresh(self):\n",
    "        random_x = random.randint(-280, 280)\n",
    "        random_y = random.randint(-280, 280)\n",
    "        self.goto(random_x, random_y)"
   ]
  },
  {
   "cell_type": "code",
   "execution_count": null,
   "id": "ba3985fc-a6af-4d10-b91b-75f8af28097d",
   "metadata": {},
   "outputs": [],
   "source": [
    "# scoreboard.py\n",
    "from turtle import Turtle\n",
    "ALIGNMENT = \"center\"\n",
    "FONT = (\"Courier\", 12, \"normal\")\n",
    "\n",
    "class Scoreboard(Turtle):\n",
    "    def __init__(self):\n",
    "        super().__init__()\n",
    "        self.goto(0, 280)\n",
    "        self.hideturtle()\n",
    "        self.color(\"white\")\n",
    "        self.score = 0\n",
    "        self.update_scorebaord()\n",
    "    def update_scorebaord(self):\n",
    "        self.write(f\"Score: {self.score}\", move=False, align=ALIGNMENT, font=FONT)\n",
    "\n",
    "    def increase_score(self):\n",
    "        self.score += 1\n",
    "        self.clear()\n",
    "        self.update_scorebaord()\n",
    "\n",
    "    def game_over(self):\n",
    "        self.goto(0, 0)\n",
    "        self.write(\"GAME OVER\", align=ALIGNMENT, font=FONT)"
   ]
  },
  {
   "cell_type": "code",
   "execution_count": 25,
   "id": "042dad56-34cb-448d-a7fa-a5b65495bdd8",
   "metadata": {},
   "outputs": [
    {
     "data": {
      "image/jpeg": "[encoded data removed]",
      "image/png": "[encoded data removed]",
      "text/plain": [
       "<PIL.JpegImagePlugin.JpegImageFile image mode=RGB size=592x630>"
      ]
     },
     "metadata": {},
     "output_type": "display_data"
    }
   ],
   "source": [
    "# Draw a random walk_img\n",
    "from PIL import Image\n",
    "from IPython.display import display\n",
    "img = Image.open('snake_game.jpg')\n",
    "display(img)"
   ]
  },
  {
   "cell_type": "code",
   "execution_count": null,
   "id": "0ba4166b-903b-47bc-b7f6-e6185be697f9",
   "metadata": {},
   "outputs": [],
   "source": []
  }
 ],
 "metadata": {
  "kernelspec": {
   "display_name": "Python 3 (ipykernel)",
   "language": "python",
   "name": "python3"
  },
  "language_info": {
   "codemirror_mode": {
    "name": "ipython",
    "version": 3
   },
   "file_extension": ".py",
   "mimetype": "text/x-python",
   "name": "python",
   "nbconvert_exporter": "python",
   "pygments_lexer": "ipython3",
   "version": "3.9.18"
  }
 },
 "nbformat": 4,
 "nbformat_minor": 5
}
