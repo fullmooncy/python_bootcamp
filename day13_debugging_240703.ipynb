{
 "cells": [
  {
   "cell_type": "code",
   "execution_count": 35,
   "id": "30096c83-b6f7-4b16-a08a-c5dba0ba1787",
   "metadata": {},
   "outputs": [],
   "source": [
    "# Debugging: the process of removing bugs in codes\n",
    "# Everyone gets bugs\n",
    "# tip1. describe the problem\n",
    "\n",
    "# Describe Problem\n",
    "def my_function():\n",
    "  for i in range(1, 20):\n",
    "    if i == 20:\n",
    "      print(\"You got it\")\n",
    "my_function()\n",
    "# problem: range(a,b) function gives integer numbers from a to 'b-1' not including b"
   ]
  },
  {
   "cell_type": "code",
   "execution_count": 36,
   "id": "538d2cbe-f734-442e-969a-ab3efa10167d",
   "metadata": {},
   "outputs": [
    {
     "name": "stdout",
     "output_type": "stream",
     "text": [
      "You got it\n"
     ]
    }
   ],
   "source": [
    "# Describe Problem\n",
    "def my_function():\n",
    "  for i in range(1, 21): #debugged\n",
    "    if i == 20:\n",
    "      print(\"You got it\")\n",
    "my_function()"
   ]
  },
  {
   "cell_type": "code",
   "execution_count": 37,
   "id": "73bd1524-950b-4de5-8a69-b906cbce7d9c",
   "metadata": {},
   "outputs": [
    {
     "ename": "IndexError",
     "evalue": "list index out of range",
     "output_type": "error",
     "traceback": [
      "\u001b[1;31m---------------------------------------------------------------------------\u001b[0m",
      "\u001b[1;31mIndexError\u001b[0m                                Traceback (most recent call last)",
      "Cell \u001b[1;32mIn[37], line 6\u001b[0m\n\u001b[0;32m      4\u001b[0m dice_imgs \u001b[38;5;241m=\u001b[39m [\u001b[38;5;124m\"\u001b[39m\u001b[38;5;124m❶\u001b[39m\u001b[38;5;124m\"\u001b[39m, \u001b[38;5;124m\"\u001b[39m\u001b[38;5;124m❷\u001b[39m\u001b[38;5;124m\"\u001b[39m, \u001b[38;5;124m\"\u001b[39m\u001b[38;5;124m❸\u001b[39m\u001b[38;5;124m\"\u001b[39m, \u001b[38;5;124m\"\u001b[39m\u001b[38;5;124m❹\u001b[39m\u001b[38;5;124m\"\u001b[39m, \u001b[38;5;124m\"\u001b[39m\u001b[38;5;124m❺\u001b[39m\u001b[38;5;124m\"\u001b[39m, \u001b[38;5;124m\"\u001b[39m\u001b[38;5;124m❻\u001b[39m\u001b[38;5;124m\"\u001b[39m]\n\u001b[0;32m      5\u001b[0m dice_num \u001b[38;5;241m=\u001b[39m randint(\u001b[38;5;241m1\u001b[39m, \u001b[38;5;241m6\u001b[39m)\n\u001b[1;32m----> 6\u001b[0m \u001b[38;5;28mprint\u001b[39m(\u001b[43mdice_imgs\u001b[49m\u001b[43m[\u001b[49m\u001b[43mdice_num\u001b[49m\u001b[43m]\u001b[49m)\n",
      "\u001b[1;31mIndexError\u001b[0m: list index out of range"
     ]
    }
   ],
   "source": [
    "# tip2. reproduce the bug\n",
    "# Reproduce the Bug\n",
    "from random import randint\n",
    "dice_imgs = [\"❶\", \"❷\", \"❸\", \"❹\", \"❺\", \"❻\"]\n",
    "dice_num = randint(1, 6)\n",
    "print(dice_imgs[dice_num])\n",
    "# problem: dice_num gets the number between 1 and 6. But index range of 'dice_imgs' is 0 to 5."
   ]
  },
  {
   "cell_type": "code",
   "execution_count": 38,
   "id": "138e62fa-75d8-4895-ad29-5c79f430126f",
   "metadata": {},
   "outputs": [
    {
     "name": "stdout",
     "output_type": "stream",
     "text": [
      "❷\n",
      "❸\n",
      "❹\n",
      "❺\n",
      "❻\n"
     ]
    },
    {
     "ename": "IndexError",
     "evalue": "list index out of range",
     "output_type": "error",
     "traceback": [
      "\u001b[1;31m---------------------------------------------------------------------------\u001b[0m",
      "\u001b[1;31mIndexError\u001b[0m                                Traceback (most recent call last)",
      "Cell \u001b[1;32mIn[38], line 15\u001b[0m\n\u001b[0;32m     13\u001b[0m \u001b[38;5;28mprint\u001b[39m(dice_imgs[dice_num])\n\u001b[0;32m     14\u001b[0m dice_num \u001b[38;5;241m=\u001b[39m \u001b[38;5;241m6\u001b[39m\n\u001b[1;32m---> 15\u001b[0m \u001b[38;5;28mprint\u001b[39m(\u001b[43mdice_imgs\u001b[49m\u001b[43m[\u001b[49m\u001b[43mdice_num\u001b[49m\u001b[43m]\u001b[49m)\n",
      "\u001b[1;31mIndexError\u001b[0m: list index out of range"
     ]
    }
   ],
   "source": [
    "# Reproduce the Bug\n",
    "from random import randint\n",
    "dice_imgs = [\"❶\", \"❷\", \"❸\", \"❹\", \"❺\", \"❻\"]\n",
    "dice_num = 1\n",
    "print(dice_imgs[dice_num])\n",
    "dice_num = 2\n",
    "print(dice_imgs[dice_num])\n",
    "dice_num = 3\n",
    "print(dice_imgs[dice_num])\n",
    "dice_num = 4\n",
    "print(dice_imgs[dice_num])\n",
    "dice_num = 5\n",
    "print(dice_imgs[dice_num])\n",
    "dice_num = 6\n",
    "print(dice_imgs[dice_num])\n",
    "# by repeat the code we can figure out which point makes the error"
   ]
  },
  {
   "cell_type": "code",
   "execution_count": 39,
   "id": "fd38d9f0-9a74-40e5-a514-4a39541aed5e",
   "metadata": {},
   "outputs": [
    {
     "name": "stdout",
     "output_type": "stream",
     "text": [
      "❷\n"
     ]
    }
   ],
   "source": [
    "# Reproduce the Bug\n",
    "from random import randint\n",
    "dice_imgs = [\"❶\", \"❷\", \"❸\", \"❹\", \"❺\", \"❻\"]\n",
    "dice_num = randint(0, 5)\n",
    "print(dice_imgs[dice_num])"
   ]
  },
  {
   "cell_type": "code",
   "execution_count": 40,
   "id": "d3fb1d61-9840-4d46-8fac-471809fdecf5",
   "metadata": {},
   "outputs": [
    {
     "name": "stdin",
     "output_type": "stream",
     "text": [
      "What's your year of birth? 1994\n"
     ]
    }
   ],
   "source": [
    "# tip3. Play computer\n",
    "# Play Computer\n",
    "year = int(input(\"What's your year of birth?\"))\n",
    "if year > 1980 and year < 1994:\n",
    "  print(\"You are a millenial.\")\n",
    "elif year > 1994:\n",
    "  print(\"You are a Gen Z.\")\n",
    "# when we input 1994, nothing happened"
   ]
  },
  {
   "cell_type": "code",
   "execution_count": 41,
   "id": "b1738ff7-ec90-47fc-b149-8e393a6ce3ed",
   "metadata": {},
   "outputs": [],
   "source": [
    "# become the computer and replace the value\n",
    "year = 1994\n",
    "if False: # True and False\n",
    "  print(\"You are a millenial.\")\n",
    "elif False: #1994 > 1994\n",
    "  print(\"You are a Gen Z.\")"
   ]
  },
  {
   "cell_type": "code",
   "execution_count": 42,
   "id": "bf675911-59df-4d50-a499-285de8cb4076",
   "metadata": {},
   "outputs": [
    {
     "name": "stdin",
     "output_type": "stream",
     "text": [
      "What's your year of birth? 1994\n"
     ]
    },
    {
     "name": "stdout",
     "output_type": "stream",
     "text": [
      "You are a Gen Z.\n"
     ]
    }
   ],
   "source": [
    "# Play Computer\n",
    "year = int(input(\"What's your year of birth?\"))\n",
    "if year > 1980 and year < 1994:\n",
    "  print(\"You are a millenial.\")\n",
    "elif year >= 1994:\n",
    "  print(\"You are a Gen Z.\")"
   ]
  },
  {
   "cell_type": "code",
   "execution_count": 44,
   "id": "4f35b640-b97e-4f00-b8da-5d77e8de0890",
   "metadata": {},
   "outputs": [
    {
     "name": "stdin",
     "output_type": "stream",
     "text": [
      "How old are you? 27\n"
     ]
    },
    {
     "name": "stdout",
     "output_type": "stream",
     "text": [
      "You can drive at age 27.\n"
     ]
    }
   ],
   "source": [
    "# tip4. fix the error\n",
    "# Fix the Errors\n",
    "age = int(input(\"How old are you?\"))\n",
    "if age > 18:\n",
    "    print(f\"You can drive at age {age}.\")"
   ]
  },
  {
   "cell_type": "code",
   "execution_count": 45,
   "id": "c8e73783-df80-4f19-bb1b-214593a2dddb",
   "metadata": {},
   "outputs": [
    {
     "name": "stdin",
     "output_type": "stream",
     "text": [
      "Number of pages:  20\n"
     ]
    },
    {
     "name": "stdout",
     "output_type": "stream",
     "text": [
      "20\n"
     ]
    },
    {
     "name": "stdin",
     "output_type": "stream",
     "text": [
      "Number of words per page:  30\n"
     ]
    },
    {
     "name": "stdout",
     "output_type": "stream",
     "text": [
      "0\n",
      "0\n"
     ]
    }
   ],
   "source": [
    "#tip5.Print is Your Friend\n",
    "pages = 0\n",
    "word_per_page = 0\n",
    "pages = int(input(\"Number of pages: \"))\n",
    "print(pages)\n",
    "word_per_page == int(input(\"Number of words per page: \")) # bug!!!\n",
    "print(word_per_page)\n",
    "total_words = pages * word_per_page\n",
    "print(total_words)"
   ]
  },
  {
   "cell_type": "code",
   "execution_count": 46,
   "id": "ec15e0bf-827c-4242-8428-460a33f268e1",
   "metadata": {},
   "outputs": [
    {
     "name": "stdin",
     "output_type": "stream",
     "text": [
      "Number of pages:  20\n"
     ]
    },
    {
     "name": "stdout",
     "output_type": "stream",
     "text": [
      "20\n"
     ]
    },
    {
     "name": "stdin",
     "output_type": "stream",
     "text": [
      "Number of words per page:  300\n"
     ]
    },
    {
     "name": "stdout",
     "output_type": "stream",
     "text": [
      "300\n",
      "6000\n"
     ]
    }
   ],
   "source": [
    "#Print is Your Friend\n",
    "pages = 0\n",
    "word_per_page = 0\n",
    "pages = int(input(\"Number of pages: \"))\n",
    "print(pages)\n",
    "word_per_page = int(input(\"Number of words per page: \")) # debugged\n",
    "print(word_per_page)\n",
    "total_words = pages * word_per_page\n",
    "print(total_words)"
   ]
  },
  {
   "cell_type": "code",
   "execution_count": 47,
   "id": "7ab1256b-5100-4996-aa03-5da307993fe1",
   "metadata": {},
   "outputs": [
    {
     "name": "stdout",
     "output_type": "stream",
     "text": [
      "[26]\n"
     ]
    }
   ],
   "source": [
    "#step6. Use a Debugger\n",
    "# https://pythontutor.com/render.html#mode=display\n",
    "#Use a Debugger\n",
    "def mutate(a_list):\n",
    "  b_list = []\n",
    "  for item in a_list:\n",
    "    new_item = item * 2\n",
    "  b_list.append(new_item)\n",
    "  print(b_list)\n",
    "\n",
    "mutate([1,2,3,5,8,13])"
   ]
  },
  {
   "cell_type": "code",
   "execution_count": 48,
   "id": "bfc427a4-e82c-4c5f-8799-d197e0dbd126",
   "metadata": {},
   "outputs": [
    {
     "name": "stdout",
     "output_type": "stream",
     "text": [
      "[2, 4, 6, 10, 16, 26]\n"
     ]
    }
   ],
   "source": [
    "def mutate(a_list):\n",
    "  b_list = []\n",
    "  for item in a_list:\n",
    "      new_item = item * 2\n",
    "      b_list.append(new_item)\n",
    "  print(b_list)\n",
    "\n",
    "mutate([1,2,3,5,8,13])"
   ]
  },
  {
   "cell_type": "code",
   "execution_count": null,
   "id": "c848e0d6-bbbd-4b1b-bf3f-c0cf4e91a34c",
   "metadata": {},
   "outputs": [],
   "source": [
    "#debugging final tips\n",
    "#tip7. take a break\n",
    "#tip8. ask a friend\n",
    "#tip9. run often\n",
    "#tip10. ask stackoverflow\n",
    "#https://stackoverflow.com/questions/tagged/python"
   ]
  },
  {
   "cell_type": "code",
   "execution_count": 49,
   "id": "91c47115-3f7c-4ea7-ac22-1145d08e7c6f",
   "metadata": {},
   "outputs": [
    {
     "name": "stdin",
     "output_type": "stream",
     "text": [
      " 4\n"
     ]
    },
    {
     "name": "stdout",
     "output_type": "stream",
     "text": [
      "This is an even number.\n"
     ]
    }
   ],
   "source": [
    "# LESSON 25 DAY 13 - DEBUGGING ODD OR EVEN\n",
    "number = int(input()) # Which number do you want to check?\n",
    "\n",
    "if number % 2 == 0: #debugged!\n",
    "  print(\"This is an even number.\")\n",
    "else:\n",
    "  print(\"This is an odd number.\")\n",
    "  "
   ]
  },
  {
   "cell_type": "code",
   "execution_count": 51,
   "id": "13e01f79-d5e9-431c-be2e-4618d79325ab",
   "metadata": {},
   "outputs": [
    {
     "name": "stdin",
     "output_type": "stream",
     "text": [
      " 2024\n"
     ]
    },
    {
     "name": "stdout",
     "output_type": "stream",
     "text": [
      "Leap year.\n"
     ]
    }
   ],
   "source": [
    "# LESSON 26 DAY 13 - DEBUGGING LEAP YEAR\n",
    "# Which year do you want to check?\n",
    "year = int(input()) # debugged!!\n",
    "\n",
    "if year % 4 == 0:\n",
    "    if year % 100 == 0:\n",
    "        if year % 400 == 0:\n",
    "            print(\"Leap year.\")\n",
    "        else:\n",
    "            print(\"Not leap year.\")\n",
    "    else:\n",
    "        print(\"Leap year.\")\n",
    "else:\n",
    "    print(\"Not leap year.\")\n",
    "\n",
    "#TypeError: not all arguments converted during string formatting"
   ]
  },
  {
   "cell_type": "code",
   "execution_count": 55,
   "id": "1b912639-64fe-4b2b-989f-88740f4adf83",
   "metadata": {},
   "outputs": [
    {
     "name": "stdin",
     "output_type": "stream",
     "text": [
      " 15\n"
     ]
    },
    {
     "name": "stdout",
     "output_type": "stream",
     "text": [
      "[1]\n",
      "[2]\n",
      "Fizz\n",
      "[4]\n",
      "Buzz\n",
      "Fizz\n",
      "[7]\n",
      "[8]\n",
      "Fizz\n",
      "Buzz\n",
      "[11]\n",
      "Fizz\n",
      "[13]\n",
      "[14]\n",
      "FizzBuzz\n"
     ]
    }
   ],
   "source": [
    "# LESSON 27 DAY 13 - DEBUGGING FIZZBUZZ\n",
    "target = int(input())\n",
    "for number in range(1, target + 1):\n",
    "  if number % 3 == 0 and number % 5 == 0:\n",
    "    print(\"FizzBuzz\")\n",
    "  elif number % 3 == 0:\n",
    "    print(\"Fizz\")\n",
    "  elif number % 5 == 0:\n",
    "    print(\"Buzz\")\n",
    "  else:\n",
    "    print(number)"
   ]
  },
  {
   "cell_type": "code",
   "execution_count": null,
   "id": "ae67469b-aef5-47e5-a7b2-1c5a33a267c8",
   "metadata": {},
   "outputs": [],
   "source": []
  }
 ],
 "metadata": {
  "kernelspec": {
   "display_name": "Python 3 (ipykernel)",
   "language": "python",
   "name": "python3"
  },
  "language_info": {
   "codemirror_mode": {
    "name": "ipython",
    "version": 3
   },
   "file_extension": ".py",
   "mimetype": "text/x-python",
   "name": "python",
   "nbconvert_exporter": "python",
   "pygments_lexer": "ipython3",
   "version": "3.9.18"
  }
 },
 "nbformat": 4,
 "nbformat_minor": 5
}
