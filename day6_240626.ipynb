{
 "cells": [
  {
   "cell_type": "code",
   "execution_count": 5,
   "id": "0f6bdc46-e4f8-437c-84c5-7ab1a88b3323",
   "metadata": {},
   "outputs": [
    {
     "name": "stdout",
     "output_type": "stream",
     "text": [
      "Hello\n",
      "5\n",
      "Hello\n"
     ]
    }
   ],
   "source": [
    "# day6\n",
    "print(\"Hello\")\n",
    "num_char = len(\"Hello\")\n",
    "print(num_char)\n",
    "\n",
    "# Way to make our own function \n",
    "def my_function(): # defining functions\n",
    "    print(\"Hello\")\n",
    "    num_char = len(\"Hello\")\n",
    "\n",
    "my_function() # calling functions\n"
   ]
  },
  {
   "cell_type": "code",
   "execution_count": 6,
   "id": "c1fe18c0-4dbc-49d8-a752-8cf8a699a48b",
   "metadata": {},
   "outputs": [
    {
     "name": "stdout",
     "output_type": "stream",
     "text": [
      "Hello\n"
     ]
    }
   ],
   "source": [
    "# Built-in Functions\n",
    "# https://docs.python.org/3/library/functions.html\n",
    "\n",
    "# Indedtation means inside the function\n",
    "# spaces vs tabs\n",
    "def wow():\n",
    "  print(\"wow\")\n",
    "print(\"Hello\")"
   ]
  },
  {
   "cell_type": "code",
   "execution_count": 7,
   "id": "b47fb3bb-141d-4238-9b3a-c3b19b3040c0",
   "metadata": {},
   "outputs": [
    {
     "name": "stdout",
     "output_type": "stream",
     "text": [
      "Hello\n",
      "wow\n"
     ]
    }
   ],
   "source": [
    "print(\"Hello\")\n",
    "wow()"
   ]
  },
  {
   "cell_type": "code",
   "execution_count": null,
   "id": "79795cc5-7769-4964-b2b8-c3e65bdbec59",
   "metadata": {},
   "outputs": [],
   "source": [
    "# While Loops\n",
    "# while something_is_true:\n",
    "#     Do something repeatedly\n",
    "# if you need each value, it is better to use for loop, else(you don't care about the value) it is beeter to use while loop\n",
    "\n",
    "# https://reeborg.ca/reeborg.html?lang=en&mode=python&menu=worlds%2Fmenus%2Freeborg_intro_en.json&name=Maze&url=worlds%2Ftutorial_en%2Fmaze1.json\n",
    "\n",
    "# My code\n",
    "def turn_right():\n",
    "    turn_left()\n",
    "    turn_left()\n",
    "    turn_left()\n",
    "\n",
    "while at_goal() != True:\n",
    "    if right_is_clear():\n",
    "        turn_right()\n",
    "        move()\n",
    "    else:\n",
    "        if front_is_clear():\n",
    "            move()\n",
    "        else:\n",
    "            turn_left() \n",
    "\n",
    "# teacher solution\n",
    "def turn_right():\n",
    "    turn_left()\n",
    "    turn_left()\n",
    "    turn_left()\n",
    "\n",
    "while front_is_clear():\n",
    "    move()\n",
    "turn_left()\n",
    "\n",
    "while at_goal() != True:\n",
    "    if right_is_clear():\n",
    "        turn_right()\n",
    "        move()\n",
    "    elif front_is_clear():\n",
    "        move()\n",
    "    else:\n",
    "        turn_left() \n",
    "\n",
    "#reflection: let's use elif next cases!"
   ]
  }
 ],
 "metadata": {
  "kernelspec": {
   "display_name": "Python 3 (ipykernel)",
   "language": "python",
   "name": "python3"
  },
  "language_info": {
   "codemirror_mode": {
    "name": "ipython",
    "version": 3
   },
   "file_extension": ".py",
   "mimetype": "text/x-python",
   "name": "python",
   "nbconvert_exporter": "python",
   "pygments_lexer": "ipython3",
   "version": "3.9.18"
  }
 },
 "nbformat": 4,
 "nbformat_minor": 5
}
