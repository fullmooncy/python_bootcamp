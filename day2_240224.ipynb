{
 "cells": [
  {
   "cell_type": "code",
   "execution_count": 1,
   "id": "1e81d1e8-849a-48a6-99fd-6668ab7e10b1",
   "metadata": {},
   "outputs": [
    {
     "name": "stdout",
     "output_type": "stream",
     "text": [
      "H\n"
     ]
    }
   ],
   "source": [
    "print(\"Hello\"[0])"
   ]
  },
  {
   "cell_type": "code",
   "execution_count": 2,
   "id": "7ff34f95-19e1-4a23-8765-a032a6911586",
   "metadata": {},
   "outputs": [
    {
     "name": "stdout",
     "output_type": "stream",
     "text": [
      "o\n"
     ]
    }
   ],
   "source": [
    "print(\"Hello\"[4])"
   ]
  },
  {
   "cell_type": "code",
   "execution_count": 3,
   "id": "1f3ff438-9cbe-4f0a-afec-84f2727dc562",
   "metadata": {},
   "outputs": [
    {
     "name": "stdout",
     "output_type": "stream",
     "text": [
      "o\n"
     ]
    }
   ],
   "source": [
    "print(\"Hello\"[-1])"
   ]
  },
  {
   "cell_type": "code",
   "execution_count": 4,
   "id": "ac469680-2aa1-4411-996a-02081277dd9c",
   "metadata": {},
   "outputs": [
    {
     "name": "stdout",
     "output_type": "stream",
     "text": [
      "123456\n"
     ]
    }
   ],
   "source": [
    "print(\"123\"+\"456\")"
   ]
  },
  {
   "cell_type": "code",
   "execution_count": 5,
   "id": "35e7e6af-5e2b-4ff7-bd0b-e0100d7bc55c",
   "metadata": {},
   "outputs": [
    {
     "name": "stdout",
     "output_type": "stream",
     "text": [
      "579\n"
     ]
    }
   ],
   "source": [
    "print(123+456)"
   ]
  },
  {
   "cell_type": "code",
   "execution_count": 6,
   "id": "bd06352e-8b16-4e5c-92cf-9d8bd8b8cdd6",
   "metadata": {},
   "outputs": [
    {
     "name": "stdout",
     "output_type": "stream",
     "text": [
      "123456\n"
     ]
    }
   ],
   "source": [
    "print(123_456)"
   ]
  },
  {
   "cell_type": "code",
   "execution_count": 7,
   "id": "b3edf697-8897-4ca3-979c-bfcfdb1f0732",
   "metadata": {},
   "outputs": [],
   "source": [
    "#Boolean"
   ]
  },
  {
   "cell_type": "code",
   "execution_count": 8,
   "id": "56203310-040b-4e61-a4a5-0542b94dfdc0",
   "metadata": {},
   "outputs": [
    {
     "data": {
      "text/plain": [
       "False"
      ]
     },
     "execution_count": 8,
     "metadata": {},
     "output_type": "execute_result"
    }
   ],
   "source": [
    "True\n",
    "False"
   ]
  },
  {
   "cell_type": "code",
   "execution_count": 9,
   "id": "1615243e-8a8e-4bad-a373-ced89438d158",
   "metadata": {},
   "outputs": [
    {
     "name": "stdout",
     "output_type": "stream",
     "text": [
      "False\n"
     ]
    }
   ],
   "source": [
    "print(True and False)"
   ]
  },
  {
   "cell_type": "code",
   "execution_count": 10,
   "id": "1fb09210-53d9-4c7e-9390-c446387f8fd3",
   "metadata": {},
   "outputs": [
    {
     "ename": "TypeError",
     "evalue": "object of type 'int' has no len()",
     "output_type": "error",
     "traceback": [
      "\u001b[1;31m---------------------------------------------------------------------------\u001b[0m",
      "\u001b[1;31mTypeError\u001b[0m                                 Traceback (most recent call last)",
      "Cell \u001b[1;32mIn[10], line 1\u001b[0m\n\u001b[1;32m----> 1\u001b[0m \u001b[38;5;28;43mlen\u001b[39;49m\u001b[43m(\u001b[49m\u001b[38;5;241;43m234\u001b[39;49m\u001b[43m)\u001b[49m\n",
      "\u001b[1;31mTypeError\u001b[0m: object of type 'int' has no len()"
     ]
    }
   ],
   "source": [
    "len(234)"
   ]
  },
  {
   "cell_type": "code",
   "execution_count": 11,
   "id": "d336596c-6bd7-4851-bc06-8d22a9bbadd8",
   "metadata": {},
   "outputs": [
    {
     "name": "stdin",
     "output_type": "stream",
     "text": [
      "your name:  Moon\n"
     ]
    },
    {
     "ename": "NameError",
     "evalue": "name 'num_char' is not defined",
     "output_type": "error",
     "traceback": [
      "\u001b[1;31m---------------------------------------------------------------------------\u001b[0m",
      "\u001b[1;31mNameError\u001b[0m                                 Traceback (most recent call last)",
      "Cell \u001b[1;32mIn[11], line 2\u001b[0m\n\u001b[0;32m      1\u001b[0m cum_char \u001b[38;5;241m=\u001b[39m \u001b[38;5;28mlen\u001b[39m(\u001b[38;5;28minput\u001b[39m(\u001b[38;5;124m\"\u001b[39m\u001b[38;5;124myour name: \u001b[39m\u001b[38;5;124m\"\u001b[39m))\n\u001b[1;32m----> 2\u001b[0m \u001b[38;5;28mprint\u001b[39m(\u001b[38;5;124m\"\u001b[39m\u001b[38;5;124mYour name has \u001b[39m\u001b[38;5;124m\"\u001b[39m\u001b[38;5;241m+\u001b[39m\u001b[43mnum_char\u001b[49m\u001b[38;5;241m+\u001b[39m\u001b[38;5;124m\"\u001b[39m\u001b[38;5;124m characters.\u001b[39m\u001b[38;5;124m\"\u001b[39m)\n",
      "\u001b[1;31mNameError\u001b[0m: name 'num_char' is not defined"
     ]
    }
   ],
   "source": [
    "cum_char = len(input(\"your name: \"))\n",
    "print(\"Your name has \"+num_char+\" characters.\")"
   ]
  },
  {
   "cell_type": "code",
   "execution_count": 12,
   "id": "3cd64c31-ceca-421e-9d94-a2b3f57beffc",
   "metadata": {},
   "outputs": [
    {
     "name": "stdin",
     "output_type": "stream",
     "text": [
      "your name:  Moon\n"
     ]
    },
    {
     "ename": "TypeError",
     "evalue": "can only concatenate str (not \"int\") to str",
     "output_type": "error",
     "traceback": [
      "\u001b[1;31m---------------------------------------------------------------------------\u001b[0m",
      "\u001b[1;31mTypeError\u001b[0m                                 Traceback (most recent call last)",
      "Cell \u001b[1;32mIn[12], line 2\u001b[0m\n\u001b[0;32m      1\u001b[0m num_char \u001b[38;5;241m=\u001b[39m \u001b[38;5;28mlen\u001b[39m(\u001b[38;5;28minput\u001b[39m(\u001b[38;5;124m\"\u001b[39m\u001b[38;5;124myour name: \u001b[39m\u001b[38;5;124m\"\u001b[39m))\n\u001b[1;32m----> 2\u001b[0m \u001b[38;5;28mprint\u001b[39m(\u001b[38;5;124;43m\"\u001b[39;49m\u001b[38;5;124;43mYour name has \u001b[39;49m\u001b[38;5;124;43m\"\u001b[39;49m\u001b[38;5;241;43m+\u001b[39;49m\u001b[43mnum_char\u001b[49m\u001b[38;5;241m+\u001b[39m\u001b[38;5;124m\"\u001b[39m\u001b[38;5;124m characters.\u001b[39m\u001b[38;5;124m\"\u001b[39m)\n",
      "\u001b[1;31mTypeError\u001b[0m: can only concatenate str (not \"int\") to str"
     ]
    }
   ],
   "source": [
    "num_char = len(input(\"your name: \"))\n",
    "print(\"Your name has \"+num_char+\" characters.\")"
   ]
  },
  {
   "cell_type": "code",
   "execution_count": 13,
   "id": "ae4050de-5b61-42cf-93c7-f08402289e5f",
   "metadata": {},
   "outputs": [
    {
     "name": "stdin",
     "output_type": "stream",
     "text": [
      "your name:  Moon\n"
     ]
    },
    {
     "data": {
      "text/plain": [
       "int"
      ]
     },
     "execution_count": 13,
     "metadata": {},
     "output_type": "execute_result"
    }
   ],
   "source": [
    "num_char = len(input(\"your name: \"))\n",
    "type(num_char)"
   ]
  },
  {
   "cell_type": "code",
   "execution_count": 14,
   "id": "ec04b2ea-b139-4d9d-a5af-89fafacf4936",
   "metadata": {},
   "outputs": [
    {
     "name": "stdout",
     "output_type": "stream",
     "text": [
      "<class 'int'>\n"
     ]
    }
   ],
   "source": [
    "print(type(num_char))"
   ]
  },
  {
   "cell_type": "code",
   "execution_count": 15,
   "id": "715cd6a5-9fe1-4d0a-b0df-4c4cc0b3c9af",
   "metadata": {},
   "outputs": [
    {
     "name": "stdout",
     "output_type": "stream",
     "text": [
      "Your name has 4 characters.\n"
     ]
    }
   ],
   "source": [
    "new_num_char = str(num_char)\n",
    "print(\"Your name has \"+new_num_char+\" characters.\")"
   ]
  },
  {
   "cell_type": "code",
   "execution_count": 16,
   "id": "b2578cc1-7da6-430f-925c-fe2d64524b66",
   "metadata": {},
   "outputs": [
    {
     "name": "stdout",
     "output_type": "stream",
     "text": [
      "<class 'int'>\n"
     ]
    }
   ],
   "source": [
    "a = 123\n",
    "print(type(a))"
   ]
  },
  {
   "cell_type": "code",
   "execution_count": 17,
   "id": "6fc5e764-a01d-4c92-a220-5106477281fb",
   "metadata": {},
   "outputs": [
    {
     "name": "stdout",
     "output_type": "stream",
     "text": [
      "<class 'str'>\n"
     ]
    }
   ],
   "source": [
    "a = str(123)\n",
    "print(type(a))"
   ]
  },
  {
   "cell_type": "code",
   "execution_count": 18,
   "id": "5455c724-acad-413f-9b2c-316084fba378",
   "metadata": {},
   "outputs": [
    {
     "name": "stdout",
     "output_type": "stream",
     "text": [
      "170.5\n"
     ]
    }
   ],
   "source": [
    "print(70 + float(\"100.5\"))"
   ]
  },
  {
   "cell_type": "code",
   "execution_count": 19,
   "id": "9512d3dd-4065-4797-8afe-f22e68e25aa4",
   "metadata": {},
   "outputs": [
    {
     "name": "stdout",
     "output_type": "stream",
     "text": [
      "70100\n"
     ]
    }
   ],
   "source": [
    "print(str(70)+str(100))"
   ]
  },
  {
   "cell_type": "code",
   "execution_count": 20,
   "id": "b78a2437-9272-49ae-8eea-60569b44617c",
   "metadata": {},
   "outputs": [
    {
     "data": {
      "text/plain": [
       "6"
      ]
     },
     "execution_count": 20,
     "metadata": {},
     "output_type": "execute_result"
    }
   ],
   "source": [
    "3*2"
   ]
  },
  {
   "cell_type": "code",
   "execution_count": 21,
   "id": "2285d765-358c-4ccb-8cf2-8f987826a8b2",
   "metadata": {},
   "outputs": [
    {
     "name": "stdout",
     "output_type": "stream",
     "text": [
      "2.0\n"
     ]
    }
   ],
   "source": [
    "print(6/3)"
   ]
  },
  {
   "cell_type": "code",
   "execution_count": 22,
   "id": "168a17fb-3f72-41ba-ba9d-1c79bb62b084",
   "metadata": {},
   "outputs": [
    {
     "name": "stdout",
     "output_type": "stream",
     "text": [
      "<class 'float'>\n"
     ]
    }
   ],
   "source": [
    "print(type(6/3))"
   ]
  },
  {
   "cell_type": "code",
   "execution_count": 23,
   "id": "18b8b014-5a16-4be8-8dfd-0d1534af64c2",
   "metadata": {},
   "outputs": [
    {
     "data": {
      "text/plain": [
       "4"
      ]
     },
     "execution_count": 23,
     "metadata": {},
     "output_type": "execute_result"
    }
   ],
   "source": [
    "2**2"
   ]
  },
  {
   "cell_type": "code",
   "execution_count": 24,
   "id": "4e36dd45-7e93-44ba-a215-2561455dece8",
   "metadata": {},
   "outputs": [
    {
     "name": "stdout",
     "output_type": "stream",
     "text": [
      "8\n"
     ]
    }
   ],
   "source": [
    "print(2**3)"
   ]
  },
  {
   "cell_type": "code",
   "execution_count": 25,
   "id": "fb33f944-e61d-407e-a9c7-16280437a885",
   "metadata": {},
   "outputs": [
    {
     "data": {
      "text/plain": [
       "7.0"
      ]
     },
     "execution_count": 25,
     "metadata": {},
     "output_type": "execute_result"
    }
   ],
   "source": [
    "3*3+3/3-3"
   ]
  },
  {
   "cell_type": "code",
   "execution_count": 26,
   "id": "f1a34840-b3b8-405b-ba9d-a7c4b00b8254",
   "metadata": {},
   "outputs": [
    {
     "data": {
      "text/plain": [
       "3.0"
      ]
     },
     "execution_count": 26,
     "metadata": {},
     "output_type": "execute_result"
    }
   ],
   "source": [
    "3*(3+3)/3-3"
   ]
  },
  {
   "cell_type": "code",
   "execution_count": 27,
   "id": "f188b568-d062-4bb6-97fe-3a137aa92869",
   "metadata": {},
   "outputs": [
    {
     "data": {
      "text/plain": [
       "2.6666666666666665"
      ]
     },
     "execution_count": 27,
     "metadata": {},
     "output_type": "execute_result"
    }
   ],
   "source": [
    " 8/3"
   ]
  },
  {
   "cell_type": "code",
   "execution_count": 28,
   "id": "e038d2f5-8944-4ea5-87a5-ea024be7efd5",
   "metadata": {},
   "outputs": [
    {
     "name": "stdout",
     "output_type": "stream",
     "text": [
      "2\n"
     ]
    }
   ],
   "source": [
    "print(int(8/3))"
   ]
  },
  {
   "cell_type": "code",
   "execution_count": 29,
   "id": "7a74a18f-7c7b-483a-889c-419420e89499",
   "metadata": {},
   "outputs": [
    {
     "ename": "NameError",
     "evalue": "name 'rount' is not defined",
     "output_type": "error",
     "traceback": [
      "\u001b[1;31m---------------------------------------------------------------------------\u001b[0m",
      "\u001b[1;31mNameError\u001b[0m                                 Traceback (most recent call last)",
      "Cell \u001b[1;32mIn[29], line 1\u001b[0m\n\u001b[1;32m----> 1\u001b[0m \u001b[38;5;28mprint\u001b[39m(\u001b[43mrount\u001b[49m(\u001b[38;5;241m8\u001b[39m\u001b[38;5;241m/\u001b[39m\u001b[38;5;241m3\u001b[39m))\n",
      "\u001b[1;31mNameError\u001b[0m: name 'rount' is not defined"
     ]
    }
   ],
   "source": [
    "print(rount(8/3))"
   ]
  },
  {
   "cell_type": "code",
   "execution_count": 30,
   "id": "c323130d-374c-4f00-9615-4f1e9e6ab568",
   "metadata": {},
   "outputs": [
    {
     "name": "stdout",
     "output_type": "stream",
     "text": [
      "3\n"
     ]
    }
   ],
   "source": [
    "print(round(8/3))"
   ]
  },
  {
   "cell_type": "code",
   "execution_count": 31,
   "id": "6edf4337-4509-43ea-bad7-a3cfcd003ea4",
   "metadata": {},
   "outputs": [
    {
     "name": "stdout",
     "output_type": "stream",
     "text": [
      "2.667\n"
     ]
    }
   ],
   "source": [
    "print(round(8/3, 3))"
   ]
  },
  {
   "cell_type": "code",
   "execution_count": 32,
   "id": "9e2785ce-1e84-4684-9bfe-ab3b71a6bd09",
   "metadata": {},
   "outputs": [
    {
     "name": "stdout",
     "output_type": "stream",
     "text": [
      "2.6666667\n"
     ]
    }
   ],
   "source": [
    "print(round(8/3, 7))"
   ]
  },
  {
   "cell_type": "code",
   "execution_count": 33,
   "id": "bd6e1527-7ef5-4471-bf90-d34bf2086e09",
   "metadata": {},
   "outputs": [
    {
     "name": "stdout",
     "output_type": "stream",
     "text": [
      "2\n"
     ]
    }
   ],
   "source": [
    "print(8//3)"
   ]
  },
  {
   "cell_type": "code",
   "execution_count": 34,
   "id": "c71da349-751c-4a48-a9f8-cccca5a60d24",
   "metadata": {},
   "outputs": [
    {
     "name": "stdout",
     "output_type": "stream",
     "text": [
      "<class 'int'>\n"
     ]
    }
   ],
   "source": [
    "print(type(8//3))"
   ]
  },
  {
   "cell_type": "code",
   "execution_count": 35,
   "id": "353592a5-3b42-46fb-bf58-46dfc32cbb7f",
   "metadata": {},
   "outputs": [
    {
     "data": {
      "text/plain": [
       "2"
      ]
     },
     "execution_count": 35,
     "metadata": {},
     "output_type": "execute_result"
    }
   ],
   "source": [
    "8%3"
   ]
  },
  {
   "cell_type": "code",
   "execution_count": 36,
   "id": "e4226812-3649-4a60-9c28-e913d3796a73",
   "metadata": {},
   "outputs": [
    {
     "data": {
      "text/plain": [
       "1"
      ]
     },
     "execution_count": 36,
     "metadata": {},
     "output_type": "execute_result"
    }
   ],
   "source": [
    "7%3"
   ]
  },
  {
   "cell_type": "code",
   "execution_count": 37,
   "id": "f10f1bbc-243f-4fdf-91ae-5e358149cca6",
   "metadata": {},
   "outputs": [],
   "source": [
    "score = 1"
   ]
  },
  {
   "cell_type": "code",
   "execution_count": 38,
   "id": "4df57346-ae79-4bc9-a1a5-1cc7a7addb02",
   "metadata": {},
   "outputs": [
    {
     "name": "stdout",
     "output_type": "stream",
     "text": [
      "2\n"
     ]
    }
   ],
   "source": [
    "score +=1\n",
    "print(score)"
   ]
  },
  {
   "cell_type": "code",
   "execution_count": 39,
   "id": "62a3ba38-5eb2-406f-8111-86decf949e17",
   "metadata": {},
   "outputs": [
    {
     "name": "stdout",
     "output_type": "stream",
     "text": [
      "your score is 2\n"
     ]
    }
   ],
   "source": [
    "print(\"your score is \"+str(score))"
   ]
  },
  {
   "cell_type": "code",
   "execution_count": 40,
   "id": "ca5b2c68-1a1b-485f-8028-5e2c384976be",
   "metadata": {},
   "outputs": [],
   "source": [
    "height = 1.8\n",
    "isWinning = True"
   ]
  },
  {
   "cell_type": "code",
   "execution_count": 41,
   "id": "5f4de4b5-b5ca-49c2-9c7e-4388235cf76b",
   "metadata": {},
   "outputs": [
    {
     "name": "stdout",
     "output_type": "stream",
     "text": [
      "your score is 2\n"
     ]
    }
   ],
   "source": [
    "#f-String\n",
    "print(f\"your score is {score}\")"
   ]
  },
  {
   "cell_type": "code",
   "execution_count": 42,
   "id": "1332e7db-15d1-4284-9e07-2b88307b7b13",
   "metadata": {},
   "outputs": [
    {
     "name": "stdout",
     "output_type": "stream",
     "text": [
      "your score is 2, your height is 1.8, you are winning is True\n"
     ]
    }
   ],
   "source": [
    "print(f\"your score is {score}, your height is {height}, you are winning is {isWinning}\")"
   ]
  },
  {
   "cell_type": "code",
   "execution_count": 43,
   "id": "5196e1c5-dcfb-4287-8bf2-8e8cac65bf0c",
   "metadata": {},
   "outputs": [
    {
     "name": "stdin",
     "output_type": "stream",
     "text": [
      " 27\n"
     ]
    },
    {
     "name": "stdout",
     "output_type": "stream",
     "text": [
      "You have 3276 weeks left.\n"
     ]
    }
   ],
   "source": [
    "age = input()\n",
    "# 🚨 Don't change the code above 👆\n",
    "# Write your code below this line 👇\n",
    "\n",
    "left_years = 90 - int(age)\n",
    "left_weeks = left_years*52\n",
    "print(f\"You have {left_weeks} weeks left.\")"
   ]
  },
  {
   "cell_type": "code",
   "execution_count": 44,
   "id": "d71c3740-6017-42a7-a146-f11e5fc0c62a",
   "metadata": {},
   "outputs": [
    {
     "name": "stdout",
     "output_type": "stream",
     "text": [
      "Welcome to the tip calculator.\n"
     ]
    },
    {
     "name": "stdin",
     "output_type": "stream",
     "text": [
      "What was the total bill?  124.56\n",
      "What percentage tip would you like to give?  12\n",
      "How many people to split the bill?  7\n"
     ]
    },
    {
     "name": "stdout",
     "output_type": "stream",
     "text": [
      "Each person sould pay: 19.9296\n"
     ]
    }
   ],
   "source": [
    "#project\n",
    "print(\"Welcome to the tip calculator.\")\n",
    "total_bill = float(input(\"What was the total bill? \"))\n",
    "tip = float(input(\"What percentage tip would you like to give? \"))\n",
    "split_num = int(input(\"How many people to split the bill? \"))\n",
    "final_bill = total_bill*(1+0.01*tip)\n",
    "print(f\"Each person sould pay: {final_bill/split_num}\")"
   ]
  },
  {
   "cell_type": "code",
   "execution_count": 45,
   "id": "88273671-73c4-4d1b-be6c-893273f91b80",
   "metadata": {},
   "outputs": [
    {
     "name": "stdout",
     "output_type": "stream",
     "text": [
      "Welcome to the tip calculator.\n"
     ]
    },
    {
     "name": "stdin",
     "output_type": "stream",
     "text": [
      "What was the total bill?  124.56\n",
      "What percentage tip would you like to give?  12\n",
      "How many people to split the bill?  7\n"
     ]
    },
    {
     "name": "stdout",
     "output_type": "stream",
     "text": [
      "Each person sould pay: 19.93\n"
     ]
    }
   ],
   "source": [
    "#project\n",
    "print(\"Welcome to the tip calculator.\")\n",
    "total_bill = float(input(\"What was the total bill? \"))\n",
    "tip = float(input(\"What percentage tip would you like to give? \"))\n",
    "split_num = int(input(\"How many people to split the bill? \"))\n",
    "final_bill = total_bill*(1+0.01*tip)\n",
    "print(f\"Each person sould pay: {round(final_bill/split_num, 2)}\")"
   ]
  },
  {
   "cell_type": "code",
   "execution_count": null,
   "id": "9a4ea830-7610-4cd2-8b20-7bfd4ea86593",
   "metadata": {},
   "outputs": [],
   "source": []
  }
 ],
 "metadata": {
  "kernelspec": {
   "display_name": "Python 3 (ipykernel)",
   "language": "python",
   "name": "python3"
  },
  "language_info": {
   "codemirror_mode": {
    "name": "ipython",
    "version": 3
   },
   "file_extension": ".py",
   "mimetype": "text/x-python",
   "name": "python",
   "nbconvert_exporter": "python",
   "pygments_lexer": "ipython3",
   "version": "3.9.18"
  }
 },
 "nbformat": 4,
 "nbformat_minor": 5
}
